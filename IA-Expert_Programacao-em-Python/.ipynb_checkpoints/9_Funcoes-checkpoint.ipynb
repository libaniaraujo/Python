{
 "cells": [
  {
   "cell_type": "markdown",
   "id": "90f0a031",
   "metadata": {},
   "source": [
    "# 9. Funções\n",
    "\n",
    "- Trechos de programa que recebem um determinado nome e podem ser chamados várias vezes durante a execução\n",
    "- Principais vantagens: reutilização de código, modularidade e facilidade de manutenção do sistema"
   ]
  },
  {
   "cell_type": "markdown",
   "id": "2b63d915",
   "metadata": {},
   "source": [
    "## 9.1. Função sem parâmetro e sem retorno"
   ]
  },
  {
   "cell_type": "code",
   "execution_count": null,
   "id": "d0e89383",
   "metadata": {},
   "outputs": [],
   "source": [
    "def mensagem():\n",
    "  print('Texto da função')"
   ]
  },
  {
   "cell_type": "code",
   "execution_count": null,
   "id": "b2368044",
   "metadata": {},
   "outputs": [],
   "source": [
    "mensagem()\n",
    "mensagem()\n",
    "mensagem()"
   ]
  },
  {
   "cell_type": "markdown",
   "id": "59fd955a",
   "metadata": {},
   "source": [
    "## 9.2. Função com passagem de parâmetro"
   ]
  },
  {
   "cell_type": "code",
   "execution_count": null,
   "id": "1aea81b8",
   "metadata": {},
   "outputs": [],
   "source": [
    "def mensagem(texto):\n",
    "  print(texto)"
   ]
  },
  {
   "cell_type": "code",
   "execution_count": null,
   "id": "23d91a74",
   "metadata": {},
   "outputs": [],
   "source": [
    "mensagem('texto 1')\n",
    "mensagem('texto 2')\n",
    "mensagem('texto 3')"
   ]
  },
  {
   "cell_type": "code",
   "execution_count": null,
   "id": "fedd5a7d",
   "metadata": {},
   "outputs": [],
   "source": [
    "def soma(a, b):\n",
    "  print(a + b)"
   ]
  },
  {
   "cell_type": "code",
   "execution_count": null,
   "id": "2caf3e4d",
   "metadata": {},
   "outputs": [],
   "source": [
    "soma(2, 3)"
   ]
  },
  {
   "cell_type": "code",
   "execution_count": null,
   "id": "a577ff3a",
   "metadata": {},
   "outputs": [],
   "source": [
    "soma(3, 3)\n",
    "soma(1, 2)"
   ]
  },
  {
   "cell_type": "markdown",
   "id": "a5859494",
   "metadata": {},
   "source": [
    "## 9.3. Função com passagem de parâmetros e retorno"
   ]
  },
  {
   "cell_type": "code",
   "execution_count": null,
   "id": "7b1df021",
   "metadata": {},
   "outputs": [],
   "source": [
    "def soma(a, b):\n",
    "  return a + b"
   ]
  },
  {
   "cell_type": "code",
   "execution_count": null,
   "id": "1371c71b",
   "metadata": {},
   "outputs": [],
   "source": [
    "soma(3, 2)"
   ]
  },
  {
   "cell_type": "code",
   "execution_count": null,
   "id": "6fd4c620",
   "metadata": {},
   "outputs": [],
   "source": [
    "# r = 7\n",
    "r = soma(3, 2)\n",
    "print(r)"
   ]
  },
  {
   "cell_type": "code",
   "execution_count": null,
   "id": "3bc7bebb",
   "metadata": {},
   "outputs": [],
   "source": [
    "def calcula_energia_potencial_gravitacional(m, h, g = 10):\n",
    "  '''\n",
    "  Calcula a energia potencial gravitacional\n",
    "  Argumentos:\n",
    "  m: massa, entrada como uma variável float\n",
    "  h: altura, entrada como uma variável float\n",
    "\n",
    "  Argumento opcional:\n",
    "  g: aceleração gravitacional, com valor default de 10\n",
    "  '''\n",
    "  e = g * m * h\n",
    "  return e"
   ]
  },
  {
   "cell_type": "code",
   "execution_count": null,
   "id": "d4d53994",
   "metadata": {},
   "outputs": [],
   "source": [
    "calcula_energia_potencial_gravitacional(30, 12)"
   ]
  },
  {
   "cell_type": "code",
   "execution_count": null,
   "id": "ee0d87bc",
   "metadata": {},
   "outputs": [],
   "source": [
    "calcula_energia_potencial_gravitacional(30, 12, 9.8)"
   ]
  },
  {
   "cell_type": "code",
   "execution_count": null,
   "id": "73b0e1bb",
   "metadata": {},
   "outputs": [],
   "source": [
    "help(calcula_energia_potencial_gravitacional)"
   ]
  },
  {
   "cell_type": "code",
   "execution_count": null,
   "id": "467964d7",
   "metadata": {},
   "outputs": [],
   "source": []
  }
 ],
 "metadata": {
  "kernelspec": {
   "display_name": "Python 3",
   "language": "python",
   "name": "python3"
  },
  "language_info": {
   "codemirror_mode": {
    "name": "ipython",
    "version": 3
   },
   "file_extension": ".py",
   "mimetype": "text/x-python",
   "name": "python",
   "nbconvert_exporter": "python",
   "pygments_lexer": "ipython3",
   "version": "3.8.8"
  }
 },
 "nbformat": 4,
 "nbformat_minor": 5
}
