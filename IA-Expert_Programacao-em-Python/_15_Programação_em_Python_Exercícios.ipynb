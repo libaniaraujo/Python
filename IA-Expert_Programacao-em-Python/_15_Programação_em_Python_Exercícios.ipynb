{
 "cells": [
  {
   "cell_type": "markdown",
   "id": "46d028b1",
   "metadata": {},
   "source": [
    "## Exercícios"
   ]
  },
  {
   "cell_type": "markdown",
   "id": "da579c26",
   "metadata": {},
   "source": [
    "### Exercício 1\n",
    "- Ler dois números inteiros, executar e mostrar o resultado das seguintes operações: adição, subtração, multiplicação e divisão."
   ]
  },
  {
   "cell_type": "code",
   "execution_count": 1,
   "id": "d12f164e",
   "metadata": {},
   "outputs": [
    {
     "name": "stdout",
     "output_type": "stream",
     "text": [
      "Digite o primeiro número:1\n",
      "Digite o segundo número:2\n"
     ]
    }
   ],
   "source": [
    "numero1 = int(input('Digite o primeiro número:'))\n",
    "numero2 = int(input('Digite o segundo número:'))"
   ]
  },
  {
   "cell_type": "code",
   "execution_count": 2,
   "id": "0723f9a1",
   "metadata": {},
   "outputs": [
    {
     "name": "stdout",
     "output_type": "stream",
     "text": [
      "1 2\n"
     ]
    }
   ],
   "source": [
    "print(numero1, numero2)"
   ]
  },
  {
   "cell_type": "code",
   "execution_count": 3,
   "id": "d9529dc7",
   "metadata": {},
   "outputs": [],
   "source": [
    "adição = numero1 + numero2\n",
    "subtração = numero1 + numero2\n",
    "multiplicação = numero1 * numero2\n",
    "divisão = numero1 / numero2"
   ]
  },
  {
   "cell_type": "code",
   "execution_count": 4,
   "id": "c6cbd920",
   "metadata": {},
   "outputs": [
    {
     "name": "stdout",
     "output_type": "stream",
     "text": [
      "Adição:  3\n",
      "Subtração:  3\n",
      "Multiplicação:  2\n",
      "Divisão:  0.5\n"
     ]
    }
   ],
   "source": [
    "print('Adição: ',adição)\n",
    "print('Subtração: ',subtração)\n",
    "print('Multiplicação: ',multiplicação)\n",
    "print('Divisão: ',round(divisão,2))"
   ]
  },
  {
   "cell_type": "markdown",
   "id": "537ce772",
   "metadata": {},
   "source": [
    "### Exercício 2\n",
    "\n",
    "- Efetuar o cálculo da quantidade de litros de combustível gasto em uma viagem, utilizando um automóvel que faz 12 Km por litro. Para obter o cálculo, o usuário deve fornecer o tempo gasto na viagem e a velocidade média durante ela. Desta forma, será possível obter a distância percorrida com a fórmula DISTANCIA = TEMPO * VELOCIDADE. Tendo o valor da distância, basta calcular a quantidade de litros de combustível utilizada na viagem, com a fórmula: LITROS_USADOS = DISTANCIA / 12. O programa deve apresentar os valores da velocidade média, tempo gasto na viagem, a distância percorrida e a quantidade de litros utilizada na viagem"
   ]
  },
  {
   "cell_type": "code",
   "execution_count": 5,
   "id": "e674fae2",
   "metadata": {},
   "outputs": [
    {
     "name": "stdout",
     "output_type": "stream",
     "text": [
      "Digite o tempo gasto na viagem: 2\n",
      "Digite a velocidade média: 200\n"
     ]
    }
   ],
   "source": [
    "tempo = float(input('Digite o tempo gasto na viagem: '))\n",
    "velocidade = float(input('Digite a velocidade média: '))"
   ]
  },
  {
   "cell_type": "code",
   "execution_count": 6,
   "id": "4248f9fe",
   "metadata": {},
   "outputs": [
    {
     "name": "stdout",
     "output_type": "stream",
     "text": [
      "2.0 200.0\n"
     ]
    }
   ],
   "source": [
    "print(tempo, velocidade)"
   ]
  },
  {
   "cell_type": "code",
   "execution_count": 7,
   "id": "e5d4af9c",
   "metadata": {},
   "outputs": [],
   "source": [
    "distancia = tempo * velocidade\n",
    "litros_usados = distancia / 12"
   ]
  },
  {
   "cell_type": "code",
   "execution_count": 8,
   "id": "ac00c5ea",
   "metadata": {},
   "outputs": [
    {
     "name": "stdout",
     "output_type": "stream",
     "text": [
      "Velocidade média:  200.0\n",
      "Tempo gasto na viagem:  2.0\n",
      "Distância percorrida: 400.0\n",
      "Quantidade de litros: 33.3\n"
     ]
    }
   ],
   "source": [
    "print('Velocidade média: ', velocidade)\n",
    "print('Tempo gasto na viagem: ', tempo)\n",
    "print('Distância percorrida:', distancia)\n",
    "print('Quantidade de litros:', round(litros_usados,1))"
   ]
  },
  {
   "cell_type": "markdown",
   "id": "86aea3b6",
   "metadata": {},
   "source": [
    "### Exercício 3\n",
    "\n",
    "Leia a idade do usuário e classifique-o em:\n",
    "- Criança – 0 a 12 anos\n",
    "- Adolescente – 13 a 17 anos\n",
    "- Adulto – acima de 18 anos -Se o usuário digitar um número negativo, mostrar a mensagem que a idade é inválida"
   ]
  },
  {
   "cell_type": "code",
   "execution_count": 9,
   "id": "11d31dae",
   "metadata": {},
   "outputs": [
    {
     "name": "stdout",
     "output_type": "stream",
     "text": [
      "Digite a idade: 10\n"
     ]
    }
   ],
   "source": [
    "idade = int(input('Digite a idade: '))"
   ]
  },
  {
   "cell_type": "code",
   "execution_count": 10,
   "id": "e6330aed",
   "metadata": {},
   "outputs": [
    {
     "name": "stdout",
     "output_type": "stream",
     "text": [
      "10\n"
     ]
    }
   ],
   "source": [
    "print(idade)"
   ]
  },
  {
   "cell_type": "code",
   "execution_count": 11,
   "id": "f8549c8d",
   "metadata": {},
   "outputs": [
    {
     "name": "stdout",
     "output_type": "stream",
     "text": [
      "Criança\n"
     ]
    }
   ],
   "source": [
    "if idade >= 0 and idade <= 12:\n",
    "  print('Criança')\n",
    "elif idade > 12 and idade <= 18:\n",
    "  print('Adolescente')\n",
    "elif idade > 18:\n",
    "  print('Adulto')\n",
    "else:\n",
    "  print('Idade inválida')"
   ]
  },
  {
   "cell_type": "markdown",
   "id": "96fc6932",
   "metadata": {},
   "source": [
    "### Exercício 4\n",
    "\n",
    "Calcular a média de um aluno que cursou a disciplina de Programação I, a partir da leitura das notas M1, M2 e M3; passando por um cálculo da média aritmética. Após a média calculada, devemos anunciar se o aluno foi aprovado, reprovado ou pegou exame:\n",
    "- Se a média estiver entre 0.0 e 4.0, o aluno está reprovado\n",
    "- Se a média estiver entre 4.1 e 6.0, o aluno pegou exame\n",
    "- Se a média for maior do que 6.0, o aluno está aprovado\n",
    "- Se o aluno pegou exame, deve ser lida a nota do exame. Se a nota do exame for maior do que 6.0, está aprovado, senão; está reprovado"
   ]
  },
  {
   "cell_type": "code",
   "execution_count": 12,
   "id": "a644185d",
   "metadata": {},
   "outputs": [
    {
     "name": "stdout",
     "output_type": "stream",
     "text": [
      "Digite a nota M1: 10\n",
      "Digite a nota M2: 9\n",
      "Digite a nota M3: 8\n"
     ]
    }
   ],
   "source": [
    "m1 = float(input('Digite a nota M1: '))\n",
    "m2 = float(input('Digite a nota M2: '))\n",
    "m3 = float(input('Digite a nota M3: '))"
   ]
  },
  {
   "cell_type": "code",
   "execution_count": 13,
   "id": "74cf0b6a",
   "metadata": {},
   "outputs": [
    {
     "name": "stdout",
     "output_type": "stream",
     "text": [
      "9.0\n"
     ]
    }
   ],
   "source": [
    "media = (m1 + m2 + m3) / 3\n",
    "print(media)"
   ]
  },
  {
   "cell_type": "code",
   "execution_count": 14,
   "id": "fe77ec47",
   "metadata": {},
   "outputs": [
    {
     "name": "stdout",
     "output_type": "stream",
     "text": [
      "Aluno aprovado\n"
     ]
    }
   ],
   "source": [
    "if media >= 0.0 and media <= 4.0:\n",
    "    print('Aluno reprovado')\n",
    "elif media >= 4.1 and media <= 6.0:\n",
    "    exame = float(input('Digite a nota do exame'))\n",
    "    if exame >= 6.0:\n",
    "        print('Aprovado no exame')\n",
    "    else:\n",
    "        print('Reprovado no exame')\n",
    "else:\n",
    "    print('Aluno aprovado')"
   ]
  },
  {
   "cell_type": "markdown",
   "id": "3faac165",
   "metadata": {},
   "source": [
    "###  Exercício 5\n",
    "\n",
    "Ler 4 notas e informar a média"
   ]
  },
  {
   "cell_type": "markdown",
   "id": "ad622d35",
   "metadata": {},
   "source": [
    "#### For"
   ]
  },
  {
   "cell_type": "code",
   "execution_count": 15,
   "id": "f8437bee",
   "metadata": {},
   "outputs": [],
   "source": [
    "nota = media = soma = 0"
   ]
  },
  {
   "cell_type": "code",
   "execution_count": 16,
   "id": "147efb7f",
   "metadata": {},
   "outputs": [
    {
     "name": "stdout",
     "output_type": "stream",
     "text": [
      "0 0 0\n"
     ]
    }
   ],
   "source": [
    "print(nota, media, soma)"
   ]
  },
  {
   "cell_type": "code",
   "execution_count": 17,
   "id": "68ab855b",
   "metadata": {},
   "outputs": [
    {
     "name": "stdout",
     "output_type": "stream",
     "text": [
      "Digite a nota 10\n",
      "Digite a nota 9\n",
      "Digite a nota 8\n",
      "Digite a nota 9\n"
     ]
    }
   ],
   "source": [
    "for _ in range(1, 5):\n",
    "  nota = float(input('Digite a nota '))\n",
    "  soma += nota"
   ]
  },
  {
   "cell_type": "code",
   "execution_count": 18,
   "id": "3dc0174d",
   "metadata": {},
   "outputs": [
    {
     "name": "stdout",
     "output_type": "stream",
     "text": [
      "36.0\n"
     ]
    }
   ],
   "source": [
    "print(soma)"
   ]
  },
  {
   "cell_type": "code",
   "execution_count": 19,
   "id": "cd63a9cb",
   "metadata": {},
   "outputs": [
    {
     "name": "stdout",
     "output_type": "stream",
     "text": [
      "A média é  9.0\n"
     ]
    }
   ],
   "source": [
    "media = soma / 4\n",
    "print('A média é ', media)"
   ]
  },
  {
   "cell_type": "markdown",
   "id": "76d59f05",
   "metadata": {},
   "source": [
    "#### While"
   ]
  },
  {
   "cell_type": "code",
   "execution_count": 20,
   "id": "4c3d219a",
   "metadata": {},
   "outputs": [
    {
     "name": "stdout",
     "output_type": "stream",
     "text": [
      "Digite a nota:10\n",
      "Digite a nota:9\n",
      "Digite a nota:8\n",
      "Digite a nota:9\n",
      "A média é  9.0\n"
     ]
    }
   ],
   "source": [
    "nota = soma = 0\n",
    "numero = 1\n",
    "while numero <= 4:\n",
    "  nota = float(input('Digite a nota:'))\n",
    "  soma += nota\n",
    "  numero += 1\n",
    "print('A média é ', soma / 4)"
   ]
  },
  {
   "cell_type": "markdown",
   "id": "c3a335ce",
   "metadata": {},
   "source": [
    "### Exercício 6\n",
    "\n",
    "Imprimir a tabuada do número 5."
   ]
  },
  {
   "cell_type": "markdown",
   "id": "30df182e",
   "metadata": {},
   "source": [
    "#### For"
   ]
  },
  {
   "cell_type": "code",
   "execution_count": 21,
   "id": "36a4b653",
   "metadata": {},
   "outputs": [
    {
     "name": "stdout",
     "output_type": "stream",
     "text": [
      "5 x 0 = 0\n",
      "5 x 1 = 5\n",
      "5 x 2 = 10\n",
      "5 x 3 = 15\n",
      "5 x 4 = 20\n",
      "5 x 5 = 25\n",
      "5 x 6 = 30\n",
      "5 x 7 = 35\n",
      "5 x 8 = 40\n",
      "5 x 9 = 45\n",
      "5 x 10 = 50\n"
     ]
    }
   ],
   "source": [
    "for i in range(0, 11):\n",
    "  print('5 x {} = {}'.format(i, 5 * i))"
   ]
  },
  {
   "cell_type": "markdown",
   "id": "10a2db2b",
   "metadata": {},
   "source": [
    "#### While"
   ]
  },
  {
   "cell_type": "code",
   "execution_count": 22,
   "id": "5c767a29",
   "metadata": {},
   "outputs": [
    {
     "name": "stdout",
     "output_type": "stream",
     "text": [
      "5 x 0 = 0\n",
      "5 x 1 = 5\n",
      "5 x 2 = 10\n",
      "5 x 3 = 15\n",
      "5 x 4 = 20\n",
      "5 x 5 = 25\n",
      "5 x 6 = 30\n",
      "5 x 7 = 35\n",
      "5 x 8 = 40\n",
      "5 x 9 = 45\n",
      "5 x 10 = 50\n"
     ]
    }
   ],
   "source": [
    "numero = 0\n",
    "while numero <= 10:\n",
    "  print('5 x {} = {}'.format(numero, 5 * numero))\n",
    "  numero += 1"
   ]
  },
  {
   "cell_type": "markdown",
   "id": "514fca7a",
   "metadata": {},
   "source": [
    "### Exercício 7 - listas\n",
    "\n",
    "- Crie uma estrutura de repetição para fazer a leitura de 5 números inteiros e os armazene dentro de uma lista. Após a leitura, crie outra estrutura de repetição para somar todos os valores digitados"
   ]
  },
  {
   "cell_type": "code",
   "execution_count": 27,
   "id": "a0cca7ba",
   "metadata": {},
   "outputs": [
    {
     "name": "stdout",
     "output_type": "stream",
     "text": [
      "Digite o valor: 1\n",
      "Digite o valor: 2\n",
      "Digite o valor: 3\n",
      "Digite o valor: 4\n",
      "Digite o valor: 5\n"
     ]
    }
   ],
   "source": [
    "lista = []\n",
    "for _ in range(1, 6):\n",
    "  valor = int(input('Digite o valor: '))\n",
    "  lista.append(valor)"
   ]
  },
  {
   "cell_type": "code",
   "execution_count": 28,
   "id": "80920836",
   "metadata": {},
   "outputs": [
    {
     "data": {
      "text/plain": [
       "[1, 2, 3, 4, 5]"
      ]
     },
     "execution_count": 28,
     "metadata": {},
     "output_type": "execute_result"
    }
   ],
   "source": [
    "lista"
   ]
  },
  {
   "cell_type": "code",
   "execution_count": 25,
   "id": "ed410fac",
   "metadata": {},
   "outputs": [
    {
     "data": {
      "text/plain": [
       "5"
      ]
     },
     "execution_count": 25,
     "metadata": {},
     "output_type": "execute_result"
    }
   ],
   "source": [
    "len(lista)"
   ]
  },
  {
   "cell_type": "code",
   "execution_count": 30,
   "id": "7a19e8b7",
   "metadata": {},
   "outputs": [
    {
     "name": "stdout",
     "output_type": "stream",
     "text": [
      "Soma:  15\n"
     ]
    }
   ],
   "source": [
    "soma = 0\n",
    "for i in range(len(lista)):\n",
    "  #print(lista[i])\n",
    "  soma += lista[i]\n",
    "print('Soma: ', soma)"
   ]
  },
  {
   "cell_type": "code",
   "execution_count": 31,
   "id": "b8acf94d",
   "metadata": {},
   "outputs": [
    {
     "ename": "AttributeError",
     "evalue": "'list' object has no attribute 'sum'",
     "output_type": "error",
     "traceback": [
      "\u001b[1;31m---------------------------------------------------------------------------\u001b[0m",
      "\u001b[1;31mAttributeError\u001b[0m                            Traceback (most recent call last)",
      "\u001b[1;32m<ipython-input-31-8aeca298dcba>\u001b[0m in \u001b[0;36m<module>\u001b[1;34m\u001b[0m\n\u001b[1;32m----> 1\u001b[1;33m \u001b[0mlista\u001b[0m\u001b[1;33m.\u001b[0m\u001b[0msum\u001b[0m\u001b[1;33m(\u001b[0m\u001b[1;33m)\u001b[0m\u001b[1;33m\u001b[0m\u001b[1;33m\u001b[0m\u001b[0m\n\u001b[0m",
      "\u001b[1;31mAttributeError\u001b[0m: 'list' object has no attribute 'sum'"
     ]
    }
   ],
   "source": [
    "lista.sum()"
   ]
  },
  {
   "cell_type": "code",
   "execution_count": 32,
   "id": "129af19d",
   "metadata": {},
   "outputs": [
    {
     "data": {
      "text/plain": [
       "15"
      ]
     },
     "execution_count": 32,
     "metadata": {},
     "output_type": "execute_result"
    }
   ],
   "source": [
    "import numpy as np\n",
    "np.array(lista).sum()"
   ]
  },
  {
   "cell_type": "markdown",
   "id": "cf256152",
   "metadata": {},
   "source": [
    "### Exercícios 8 - dicionários\n",
    "\n",
    "- Crie um dicionário para armazenar o nome e a nota de 3 alunos, fazendo a leitura dos valores por meio de uma estrutura de repetição. Depois, crie uma nova estrutura de repetição para somar todas as notas e retornar a média"
   ]
  },
  {
   "cell_type": "code",
   "execution_count": 33,
   "id": "3cd1b3aa",
   "metadata": {},
   "outputs": [
    {
     "name": "stdout",
     "output_type": "stream",
     "text": [
      "Digite o nome: Maria\n",
      "Digite a nota: 10\n",
      "Digite o nome: Lucas\n",
      "Digite a nota: 9\n",
      "Digite o nome: Pedro\n",
      "Digite a nota: 10\n"
     ]
    }
   ],
   "source": [
    "alunos = {}\n",
    "for _ in range(1, 4):\n",
    "  nome = input('Digite o nome: ')\n",
    "  nota = float(input('Digite a nota: '))\n",
    "  alunos[nome] = nota "
   ]
  },
  {
   "cell_type": "code",
   "execution_count": 34,
   "id": "bc284f30",
   "metadata": {},
   "outputs": [
    {
     "data": {
      "text/plain": [
       "{'Maria': 10.0, 'Lucas': 9.0, 'Pedro': 10.0}"
      ]
     },
     "execution_count": 34,
     "metadata": {},
     "output_type": "execute_result"
    }
   ],
   "source": [
    "alunos"
   ]
  },
  {
   "cell_type": "code",
   "execution_count": 35,
   "id": "0cd9634f",
   "metadata": {},
   "outputs": [
    {
     "data": {
      "text/plain": [
       "10.0"
      ]
     },
     "execution_count": 35,
     "metadata": {},
     "output_type": "execute_result"
    }
   ],
   "source": [
    "alunos['Maria']"
   ]
  },
  {
   "cell_type": "code",
   "execution_count": 36,
   "id": "887ead7b",
   "metadata": {},
   "outputs": [
    {
     "data": {
      "text/plain": [
       "dict_values([10.0, 9.0, 10.0])"
      ]
     },
     "execution_count": 36,
     "metadata": {},
     "output_type": "execute_result"
    }
   ],
   "source": [
    "alunos.values()"
   ]
  },
  {
   "cell_type": "code",
   "execution_count": 37,
   "id": "c62a6cf6",
   "metadata": {},
   "outputs": [
    {
     "name": "stdout",
     "output_type": "stream",
     "text": [
      "Média:  9.666666666666666\n"
     ]
    }
   ],
   "source": [
    "soma = 0\n",
    "for nota in alunos.values():\n",
    "  #print(nota)\n",
    "  soma += nota\n",
    "print('Média: ', soma / 3)"
   ]
  },
  {
   "cell_type": "markdown",
   "id": "4668d7ef",
   "metadata": {},
   "source": [
    "### Exercício 9: Matriz\n",
    "\n",
    "- Dada a matriz abaixo, construa uma estrutura de repetição para percorrer e somar todos os elementos da matriz"
   ]
  },
  {
   "cell_type": "code",
   "execution_count": 38,
   "id": "a02712ec",
   "metadata": {},
   "outputs": [
    {
     "data": {
      "text/plain": [
       "array([[3, 4, 1],\n",
       "       [3, 1, 5]])"
      ]
     },
     "execution_count": 38,
     "metadata": {},
     "output_type": "execute_result"
    }
   ],
   "source": [
    "matriz = np.array([[3, 4, 1],\n",
    "                   [3, 1, 5]])\n",
    "matriz"
   ]
  },
  {
   "cell_type": "code",
   "execution_count": 39,
   "id": "8ac5704c",
   "metadata": {},
   "outputs": [
    {
     "data": {
      "text/plain": [
       "(2, 3)"
      ]
     },
     "execution_count": 39,
     "metadata": {},
     "output_type": "execute_result"
    }
   ],
   "source": [
    "matriz.shape"
   ]
  },
  {
   "cell_type": "code",
   "execution_count": 40,
   "id": "286fbf82",
   "metadata": {},
   "outputs": [
    {
     "name": "stdout",
     "output_type": "stream",
     "text": [
      "Soma:  17\n"
     ]
    }
   ],
   "source": [
    "soma = 0\n",
    "for i in range(matriz.shape[0]):\n",
    "  for j in range(matriz.shape[1]):\n",
    "    #print(matriz[i][j])\n",
    "    soma += matriz[i][j]\n",
    "print('Soma: ', soma)"
   ]
  },
  {
   "cell_type": "markdown",
   "id": "17fe9ac2",
   "metadata": {},
   "source": [
    "### Exercício 10\n",
    "\n",
    "Ler uma temperatura em graus Celsius e apresentá-la convertida em graus Fahrenheit. A fórmula de conversão é F = (9 * C + 160) / 5, na qual F é a temperatura em Fahrenheit e C é a temperatura em graus Celsius\n",
    "\n",
    "- Função para ler e retorna o valor da temperatura (não recebe parâmetro)\n",
    "- Função para fazer o cálculo (recebe como parâmetro a temperatura em graus Celsius)\n",
    "- Função para mostrar o resultado, recebendo como parâmetro o valor e fazendo a impressão"
   ]
  },
  {
   "cell_type": "code",
   "execution_count": 41,
   "id": "177ef287",
   "metadata": {},
   "outputs": [],
   "source": [
    "def ler_temperatura():\n",
    "  temperatura = float(input('Digite a temperatura em graus Celsius: '))\n",
    "  return temperatura"
   ]
  },
  {
   "cell_type": "code",
   "execution_count": 42,
   "id": "2d43f0d3",
   "metadata": {},
   "outputs": [],
   "source": [
    "def converter(temperatura_celsius):\n",
    "  temperatura_f = (9 * temperatura_celsius + 160) / 5\n",
    "  return temperatura_f"
   ]
  },
  {
   "cell_type": "code",
   "execution_count": 43,
   "id": "8f1aa89a",
   "metadata": {},
   "outputs": [],
   "source": [
    "def mostrar(temperatura_f):\n",
    "  print(temperatura_f)"
   ]
  },
  {
   "cell_type": "code",
   "execution_count": 44,
   "id": "ad6b59b9",
   "metadata": {},
   "outputs": [
    {
     "name": "stdout",
     "output_type": "stream",
     "text": [
      "Digite a temperatura em graus Celsius: 20\n",
      "68.0\n"
     ]
    }
   ],
   "source": [
    "temperatura_c = ler_temperatura()\n",
    "temperatura_f = converter(temperatura_c)\n",
    "mostrar(temperatura_f)"
   ]
  },
  {
   "cell_type": "markdown",
   "id": "92dfef48",
   "metadata": {},
   "source": [
    "### Exercício 11\n",
    "\n",
    "Efetuar o cálculo da quantidade de litros de combustível gasto em uma viagem, utilizando um automóvel que faz 12 Km por litro. Para obter o cálculo, o usuário deve fornecer o tempo gasto na viagem e a velocidade média durante ela. Desta forma, será possível obter a distância percorrida com a fórmula DISTANCIA = TEMPO * VELOCIDADE. Tendo o valor da distância, basta calcular a quantidade de litros de combustível utilizada na viagem, com a fórmula: LITROS_USADOS = DISTANCIA / 12. O programa deve apresentar os valores da velocidade média, tempo gasto na viagem, a distância percorrida e a quantidade de litros utilizada na viagem\n",
    "\n",
    "- Função para ler os valores (não recebe parâmetro e retorna os dois valores)\n",
    "- Função para calcular a distância (recebe como parâmetro o tempo e a velocidade e retorna a distância)\n",
    "- Função para calcular a quantidade de litros (recebe como parâmetro a distância e retorna os litros)\n",
    "- Função para apresentar o resultado (recebe como parâmetro os valores e somente imprime o resultado)"
   ]
  },
  {
   "cell_type": "code",
   "execution_count": 45,
   "id": "971f8171",
   "metadata": {},
   "outputs": [],
   "source": [
    "def leitura():\n",
    "  tempo = float(input('Digite o tempo da viagem: '))\n",
    "  velocidade = float(input('Digite a velocidade média: '))\n",
    "  return tempo, velocidade"
   ]
  },
  {
   "cell_type": "code",
   "execution_count": 46,
   "id": "cad46487",
   "metadata": {},
   "outputs": [],
   "source": [
    "def calcula_distancia(tempo, velocidade):\n",
    "  return tempo * velocidade"
   ]
  },
  {
   "cell_type": "code",
   "execution_count": 47,
   "id": "b11b9184",
   "metadata": {},
   "outputs": [],
   "source": [
    "def calcula_litros(distancia):\n",
    "  return distancia / 12"
   ]
  },
  {
   "cell_type": "code",
   "execution_count": 48,
   "id": "e5e94112",
   "metadata": {},
   "outputs": [],
   "source": [
    "def imprime(velocidade, tempo, distancia, litros):\n",
    "  print('Velocidade:', velocidade)\n",
    "  print('Tempo:', tempo)\n",
    "  print('Distância:', distancia)\n",
    "  print('Litros:', litros)"
   ]
  },
  {
   "cell_type": "code",
   "execution_count": 49,
   "id": "45c87b02",
   "metadata": {},
   "outputs": [
    {
     "name": "stdout",
     "output_type": "stream",
     "text": [
      "Digite o tempo da viagem: 2\n",
      "Digite a velocidade média: 10\n",
      "Velocidade: 10.0\n",
      "Tempo: 2.0\n",
      "Distância: 20.0\n",
      "Litros: 1.6666666666666667\n"
     ]
    }
   ],
   "source": [
    "t, v = leitura()\n",
    "d = calcula_distancia(t, v)\n",
    "l = calcula_litros(d)\n",
    "imprime(v, t, d, l)"
   ]
  },
  {
   "cell_type": "markdown",
   "id": "e8bc29d4",
   "metadata": {},
   "source": [
    "### Exercício 12\n",
    "\n",
    "Crie um arquivo .py com duas funções:\n",
    "- Função para ler um string (recebe como parâmetro uma mensagem e retorna o que o usuário digitou)\n",
    "- Função para ler um número float (recebe como parâmetro uma mensagem e retorna o que o usuário digitou)"
   ]
  },
  {
   "cell_type": "code",
   "execution_count": 52,
   "id": "6fc93d0e",
   "metadata": {},
   "outputs": [
    {
     "name": "stdout",
     "output_type": "stream",
     "text": [
      "Digite o seu nome: Maria\n"
     ]
    }
   ],
   "source": [
    "texto = str(input('Digite o seu nome: '))"
   ]
  },
  {
   "cell_type": "code",
   "execution_count": 53,
   "id": "ccc506d5",
   "metadata": {},
   "outputs": [
    {
     "name": "stdout",
     "output_type": "stream",
     "text": [
      "Maria\n"
     ]
    }
   ],
   "source": [
    "print(texto)"
   ]
  },
  {
   "cell_type": "code",
   "execution_count": 54,
   "id": "ab269440",
   "metadata": {},
   "outputs": [
    {
     "name": "stdout",
     "output_type": "stream",
     "text": [
      "Digite o nome do seu carro: Ford K\n"
     ]
    }
   ],
   "source": [
    "carro = str(input('Digite o nome do seu carro: '))"
   ]
  },
  {
   "cell_type": "code",
   "execution_count": 55,
   "id": "af898dc5",
   "metadata": {},
   "outputs": [
    {
     "name": "stdout",
     "output_type": "stream",
     "text": [
      "Ford K\n"
     ]
    }
   ],
   "source": [
    "print(carro)"
   ]
  },
  {
   "cell_type": "code",
   "execution_count": 56,
   "id": "1d37d645",
   "metadata": {},
   "outputs": [
    {
     "name": "stdout",
     "output_type": "stream",
     "text": [
      "Digite o valor 1: 1\n"
     ]
    }
   ],
   "source": [
    "numero = float(input('Digite o valor 1: '))"
   ]
  },
  {
   "cell_type": "code",
   "execution_count": 57,
   "id": "48e695ea",
   "metadata": {},
   "outputs": [
    {
     "name": "stdout",
     "output_type": "stream",
     "text": [
      "1.0\n"
     ]
    }
   ],
   "source": [
    "print(numero)"
   ]
  },
  {
   "cell_type": "code",
   "execution_count": 58,
   "id": "20246072",
   "metadata": {},
   "outputs": [
    {
     "name": "stdout",
     "output_type": "stream",
     "text": [
      "Digite o valor 2: 2\n"
     ]
    }
   ],
   "source": [
    "numero2 = float(input('Digite o valor 2: '))"
   ]
  },
  {
   "cell_type": "code",
   "execution_count": 59,
   "id": "aae3856a",
   "metadata": {},
   "outputs": [
    {
     "name": "stdout",
     "output_type": "stream",
     "text": [
      "2.0\n"
     ]
    }
   ],
   "source": [
    "print(numero2)"
   ]
  },
  {
   "cell_type": "markdown",
   "id": "b8fc7f58",
   "metadata": {},
   "source": [
    "### Exercício 13\n",
    "\n",
    "Crie uma lista vazia e faça a leitura de dois valores do tipo float, colocando cada um dos valores nas primeiras posições da lista (o valor1 ficará na posição 0 da lista e o valor2 ficará na posição 1 da lista). Faça a divisão dos dois valores e trate as seguintes exceções:\n",
    "- ValueError: se o usuário digitar um caracter\n",
    "- ZeroDivisionError: se o usuário digitar zero e ocorrer erro na divisão\n",
    "- IndexError: caso a divisão seja feita levando em consideração posições que não existem na lista\n",
    "- KeyboardInterrupt: caso o usuário interrompa a execução\n",
    "- Mostra uma mensagem personalizada na ocorrência de cada um desses erros"
   ]
  },
  {
   "cell_type": "code",
   "execution_count": 62,
   "id": "08a1ebda",
   "metadata": {},
   "outputs": [
    {
     "name": "stdout",
     "output_type": "stream",
     "text": [
      "Digite o primeiro valor: 2\n",
      "Digite o segundo valor: 2\n",
      "A divisão é 1.0\n"
     ]
    }
   ],
   "source": [
    "lista = []\n",
    "try:\n",
    "    lista.append(float(input('Digite o primeiro valor: ')))\n",
    "    lista.append(float(input('Digite o segundo valor: ')))\n",
    "    divisao = lista[0] / lista[1]\n",
    "except ValueError:\n",
    "    print('Erro! Valor inválido')\n",
    "except ZeroDivisionError:\n",
    "    print('Erro! Divisão por zero')\n",
    "except IndexError:\n",
    "    print('Erro! Índice inválido')\n",
    "except KeyboardInterrupt:\n",
    "    print('Usuário interrompeu a execução')\n",
    "else:\n",
    "    print(f'A divisão é {divisao}')"
   ]
  },
  {
   "cell_type": "markdown",
   "id": "f31b67f9",
   "metadata": {},
   "source": [
    "### Exercício 14\n",
    "\n",
    "Considerando o dicionário com o nome dos alunos e suas respectivas notas, crie uma estrutura de repetição para percorrer cada elemento do dicionário para gravar cada aluno em um novo arquivo de texto:\n",
    "- Cada aluno deve ocupar uma linha do novo arquivo de texto\n",
    "- O formato deve ser: nome,nota (Pedro,8.0)\n",
    "- Após a criação do arquivo de texto, faça a leitura do arquivo e mostre todos os alunos"
   ]
  },
  {
   "cell_type": "code",
   "execution_count": 63,
   "id": "82c41432",
   "metadata": {},
   "outputs": [
    {
     "data": {
      "text/plain": [
       "{'Pedro': 8.0, 'Maria': 10.0, 'Amilton': 7.5}"
      ]
     },
     "execution_count": 63,
     "metadata": {},
     "output_type": "execute_result"
    }
   ],
   "source": [
    "alunos = {'Pedro': 8.0, 'Maria': 10.0, 'Amilton': 7.5}\n",
    "alunos"
   ]
  },
  {
   "cell_type": "code",
   "execution_count": 64,
   "id": "b2bcabcc",
   "metadata": {},
   "outputs": [],
   "source": [
    "with open('alunos.txt', 'w') as arquivo:\n",
    "  for aluno, nota in alunos.items():\n",
    "    arquivo.write(f'{aluno},{nota}\\n')"
   ]
  },
  {
   "cell_type": "code",
   "execution_count": 65,
   "id": "c431f445",
   "metadata": {},
   "outputs": [
    {
     "name": "stdout",
     "output_type": "stream",
     "text": [
      "Pedro,8.0\n",
      "\n",
      "Maria,10.0\n",
      "\n",
      "Amilton,7.5\n",
      "\n"
     ]
    }
   ],
   "source": [
    "with open('alunos.txt', 'r') as arquivo:\n",
    "  for linha in arquivo:\n",
    "    print(linha)"
   ]
  },
  {
   "cell_type": "markdown",
   "id": "c704b9b4",
   "metadata": {},
   "source": [
    "### Exercício 15\n",
    "\n",
    "Crie expressões regulares para extrair as seguintes informações do texto abaixo (use a função findall):\n",
    "- Números\n",
    "- CEPs\n",
    "- URLs"
   ]
  },
  {
   "cell_type": "code",
   "execution_count": 66,
   "id": "1196d8a0",
   "metadata": {},
   "outputs": [],
   "source": [
    "texto = \"Minha casa fica na rua Carneiro, 78. O CEP é 88388-000 e 11111-111 meu site é https://www.iaexpert.academy http://iaexpert.com.br\""
   ]
  },
  {
   "cell_type": "code",
   "execution_count": 67,
   "id": "eed6cc4b",
   "metadata": {},
   "outputs": [
    {
     "data": {
      "text/plain": [
       "['7',\n",
       " '8',\n",
       " '8',\n",
       " '8',\n",
       " '3',\n",
       " '8',\n",
       " '8',\n",
       " '0',\n",
       " '0',\n",
       " '0',\n",
       " '1',\n",
       " '1',\n",
       " '1',\n",
       " '1',\n",
       " '1',\n",
       " '1',\n",
       " '1',\n",
       " '1']"
      ]
     },
     "execution_count": 67,
     "metadata": {},
     "output_type": "execute_result"
    }
   ],
   "source": [
    "import re\n",
    "re.findall('\\d', texto)"
   ]
  },
  {
   "cell_type": "code",
   "execution_count": 68,
   "id": "2ff5278d",
   "metadata": {},
   "outputs": [
    {
     "data": {
      "text/plain": [
       "['88388-000', '11111-111']"
      ]
     },
     "execution_count": 68,
     "metadata": {},
     "output_type": "execute_result"
    }
   ],
   "source": [
    "re.findall('\\d{5}-\\d{3}', texto)"
   ]
  },
  {
   "cell_type": "code",
   "execution_count": 69,
   "id": "a839e4cf",
   "metadata": {},
   "outputs": [
    {
     "data": {
      "text/plain": [
       "['https://www.iaexpert.academy', 'http://iaexpert.com.br']"
      ]
     },
     "execution_count": 69,
     "metadata": {},
     "output_type": "execute_result"
    }
   ],
   "source": [
    "re.findall('https?://[A-Za-z0-9./]+', texto)"
   ]
  },
  {
   "cell_type": "markdown",
   "id": "aa0dd945",
   "metadata": {},
   "source": [
    "### Exercício 16\n",
    "\n",
    "Crie uma classe chamada aluno com os seguintes atributos:\n",
    "- Nome\n",
    "- Nota 1\n",
    "- Nota 2\n",
    "- Crie um construtor para a classe (init)\n",
    "- Crie as seguintes funções (métodos):\n",
    "\n",
    "Calcula média, retornando a média aritmética entre as notas\n",
    "\n",
    "Mostra dados, que somente imprime o valor de todos os atributos\n",
    "\n",
    "Resultado, que verifica se o aluno está aprovado ou reprovado (se a média for maior ou igual a 6.0, o aluno está aprovado)\n",
    "\n",
    "Crie dois objetos (aluno1 e aluno2) e teste as funções"
   ]
  },
  {
   "cell_type": "code",
   "execution_count": 70,
   "id": "ce839c96",
   "metadata": {},
   "outputs": [],
   "source": [
    "class Aluno:\n",
    "  def __init__(self, nome, nota1, nota2):\n",
    "    self.nome = nome\n",
    "    self.nota1 = nota1\n",
    "    self.nota2 = nota2\n",
    "    self.media = 0.0\n",
    "   \n",
    "  def calcula_media(self):\n",
    "    self.media = (self.nota1 + self.nota2) / 2\n",
    "    return self.media\n",
    "\n",
    "  def mostra_dados(self):\n",
    "    print('Nome: ', self.nome)\n",
    "    print('Nota 1:', self.nota1)\n",
    "    print('Nota 2:', self.nota2)\n",
    "    print('Média:', self.media)\n",
    "  \n",
    "  def resultado(self):\n",
    "    if self.media >= 6.0:\n",
    "      print('Aprovado')\n",
    "    else:\n",
    "      print('Reprovado')"
   ]
  },
  {
   "cell_type": "code",
   "execution_count": 71,
   "id": "12a1339d",
   "metadata": {},
   "outputs": [
    {
     "name": "stdout",
     "output_type": "stream",
     "text": [
      "8.0\n"
     ]
    }
   ],
   "source": [
    "aluno1 = Aluno('Pedro', 7.0, 9.0)\n",
    "media = aluno1.calcula_media()\n",
    "print(media)"
   ]
  },
  {
   "cell_type": "code",
   "execution_count": 72,
   "id": "bbff2b5f",
   "metadata": {},
   "outputs": [
    {
     "name": "stdout",
     "output_type": "stream",
     "text": [
      "Nome:  Pedro\n",
      "Nota 1: 7.0\n",
      "Nota 2: 9.0\n",
      "Média: 8.0\n"
     ]
    }
   ],
   "source": [
    "aluno1.mostra_dados()"
   ]
  },
  {
   "cell_type": "code",
   "execution_count": 73,
   "id": "72526ed7",
   "metadata": {},
   "outputs": [
    {
     "name": "stdout",
     "output_type": "stream",
     "text": [
      "Aprovado\n"
     ]
    }
   ],
   "source": [
    "aluno1.resultado()"
   ]
  },
  {
   "cell_type": "code",
   "execution_count": 74,
   "id": "77abe105",
   "metadata": {},
   "outputs": [
    {
     "name": "stdout",
     "output_type": "stream",
     "text": [
      "Nome:  João\n",
      "Nota 1: 7.0\n",
      "Nota 2: 2.0\n",
      "Média: 4.5\n",
      "Reprovado\n"
     ]
    }
   ],
   "source": [
    "aluno2 = Aluno('João', 7.0, 2.0)\n",
    "media = aluno2.calcula_media()\n",
    "aluno2.mostra_dados()\n",
    "aluno2.resultado()"
   ]
  },
  {
   "cell_type": "code",
   "execution_count": null,
   "id": "98fae8d0",
   "metadata": {},
   "outputs": [],
   "source": []
  }
 ],
 "metadata": {
  "kernelspec": {
   "display_name": "Python 3",
   "language": "python",
   "name": "python3"
  },
  "language_info": {
   "codemirror_mode": {
    "name": "ipython",
    "version": 3
   },
   "file_extension": ".py",
   "mimetype": "text/x-python",
   "name": "python",
   "nbconvert_exporter": "python",
   "pygments_lexer": "ipython3",
   "version": "3.8.8"
  }
 },
 "nbformat": 4,
 "nbformat_minor": 5
}
