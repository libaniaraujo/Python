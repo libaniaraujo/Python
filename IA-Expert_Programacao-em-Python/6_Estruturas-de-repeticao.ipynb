{
 "cells": [
  {
   "cell_type": "markdown",
   "id": "ff31e3a8",
   "metadata": {},
   "source": [
    "# 6. Estruturas de repetição - for e while"
   ]
  },
  {
   "cell_type": "markdown",
   "id": "00faf437",
   "metadata": {},
   "source": [
    "## 6.1. Estruturas de repetição - for"
   ]
  },
  {
   "cell_type": "code",
   "execution_count": 1,
   "id": "f44854a2",
   "metadata": {},
   "outputs": [
    {
     "name": "stdout",
     "output_type": "stream",
     "text": [
      "1\n",
      "2\n",
      "3\n",
      "4\n",
      "5\n"
     ]
    }
   ],
   "source": [
    "print(1)\n",
    "print(2)\n",
    "print(3)\n",
    "print(4)\n",
    "print(5)"
   ]
  },
  {
   "cell_type": "code",
   "execution_count": 2,
   "id": "9a1260a4",
   "metadata": {},
   "outputs": [
    {
     "name": "stdout",
     "output_type": "stream",
     "text": [
      "1\n",
      "2\n",
      "3\n",
      "4\n",
      "5\n"
     ]
    }
   ],
   "source": [
    "for numero in range(1, 6):\n",
    "  print(numero)"
   ]
  },
  {
   "cell_type": "code",
   "execution_count": 3,
   "id": "939f5067",
   "metadata": {},
   "outputs": [
    {
     "name": "stdout",
     "output_type": "stream",
     "text": [
      "5\n",
      "4\n",
      "3\n",
      "2\n",
      "1\n"
     ]
    }
   ],
   "source": [
    "for numero in range(5, 0, -1):\n",
    "  print(numero)"
   ]
  },
  {
   "cell_type": "code",
   "execution_count": 4,
   "id": "3f53a0c6",
   "metadata": {},
   "outputs": [
    {
     "data": {
      "text/plain": [
       "15"
      ]
     },
     "execution_count": 4,
     "metadata": {},
     "output_type": "execute_result"
    }
   ],
   "source": [
    "5 + 4 + 3 + 2 + 1"
   ]
  },
  {
   "cell_type": "code",
   "execution_count": 5,
   "id": "ce9b78e9",
   "metadata": {},
   "outputs": [
    {
     "name": "stdout",
     "output_type": "stream",
     "text": [
      "15\n"
     ]
    }
   ],
   "source": [
    "soma = 0 \n",
    "for numero in range(1, 6):\n",
    "    soma = soma + numero\n",
    "print(soma)"
   ]
  },
  {
   "cell_type": "code",
   "execution_count": 6,
   "id": "a634896c",
   "metadata": {},
   "outputs": [
    {
     "name": "stdout",
     "output_type": "stream",
     "text": [
      "Achou a letra v\n"
     ]
    }
   ],
   "source": [
    "palavra = 'sorvete'\n",
    "for letra in palavra:\n",
    "    if letra == 'v':\n",
    "        print('Achou a letra v')"
   ]
  },
  {
   "cell_type": "code",
   "execution_count": 7,
   "id": "a16cc32a",
   "metadata": {},
   "outputs": [
    {
     "name": "stdout",
     "output_type": "stream",
     "text": [
      "0\n",
      "---\n",
      "0\n",
      "1\n",
      "2\n",
      "\n",
      "1\n",
      "---\n",
      "0\n",
      "1\n",
      "2\n",
      "\n",
      "2\n",
      "---\n",
      "0\n",
      "1\n",
      "2\n",
      "\n",
      "3\n",
      "---\n",
      "0\n",
      "1\n",
      "2\n",
      "\n",
      "4\n",
      "---\n",
      "0\n",
      "1\n",
      "2\n",
      "\n"
     ]
    }
   ],
   "source": [
    "for i in range(0,5):\n",
    "  print(i)\n",
    "  print('---')\n",
    "  for j in range(0,3):\n",
    "    print(j)\n",
    "  print()"
   ]
  },
  {
   "cell_type": "markdown",
   "id": "4dd61b95",
   "metadata": {},
   "source": [
    "## 6.2. Estruturas de repetição - while"
   ]
  },
  {
   "cell_type": "code",
   "execution_count": 8,
   "id": "c46c1a75",
   "metadata": {},
   "outputs": [
    {
     "name": "stdout",
     "output_type": "stream",
     "text": [
      "1\n",
      "2\n",
      "3\n",
      "4\n",
      "5\n",
      "---\n"
     ]
    }
   ],
   "source": [
    "numero = 1\n",
    "while numero < 6:\n",
    "  print(numero)\n",
    "  numero += 1\n",
    "print('---')"
   ]
  },
  {
   "cell_type": "code",
   "execution_count": 9,
   "id": "78135d65",
   "metadata": {},
   "outputs": [
    {
     "name": "stdout",
     "output_type": "stream",
     "text": [
      "5\n",
      "4\n",
      "3\n",
      "2\n",
      "1\n"
     ]
    }
   ],
   "source": [
    "numero = 5\n",
    "while numero > 0:\n",
    "  print(numero)\n",
    "  numero -= 1"
   ]
  },
  {
   "cell_type": "code",
   "execution_count": 10,
   "id": "0d813d76",
   "metadata": {},
   "outputs": [
    {
     "data": {
      "text/plain": [
       "15"
      ]
     },
     "execution_count": 10,
     "metadata": {},
     "output_type": "execute_result"
    }
   ],
   "source": [
    "1 + 2 + 3 + 4 + 5"
   ]
  },
  {
   "cell_type": "code",
   "execution_count": 11,
   "id": "b2d3e3f8",
   "metadata": {},
   "outputs": [
    {
     "name": "stdout",
     "output_type": "stream",
     "text": [
      "15\n"
     ]
    }
   ],
   "source": [
    "soma = 0\n",
    "numero = 1\n",
    "while numero < 6:\n",
    "  soma += numero\n",
    "  numero += 1\n",
    "print(soma)"
   ]
  },
  {
   "cell_type": "code",
   "execution_count": 14,
   "id": "26788ab4",
   "metadata": {},
   "outputs": [
    {
     "name": "stdout",
     "output_type": "stream",
     "text": [
      "Digite um número de 1 a 10: 5\n",
      "Digite um número de 1 a 10: 6\n",
      "Digite um número de 1 a 10: 7\n",
      "Digite um número de 1 a 10: 8\n",
      "Digite um número de 1 a 10: 9\n",
      "Digite um número de 1 a 10: 0\n",
      "Digite um número de 1 a 10: 0\n",
      "Digite um número de 1 a 10: 0\n",
      "Digite um número de 1 a 10: 5\n",
      "Digite um número de 1 a 10: 4\n",
      "Digite um número de 1 a 10: 1\n",
      "Digite um número de 1 a 10: 3\n",
      "Digite um número de 1 a 10: 12\n"
     ]
    },
    {
     "ename": "KeyboardInterrupt",
     "evalue": "Interrupted by user",
     "output_type": "error",
     "traceback": [
      "\u001b[1;31m---------------------------------------------------------------------------\u001b[0m",
      "\u001b[1;31mKeyboardInterrupt\u001b[0m                         Traceback (most recent call last)",
      "\u001b[1;32m<ipython-input-14-2c152c25c000>\u001b[0m in \u001b[0;36m<module>\u001b[1;34m\u001b[0m\n\u001b[0;32m      1\u001b[0m \u001b[0mnumero\u001b[0m \u001b[1;33m=\u001b[0m \u001b[1;36m12\u001b[0m\u001b[1;33m\u001b[0m\u001b[1;33m\u001b[0m\u001b[0m\n\u001b[0;32m      2\u001b[0m \u001b[1;32mwhile\u001b[0m \u001b[0mnumero\u001b[0m \u001b[1;33m>\u001b[0m \u001b[1;36m1\u001b[0m \u001b[1;32mor\u001b[0m \u001b[0mnumero\u001b[0m \u001b[1;33m<\u001b[0m \u001b[1;36m10\u001b[0m\u001b[1;33m:\u001b[0m\u001b[1;33m\u001b[0m\u001b[1;33m\u001b[0m\u001b[0m\n\u001b[1;32m----> 3\u001b[1;33m   \u001b[0mnumero\u001b[0m \u001b[1;33m=\u001b[0m \u001b[0mint\u001b[0m\u001b[1;33m(\u001b[0m\u001b[0minput\u001b[0m\u001b[1;33m(\u001b[0m\u001b[1;34m'Digite um número de 1 a 10: '\u001b[0m\u001b[1;33m)\u001b[0m\u001b[1;33m)\u001b[0m\u001b[1;33m\u001b[0m\u001b[1;33m\u001b[0m\u001b[0m\n\u001b[0m",
      "\u001b[1;32m~\\anaconda3\\lib\\site-packages\\ipykernel\\kernelbase.py\u001b[0m in \u001b[0;36mraw_input\u001b[1;34m(self, prompt)\u001b[0m\n\u001b[0;32m    858\u001b[0m                 \u001b[1;34m\"raw_input was called, but this frontend does not support input requests.\"\u001b[0m\u001b[1;33m\u001b[0m\u001b[1;33m\u001b[0m\u001b[0m\n\u001b[0;32m    859\u001b[0m             )\n\u001b[1;32m--> 860\u001b[1;33m         return self._input_request(str(prompt),\n\u001b[0m\u001b[0;32m    861\u001b[0m             \u001b[0mself\u001b[0m\u001b[1;33m.\u001b[0m\u001b[0m_parent_ident\u001b[0m\u001b[1;33m,\u001b[0m\u001b[1;33m\u001b[0m\u001b[1;33m\u001b[0m\u001b[0m\n\u001b[0;32m    862\u001b[0m             \u001b[0mself\u001b[0m\u001b[1;33m.\u001b[0m\u001b[0m_parent_header\u001b[0m\u001b[1;33m,\u001b[0m\u001b[1;33m\u001b[0m\u001b[1;33m\u001b[0m\u001b[0m\n",
      "\u001b[1;32m~\\anaconda3\\lib\\site-packages\\ipykernel\\kernelbase.py\u001b[0m in \u001b[0;36m_input_request\u001b[1;34m(self, prompt, ident, parent, password)\u001b[0m\n\u001b[0;32m    902\u001b[0m             \u001b[1;32mexcept\u001b[0m \u001b[0mKeyboardInterrupt\u001b[0m\u001b[1;33m:\u001b[0m\u001b[1;33m\u001b[0m\u001b[1;33m\u001b[0m\u001b[0m\n\u001b[0;32m    903\u001b[0m                 \u001b[1;31m# re-raise KeyboardInterrupt, to truncate traceback\u001b[0m\u001b[1;33m\u001b[0m\u001b[1;33m\u001b[0m\u001b[1;33m\u001b[0m\u001b[0m\n\u001b[1;32m--> 904\u001b[1;33m                 \u001b[1;32mraise\u001b[0m \u001b[0mKeyboardInterrupt\u001b[0m\u001b[1;33m(\u001b[0m\u001b[1;34m\"Interrupted by user\"\u001b[0m\u001b[1;33m)\u001b[0m \u001b[1;32mfrom\u001b[0m \u001b[1;32mNone\u001b[0m\u001b[1;33m\u001b[0m\u001b[1;33m\u001b[0m\u001b[0m\n\u001b[0m\u001b[0;32m    905\u001b[0m             \u001b[1;32mexcept\u001b[0m \u001b[0mException\u001b[0m \u001b[1;32mas\u001b[0m \u001b[0me\u001b[0m\u001b[1;33m:\u001b[0m\u001b[1;33m\u001b[0m\u001b[1;33m\u001b[0m\u001b[0m\n\u001b[0;32m    906\u001b[0m                 \u001b[0mself\u001b[0m\u001b[1;33m.\u001b[0m\u001b[0mlog\u001b[0m\u001b[1;33m.\u001b[0m\u001b[0mwarning\u001b[0m\u001b[1;33m(\u001b[0m\u001b[1;34m\"Invalid Message:\"\u001b[0m\u001b[1;33m,\u001b[0m \u001b[0mexc_info\u001b[0m\u001b[1;33m=\u001b[0m\u001b[1;32mTrue\u001b[0m\u001b[1;33m)\u001b[0m\u001b[1;33m\u001b[0m\u001b[1;33m\u001b[0m\u001b[0m\n",
      "\u001b[1;31mKeyboardInterrupt\u001b[0m: Interrupted by user"
     ]
    }
   ],
   "source": [
    "numero = 12\n",
    "while numero > 1 or numero < 10:\n",
    "  numero = int(input('Digite um número de 1 a 10: '))"
   ]
  },
  {
   "cell_type": "code",
   "execution_count": null,
   "id": "6fe5afd6",
   "metadata": {},
   "outputs": [],
   "source": []
  }
 ],
 "metadata": {
  "kernelspec": {
   "display_name": "Python 3",
   "language": "python",
   "name": "python3"
  },
  "language_info": {
   "codemirror_mode": {
    "name": "ipython",
    "version": 3
   },
   "file_extension": ".py",
   "mimetype": "text/x-python",
   "name": "python",
   "nbconvert_exporter": "python",
   "pygments_lexer": "ipython3",
   "version": "3.8.8"
  }
 },
 "nbformat": 4,
 "nbformat_minor": 5
}
