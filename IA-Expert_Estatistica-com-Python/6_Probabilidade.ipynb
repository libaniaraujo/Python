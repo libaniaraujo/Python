{
 "cells": [
  {
   "cell_type": "markdown",
   "id": "58e9666e",
   "metadata": {},
   "source": [
    "# Estatística para Machine Learning"
   ]
  },
  {
   "cell_type": "markdown",
   "id": "03d9efe8",
   "metadata": {},
   "source": [
    "## 6. Probabilidade"
   ]
  },
  {
   "cell_type": "code",
   "execution_count": 1,
   "id": "d145c7a5",
   "metadata": {},
   "outputs": [],
   "source": [
    "import numpy as np\n",
    "from scipy import stats\n",
    "import seaborn as sns"
   ]
  },
  {
   "cell_type": "markdown",
   "id": "48f9130d",
   "metadata": {},
   "source": [
    "### 6.1. Permutação"
   ]
  },
  {
   "cell_type": "code",
   "execution_count": 2,
   "id": "7989b30a",
   "metadata": {},
   "outputs": [],
   "source": [
    "import math"
   ]
  },
  {
   "cell_type": "code",
   "execution_count": 3,
   "id": "b17ceb6d",
   "metadata": {},
   "outputs": [
    {
     "data": {
      "text/plain": [
       "6"
      ]
     },
     "execution_count": 3,
     "metadata": {},
     "output_type": "execute_result"
    }
   ],
   "source": [
    "math.factorial(3)"
   ]
  },
  {
   "cell_type": "code",
   "execution_count": 4,
   "id": "6268edab",
   "metadata": {},
   "outputs": [
    {
     "data": {
      "text/plain": [
       "45239040.0"
      ]
     },
     "execution_count": 4,
     "metadata": {},
     "output_type": "execute_result"
    }
   ],
   "source": [
    "math.factorial(36) / math.factorial(36 - 5)"
   ]
  },
  {
   "cell_type": "code",
   "execution_count": 5,
   "id": "cafe475b",
   "metadata": {},
   "outputs": [
    {
     "data": {
      "text/plain": [
       "60466176.0"
      ]
     },
     "execution_count": 5,
     "metadata": {},
     "output_type": "execute_result"
    }
   ],
   "source": [
    "math.pow(36, 5)"
   ]
  },
  {
   "cell_type": "markdown",
   "id": "e0500a0f",
   "metadata": {},
   "source": [
    "### 6.2. Combinação"
   ]
  },
  {
   "cell_type": "code",
   "execution_count": 6,
   "id": "d0e1aab2",
   "metadata": {},
   "outputs": [
    {
     "data": {
      "text/plain": [
       "15.0"
      ]
     },
     "execution_count": 6,
     "metadata": {},
     "output_type": "execute_result"
    }
   ],
   "source": [
    "math.factorial(6) / (math.factorial(2) * math.factorial(6 - 2))"
   ]
  },
  {
   "cell_type": "code",
   "execution_count": 7,
   "id": "dcccb4ff",
   "metadata": {},
   "outputs": [
    {
     "data": {
      "text/plain": [
       "21.0"
      ]
     },
     "execution_count": 7,
     "metadata": {},
     "output_type": "execute_result"
    }
   ],
   "source": [
    "math.factorial(6 + 2 - 1) / (math.factorial(2) * math.factorial(6 - 1))"
   ]
  },
  {
   "cell_type": "markdown",
   "id": "6cf13fb0",
   "metadata": {},
   "source": [
    "### 6.3. Interseção, união e diferença"
   ]
  },
  {
   "cell_type": "code",
   "execution_count": 8,
   "id": "6f717d9c",
   "metadata": {},
   "outputs": [],
   "source": [
    "a = (0,1,2,3,4,5,6,7)\n",
    "b = (0,2,4,6,8)"
   ]
  },
  {
   "cell_type": "markdown",
   "id": "86590737",
   "metadata": {},
   "source": [
    "#### 6.3.1. Interseção"
   ]
  },
  {
   "cell_type": "code",
   "execution_count": 9,
   "id": "82a8f95c",
   "metadata": {},
   "outputs": [
    {
     "data": {
      "text/plain": [
       "{0, 2, 4, 6, 8}"
      ]
     },
     "execution_count": 9,
     "metadata": {},
     "output_type": "execute_result"
    }
   ],
   "source": [
    "set(a) and set(b)"
   ]
  },
  {
   "cell_type": "markdown",
   "id": "99ce068e",
   "metadata": {},
   "source": [
    "#### 6.3.2. União"
   ]
  },
  {
   "cell_type": "code",
   "execution_count": 10,
   "id": "bbeb2b48",
   "metadata": {},
   "outputs": [
    {
     "data": {
      "text/plain": [
       "{0, 1, 2, 3, 4, 5, 6, 7, 8}"
      ]
     },
     "execution_count": 10,
     "metadata": {},
     "output_type": "execute_result"
    }
   ],
   "source": [
    "set(a) | set(b)"
   ]
  },
  {
   "cell_type": "markdown",
   "id": "816092c4",
   "metadata": {},
   "source": [
    "#### 6.3.3. Diferença"
   ]
  },
  {
   "cell_type": "code",
   "execution_count": 11,
   "id": "2856cb64",
   "metadata": {},
   "outputs": [
    {
     "data": {
      "text/plain": [
       "{1, 3, 5, 7}"
      ]
     },
     "execution_count": 11,
     "metadata": {},
     "output_type": "execute_result"
    }
   ],
   "source": [
    "set(a).difference(set(b))"
   ]
  },
  {
   "cell_type": "code",
   "execution_count": 12,
   "id": "d2f57e62",
   "metadata": {},
   "outputs": [
    {
     "data": {
      "text/plain": [
       "{8}"
      ]
     },
     "execution_count": 12,
     "metadata": {},
     "output_type": "execute_result"
    }
   ],
   "source": [
    "set(b).difference(set(a))"
   ]
  },
  {
   "cell_type": "markdown",
   "id": "8cb98904",
   "metadata": {},
   "source": [
    "### 6.4. Probabilidade e distribuição normal"
   ]
  },
  {
   "cell_type": "code",
   "execution_count": 13,
   "id": "cc127d64",
   "metadata": {},
   "outputs": [],
   "source": [
    "dados = np.array([126. , 129.5, 133. , 133. , 136.5, 136.5, 140. , 140. , 140. ,\n",
    "                  140. , 143.5, 143.5, 143.5, 143.5, 143.5, 143.5, 147. , 147. ,\n",
    "                  147. , 147. , 147. , 147. , 147. , 150.5, 150.5, 150.5, 150.5,\n",
    "                  150.5, 150.5, 150.5, 150.5, 154. , 154. , 154. , 154. , 154. ,\n",
    "                  154. , 154. , 154. , 154. , 157.5, 157.5, 157.5, 157.5, 157.5,\n",
    "                  157.5, 157.5, 157.5, 157.5, 157.5, 161. , 161. , 161. , 161. ,\n",
    "                  161. , 161. , 161. , 161. , 161. , 161. , 164.5, 164.5, 164.5,\n",
    "                  164.5, 164.5, 164.5, 164.5, 164.5, 164.5, 168. , 168. , 168. ,\n",
    "                  168. , 168. , 168. , 168. , 168. , 171.5, 171.5, 171.5, 171.5,\n",
    "                  171.5, 171.5, 171.5, 175. , 175. , 175. , 175. , 175. , 175. ,\n",
    "                  178.5, 178.5, 178.5, 178.5, 182. , 182. , 185.5, 185.5, 189., 192.5])"
   ]
  },
  {
   "cell_type": "code",
   "execution_count": 14,
   "id": "a6323a7f",
   "metadata": {},
   "outputs": [
    {
     "data": {
      "image/png": "[encoded data removed]",
      "text/plain": [
       "<Figure size 432x288 with 1 Axes>"
      ]
     },
     "metadata": {
      "needs_background": "light"
     },
     "output_type": "display_data"
    }
   ],
   "source": [
    "sns.distplot(dados);"
   ]
  },
  {
   "cell_type": "code",
   "execution_count": 15,
   "id": "a5625686",
   "metadata": {},
   "outputs": [
    {
     "data": {
      "text/plain": [
       "(159.25, 13.65)"
      ]
     },
     "execution_count": 15,
     "metadata": {},
     "output_type": "execute_result"
    }
   ],
   "source": [
    "media = np.mean(dados)\n",
    "desvio_padrao = np.std(dados)\n",
    "media, desvio_padrao"
   ]
  },
  {
   "cell_type": "code",
   "execution_count": 16,
   "id": "6befb2ca",
   "metadata": {},
   "outputs": [
    {
     "data": {
      "text/plain": [
       "array([150.5 , 159.25, 168.  ])"
      ]
     },
     "execution_count": 16,
     "metadata": {},
     "output_type": "execute_result"
    }
   ],
   "source": [
    "np.quantile(dados, [0.25, 0.50, 0.75])"
   ]
  },
  {
   "cell_type": "markdown",
   "id": "3948bed6",
   "metadata": {},
   "source": [
    "### - Calcular a probabilidade de selecionar uma pessoa em Q1"
   ]
  },
  {
   "cell_type": "code",
   "execution_count": 17,
   "id": "aac679e1",
   "metadata": {},
   "outputs": [
    {
     "data": {
      "text/plain": [
       "-0.641025641025641"
      ]
     },
     "execution_count": 17,
     "metadata": {},
     "output_type": "execute_result"
    }
   ],
   "source": [
    "(150.5 - media) / desvio_padrao"
   ]
  },
  {
   "cell_type": "code",
   "execution_count": 18,
   "id": "0b22c351",
   "metadata": {},
   "outputs": [
    {
     "data": {
      "text/plain": [
       "0.26109"
      ]
     },
     "execution_count": 18,
     "metadata": {},
     "output_type": "execute_result"
    }
   ],
   "source": [
    "0.26109"
   ]
  },
  {
   "cell_type": "code",
   "execution_count": 19,
   "id": "e41324dd",
   "metadata": {},
   "outputs": [
    {
     "data": {
      "text/plain": [
       "0.26075301195608336"
      ]
     },
     "execution_count": 19,
     "metadata": {},
     "output_type": "execute_result"
    }
   ],
   "source": [
    "stats.norm.cdf(150.5, media, desvio_padrao)"
   ]
  },
  {
   "cell_type": "markdown",
   "id": "1a6d370c",
   "metadata": {},
   "source": [
    "### - Calcular a probabilidade de selecionar uma pessoa em Q3"
   ]
  },
  {
   "cell_type": "code",
   "execution_count": 20,
   "id": "63bb8012",
   "metadata": {},
   "outputs": [
    {
     "data": {
      "text/plain": [
       "0.641025641025641"
      ]
     },
     "execution_count": 20,
     "metadata": {},
     "output_type": "execute_result"
    }
   ],
   "source": [
    "(168 - media) / desvio_padrao"
   ]
  },
  {
   "cell_type": "code",
   "execution_count": 21,
   "id": "5e4d6622",
   "metadata": {},
   "outputs": [
    {
     "data": {
      "text/plain": [
       "0.73891"
      ]
     },
     "execution_count": 21,
     "metadata": {},
     "output_type": "execute_result"
    }
   ],
   "source": [
    "0.73891"
   ]
  },
  {
   "cell_type": "code",
   "execution_count": 22,
   "id": "69c6c559",
   "metadata": {},
   "outputs": [
    {
     "data": {
      "text/plain": [
       "0.26109000000000004"
      ]
     },
     "execution_count": 22,
     "metadata": {},
     "output_type": "execute_result"
    }
   ],
   "source": [
    "1 - 0.73891"
   ]
  },
  {
   "cell_type": "code",
   "execution_count": 23,
   "id": "4717bca1",
   "metadata": {},
   "outputs": [
    {
     "data": {
      "text/plain": [
       "0.26075301195608336"
      ]
     },
     "execution_count": 23,
     "metadata": {},
     "output_type": "execute_result"
    }
   ],
   "source": [
    "1 - stats.norm.cdf(168, media, desvio_padrao)"
   ]
  },
  {
   "cell_type": "code",
   "execution_count": 24,
   "id": "03f07af6",
   "metadata": {},
   "outputs": [
    {
     "data": {
      "text/plain": [
       "0.26075301195608336"
      ]
     },
     "execution_count": 24,
     "metadata": {},
     "output_type": "execute_result"
    }
   ],
   "source": [
    "stats.norm.sf(168, media, desvio_padrao)"
   ]
  },
  {
   "cell_type": "markdown",
   "id": "40356197",
   "metadata": {},
   "source": [
    "### - Calcular a probabilidade de selecionar uma pessoa entre Q2 e Q3"
   ]
  },
  {
   "cell_type": "code",
   "execution_count": 25,
   "id": "366ddf3d",
   "metadata": {},
   "outputs": [
    {
     "data": {
      "text/plain": [
       "0.52218"
      ]
     },
     "execution_count": 25,
     "metadata": {},
     "output_type": "execute_result"
    }
   ],
   "source": [
    "0.26109 + 0.26109"
   ]
  },
  {
   "cell_type": "markdown",
   "id": "bff2cc4d",
   "metadata": {},
   "source": [
    "### - Calcular a probabilidade de não selecionar uma pessoa em Q1 ou Q3"
   ]
  },
  {
   "cell_type": "code",
   "execution_count": 26,
   "id": "3b5feb66",
   "metadata": {},
   "outputs": [
    {
     "data": {
      "text/plain": [
       "0.47782"
      ]
     },
     "execution_count": 26,
     "metadata": {},
     "output_type": "execute_result"
    }
   ],
   "source": [
    "1 - 0.52218"
   ]
  },
  {
   "cell_type": "markdown",
   "id": "15fa56da",
   "metadata": {},
   "source": [
    "### Exercício 1\n",
    "- Uma empresa fez um concurso para seleção de novos funcionários. A prova tinha 50 questões e o Pedro acertou 40 questões. Considerando uma distribuição normal com média 24 e desvio padrão de 8, quais são as chances dele ser contratado?"
   ]
  },
  {
   "cell_type": "code",
   "execution_count": 27,
   "id": "d7c8c976",
   "metadata": {},
   "outputs": [],
   "source": [
    "X = 40\n",
    "media = 24\n",
    "desvio_padrao = 8"
   ]
  },
  {
   "cell_type": "code",
   "execution_count": 28,
   "id": "9f16355b",
   "metadata": {},
   "outputs": [
    {
     "data": {
      "text/plain": [
       "2.0"
      ]
     },
     "execution_count": 28,
     "metadata": {},
     "output_type": "execute_result"
    }
   ],
   "source": [
    "padronizado = (X - media) / desvio_padrao\n",
    "padronizado"
   ]
  },
  {
   "cell_type": "code",
   "execution_count": 29,
   "id": "f443ca54",
   "metadata": {},
   "outputs": [
    {
     "data": {
      "text/plain": [
       "0.97725"
      ]
     },
     "execution_count": 29,
     "metadata": {},
     "output_type": "execute_result"
    }
   ],
   "source": [
    "0.97725"
   ]
  },
  {
   "cell_type": "code",
   "execution_count": 30,
   "id": "3e6492fa",
   "metadata": {},
   "outputs": [
    {
     "data": {
      "text/plain": [
       "0.9535213421362799"
      ]
     },
     "execution_count": 30,
     "metadata": {},
     "output_type": "execute_result"
    }
   ],
   "source": [
    "stats.norm.cdf(1.68)"
   ]
  },
  {
   "cell_type": "code",
   "execution_count": 31,
   "id": "6a007599",
   "metadata": {},
   "outputs": [
    {
     "data": {
      "text/plain": [
       "1.68"
      ]
     },
     "execution_count": 31,
     "metadata": {},
     "output_type": "execute_result"
    }
   ],
   "source": [
    "stats.norm.ppf(0.9535213421362799)"
   ]
  },
  {
   "cell_type": "code",
   "execution_count": 32,
   "id": "af3d225c",
   "metadata": {},
   "outputs": [
    {
     "data": {
      "text/plain": [
       "0.9772498680518208"
      ]
     },
     "execution_count": 32,
     "metadata": {},
     "output_type": "execute_result"
    }
   ],
   "source": [
    "stats.norm.cdf(X, media, desvio_padrao)"
   ]
  },
  {
   "cell_type": "markdown",
   "id": "6c9109d1",
   "metadata": {},
   "source": [
    "### Exercício 2\n",
    "- A vida útil de uma marca de pneus é representada por uma distribuição normal com média de 38.000 Km e desvio padrão de 3.000 Km\n",
    "1. Qual a probabilidade de que um pneu escolhido aleatoriamente tenha vida útil de 35.000 Km?\n",
    "2. Qual a probabilidade de que ele dure mais do que 44.000 Km?"
   ]
  },
  {
   "cell_type": "markdown",
   "id": "bcc3372d",
   "metadata": {},
   "source": [
    "#### Questão 1"
   ]
  },
  {
   "cell_type": "code",
   "execution_count": 33,
   "id": "dd448e7e",
   "metadata": {},
   "outputs": [
    {
     "data": {
      "text/plain": [
       "0.8413447460685429"
      ]
     },
     "execution_count": 33,
     "metadata": {},
     "output_type": "execute_result"
    }
   ],
   "source": [
    "1 - stats.norm.cdf(35000, 38000, 3000)"
   ]
  },
  {
   "cell_type": "code",
   "execution_count": 34,
   "id": "4759d7c1",
   "metadata": {},
   "outputs": [
    {
     "data": {
      "text/plain": [
       "0.8413447460685429"
      ]
     },
     "execution_count": 34,
     "metadata": {},
     "output_type": "execute_result"
    }
   ],
   "source": [
    "stats.norm.sf(35000, 38000, 3000)"
   ]
  },
  {
   "cell_type": "markdown",
   "id": "ff75fc4f",
   "metadata": {},
   "source": [
    "#### Questão 2"
   ]
  },
  {
   "cell_type": "code",
   "execution_count": 35,
   "id": "ba383789",
   "metadata": {},
   "outputs": [
    {
     "data": {
      "text/plain": [
       "0.02275013194817921"
      ]
     },
     "execution_count": 35,
     "metadata": {},
     "output_type": "execute_result"
    }
   ],
   "source": [
    "1 - stats.norm.cdf(44000, 38000, 3000)"
   ]
  },
  {
   "cell_type": "code",
   "execution_count": 36,
   "id": "fa361039",
   "metadata": {},
   "outputs": [
    {
     "data": {
      "text/plain": [
       "2.2750131948179195"
      ]
     },
     "execution_count": 36,
     "metadata": {},
     "output_type": "execute_result"
    }
   ],
   "source": [
    "stats.norm.sf(44000, 38000, 3000) * 100"
   ]
  },
  {
   "cell_type": "markdown",
   "id": "d72a8764",
   "metadata": {},
   "source": [
    "### 6.4. Probabilidade e distribuição binomial"
   ]
  },
  {
   "cell_type": "markdown",
   "id": "9b57129d",
   "metadata": {},
   "source": [
    "#### Exemplo das moedas\n",
    "\n",
    "- Jogando a moeda 10 vezes, qual a probabilidade de obter 5 \"caras\"?"
   ]
  },
  {
   "cell_type": "code",
   "execution_count": 37,
   "id": "b1adc191",
   "metadata": {},
   "outputs": [],
   "source": [
    "n = 10\n",
    "x = 5\n",
    "p = 0.5"
   ]
  },
  {
   "cell_type": "code",
   "execution_count": 38,
   "id": "b75da659",
   "metadata": {},
   "outputs": [
    {
     "data": {
      "text/plain": [
       "0.24609375"
      ]
     },
     "execution_count": 38,
     "metadata": {},
     "output_type": "execute_result"
    }
   ],
   "source": [
    "import math\n",
    "(math.factorial(n))/(math.factorial(x) * math.factorial(n-x)) * math.pow(p, x) * math.pow(1 - p, n - x)"
   ]
  },
  {
   "cell_type": "code",
   "execution_count": 39,
   "id": "3151784d",
   "metadata": {},
   "outputs": [
    {
     "data": {
      "text/plain": [
       "0.24609375000000025"
      ]
     },
     "execution_count": 39,
     "metadata": {},
     "output_type": "execute_result"
    }
   ],
   "source": [
    "stats.binom.pmf(x, n, p)"
   ]
  },
  {
   "cell_type": "markdown",
   "id": "e40d21c0",
   "metadata": {},
   "source": [
    "#### Exercício 1\n",
    "- 70% das pessoas que compraram o livro de Python são mulheres. Se 10 leitores forem selecionados randomicamente, qual a probabilidade de selecionarmos 7 mulheres?"
   ]
  },
  {
   "cell_type": "code",
   "execution_count": 40,
   "id": "9bc8ee47",
   "metadata": {},
   "outputs": [],
   "source": [
    "n = 10\n",
    "x = 7\n",
    "p = 0.7"
   ]
  },
  {
   "cell_type": "code",
   "execution_count": 41,
   "id": "d23fd2c3",
   "metadata": {},
   "outputs": [
    {
     "data": {
      "text/plain": [
       "0.26682793200000016"
      ]
     },
     "execution_count": 41,
     "metadata": {},
     "output_type": "execute_result"
    }
   ],
   "source": [
    "stats.binom.pmf(x, n, p)"
   ]
  },
  {
   "cell_type": "markdown",
   "id": "d134d5cc",
   "metadata": {},
   "source": [
    "#### Exercício 2\n",
    "- Em uma linha de produção de uma fábrica de parafusos, a probabilidade de obter um parafuso defeituoso é 0,05. Tendo uma amostra de 50 peças, qual a probabilidade de obter\n",
    "  1. Um parafuso defeituoso\n",
    "  2. Nenhum parafuso defeituoso"
   ]
  },
  {
   "cell_type": "code",
   "execution_count": 42,
   "id": "99c780c5",
   "metadata": {},
   "outputs": [],
   "source": [
    "# Questão 1\n",
    "n = 50\n",
    "x = 1\n",
    "p = 0.05"
   ]
  },
  {
   "cell_type": "code",
   "execution_count": 43,
   "id": "fab7f117",
   "metadata": {},
   "outputs": [
    {
     "data": {
      "text/plain": [
       "0.20248677704398393"
      ]
     },
     "execution_count": 43,
     "metadata": {},
     "output_type": "execute_result"
    }
   ],
   "source": [
    "stats.binom.pmf(x, n, p)"
   ]
  },
  {
   "cell_type": "code",
   "execution_count": 44,
   "id": "9f91db95",
   "metadata": {},
   "outputs": [],
   "source": [
    "# Questão 2\n",
    "n = 50\n",
    "x = 0\n",
    "p = 0.05"
   ]
  },
  {
   "cell_type": "code",
   "execution_count": 45,
   "id": "0380a9cb",
   "metadata": {},
   "outputs": [
    {
     "data": {
      "text/plain": [
       "0.0769449752767133"
      ]
     },
     "execution_count": 45,
     "metadata": {},
     "output_type": "execute_result"
    }
   ],
   "source": [
    "stats.binom.pmf(x, n, p)"
   ]
  },
  {
   "cell_type": "markdown",
   "id": "77038df3",
   "metadata": {},
   "source": [
    "### 6.5. Probabilidade e distribuição de Poisson"
   ]
  },
  {
   "cell_type": "markdown",
   "id": "dd2ea2df",
   "metadata": {},
   "source": [
    "#### Exemplo dos carros\n",
    "- O número médio de carros vendidos por dia é 10. Qual a probabilidade de vender 14 carros amanhã?"
   ]
  },
  {
   "cell_type": "code",
   "execution_count": 46,
   "id": "358224e1",
   "metadata": {},
   "outputs": [],
   "source": [
    "x = 14\n",
    "media = 10"
   ]
  },
  {
   "cell_type": "code",
   "execution_count": 47,
   "id": "0fd6aa5c",
   "metadata": {},
   "outputs": [
    {
     "data": {
      "text/plain": [
       "2.718281828459045"
      ]
     },
     "execution_count": 47,
     "metadata": {},
     "output_type": "execute_result"
    }
   ],
   "source": [
    "math.e"
   ]
  },
  {
   "cell_type": "code",
   "execution_count": 48,
   "id": "c183fb87",
   "metadata": {},
   "outputs": [
    {
     "data": {
      "text/plain": [
       "5.207710444602621"
      ]
     },
     "execution_count": 48,
     "metadata": {},
     "output_type": "execute_result"
    }
   ],
   "source": [
    "math.pow(math.e, -media) * (math.pow(media, x) / math.factorial(x)) * 100"
   ]
  },
  {
   "cell_type": "code",
   "execution_count": 49,
   "id": "9035d733",
   "metadata": {},
   "outputs": [
    {
     "data": {
      "text/plain": [
       "0.05207710444602615"
      ]
     },
     "execution_count": 49,
     "metadata": {},
     "output_type": "execute_result"
    }
   ],
   "source": [
    "stats.poisson.pmf(x, media)"
   ]
  },
  {
   "cell_type": "markdown",
   "id": "e52ac249",
   "metadata": {},
   "source": [
    "#### Exercício 1\n",
    "- Em uma linha de produção de uma fábrica de parafusos, a probabilidade é de obter 0,05 defeitos por UNIDADE. Qual a probabilidade de uma unidade apresentar:\n",
    "  1. Um defeito\n",
    "  2. Nenhum defeito"
   ]
  },
  {
   "cell_type": "code",
   "execution_count": 50,
   "id": "e01082c9",
   "metadata": {},
   "outputs": [],
   "source": [
    "# Questão 1\n",
    "x = 1\n",
    "media = 0.05 "
   ]
  },
  {
   "cell_type": "code",
   "execution_count": 51,
   "id": "300b761c",
   "metadata": {},
   "outputs": [
    {
     "data": {
      "text/plain": [
       "4.756147122503571"
      ]
     },
     "execution_count": 51,
     "metadata": {},
     "output_type": "execute_result"
    }
   ],
   "source": [
    "stats.poisson.pmf(x, media) * 100"
   ]
  },
  {
   "cell_type": "code",
   "execution_count": 52,
   "id": "6eb608c8",
   "metadata": {},
   "outputs": [],
   "source": [
    "# Questão 2\n",
    "x = 0\n",
    "media = 0.05"
   ]
  },
  {
   "cell_type": "code",
   "execution_count": 53,
   "id": "214b9aa7",
   "metadata": {},
   "outputs": [
    {
     "data": {
      "text/plain": [
       "95.1229424500714"
      ]
     },
     "execution_count": 53,
     "metadata": {},
     "output_type": "execute_result"
    }
   ],
   "source": [
    "stats.poisson.pmf(x, media) * 100"
   ]
  },
  {
   "cell_type": "markdown",
   "id": "8acda1bc",
   "metadata": {},
   "source": [
    "#### Exercício 2\n",
    "- Um vendedor de uma loja vende em média 50 produtos por dia. Qual a probabilidade de vender somente 5 produtos no próximo dia?"
   ]
  },
  {
   "cell_type": "code",
   "execution_count": 54,
   "id": "767fd3c5",
   "metadata": {},
   "outputs": [],
   "source": [
    "x = 5\n",
    "media = 50"
   ]
  },
  {
   "cell_type": "code",
   "execution_count": 55,
   "id": "cbcacda2",
   "metadata": {},
   "outputs": [
    {
     "data": {
      "text/plain": [
       "5.02278606240605e-16"
      ]
     },
     "execution_count": 55,
     "metadata": {},
     "output_type": "execute_result"
    }
   ],
   "source": [
    "stats.poisson.pmf(x, media)"
   ]
  },
  {
   "cell_type": "markdown",
   "id": "a26576e0",
   "metadata": {},
   "source": [
    "### 6.6. Previsão de probabilidades em machine learning"
   ]
  },
  {
   "cell_type": "code",
   "execution_count": 56,
   "id": "17d574fa",
   "metadata": {},
   "outputs": [
    {
     "data": {
      "text/html": [
       "<div>\n",
       "<style scoped>\n",
       "    .dataframe tbody tr th:only-of-type {\n",
       "        vertical-align: middle;\n",
       "    }\n",
       "\n",
       "    .dataframe tbody tr th {\n",
       "        vertical-align: top;\n",
       "    }\n",
       "\n",
       "    .dataframe thead th {\n",
       "        text-align: right;\n",
       "    }\n",
       "</style>\n",
       "<table border=\"1\" class=\"dataframe\">\n",
       "  <thead>\n",
       "    <tr style=\"text-align: right;\">\n",
       "      <th></th>\n",
       "      <th>i#clientid</th>\n",
       "      <th>income</th>\n",
       "      <th>age</th>\n",
       "      <th>loan</th>\n",
       "      <th>c#default</th>\n",
       "    </tr>\n",
       "  </thead>\n",
       "  <tbody>\n",
       "    <tr>\n",
       "      <th>0</th>\n",
       "      <td>1</td>\n",
       "      <td>66155.925095</td>\n",
       "      <td>59.017015</td>\n",
       "      <td>8106.532131</td>\n",
       "      <td>0</td>\n",
       "    </tr>\n",
       "    <tr>\n",
       "      <th>1</th>\n",
       "      <td>2</td>\n",
       "      <td>34415.153966</td>\n",
       "      <td>48.117153</td>\n",
       "      <td>6564.745018</td>\n",
       "      <td>0</td>\n",
       "    </tr>\n",
       "    <tr>\n",
       "      <th>2</th>\n",
       "      <td>3</td>\n",
       "      <td>57317.170063</td>\n",
       "      <td>63.108049</td>\n",
       "      <td>8020.953296</td>\n",
       "      <td>0</td>\n",
       "    </tr>\n",
       "    <tr>\n",
       "      <th>3</th>\n",
       "      <td>4</td>\n",
       "      <td>42709.534201</td>\n",
       "      <td>45.751972</td>\n",
       "      <td>6103.642260</td>\n",
       "      <td>0</td>\n",
       "    </tr>\n",
       "    <tr>\n",
       "      <th>4</th>\n",
       "      <td>5</td>\n",
       "      <td>66952.688845</td>\n",
       "      <td>18.584336</td>\n",
       "      <td>8770.099235</td>\n",
       "      <td>1</td>\n",
       "    </tr>\n",
       "  </tbody>\n",
       "</table>\n",
       "</div>"
      ],
      "text/plain": [
       "   i#clientid        income        age         loan  c#default\n",
       "0           1  66155.925095  59.017015  8106.532131          0\n",
       "1           2  34415.153966  48.117153  6564.745018          0\n",
       "2           3  57317.170063  63.108049  8020.953296          0\n",
       "3           4  42709.534201  45.751972  6103.642260          0\n",
       "4           5  66952.688845  18.584336  8770.099235          1"
      ]
     },
     "execution_count": 56,
     "metadata": {},
     "output_type": "execute_result"
    }
   ],
   "source": [
    "import pandas as pd\n",
    "dataset = pd.read_csv('credit_data.csv')\n",
    "dataset.dropna(inplace=True)\n",
    "dataset.head()"
   ]
  },
  {
   "cell_type": "code",
   "execution_count": 57,
   "id": "9b9908d8",
   "metadata": {},
   "outputs": [
    {
     "data": {
      "text/plain": [
       "array([[6.61559251e+04, 5.90170151e+01, 8.10653213e+03],\n",
       "       [3.44151540e+04, 4.81171531e+01, 6.56474502e+03],\n",
       "       [5.73171701e+04, 6.31080495e+01, 8.02095330e+03],\n",
       "       ...,\n",
       "       [4.43114493e+04, 2.80171669e+01, 5.52278669e+03],\n",
       "       [4.37560566e+04, 6.39717958e+01, 1.62272260e+03],\n",
       "       [6.94365796e+04, 5.61526170e+01, 7.37883360e+03]])"
      ]
     },
     "execution_count": 57,
     "metadata": {},
     "output_type": "execute_result"
    }
   ],
   "source": [
    "X = dataset.iloc[:,1:4].values\n",
    "X"
   ]
  },
  {
   "cell_type": "code",
   "execution_count": 58,
   "id": "96bf73fb",
   "metadata": {},
   "outputs": [
    {
     "data": {
      "text/plain": [
       "array([0, 0, 0, ..., 1, 0, 0], dtype=int64)"
      ]
     },
     "execution_count": 58,
     "metadata": {},
     "output_type": "execute_result"
    }
   ],
   "source": [
    "y = dataset.iloc[:,4].values\n",
    "y"
   ]
  },
  {
   "cell_type": "code",
   "execution_count": 59,
   "id": "c55fc787",
   "metadata": {},
   "outputs": [
    {
     "data": {
      "text/plain": [
       "GaussianNB()"
      ]
     },
     "execution_count": 59,
     "metadata": {},
     "output_type": "execute_result"
    }
   ],
   "source": [
    "from sklearn.naive_bayes import GaussianNB\n",
    "naive_bayes = GaussianNB()\n",
    "naive_bayes.fit(X, y)"
   ]
  },
  {
   "cell_type": "code",
   "execution_count": 60,
   "id": "06b2ca71",
   "metadata": {},
   "outputs": [
    {
     "data": {
      "text/plain": [
       "(array([6.61559251e+04, 5.90170151e+01, 8.10653213e+03]), (3,))"
      ]
     },
     "execution_count": 60,
     "metadata": {},
     "output_type": "execute_result"
    }
   ],
   "source": [
    "X[0], X[0].shape"
   ]
  },
  {
   "cell_type": "code",
   "execution_count": 61,
   "id": "37b461de",
   "metadata": {},
   "outputs": [
    {
     "data": {
      "text/plain": [
       "(1, 3)"
      ]
     },
     "execution_count": 61,
     "metadata": {},
     "output_type": "execute_result"
    }
   ],
   "source": [
    "novo = X[0].reshape(1,-1)\n",
    "novo.shape"
   ]
  },
  {
   "cell_type": "code",
   "execution_count": 62,
   "id": "cdfa50a7",
   "metadata": {},
   "outputs": [
    {
     "data": {
      "text/plain": [
       "array([[6.61559251e+04, 5.90170151e+01, 8.10653213e+03]])"
      ]
     },
     "execution_count": 62,
     "metadata": {},
     "output_type": "execute_result"
    }
   ],
   "source": [
    "novo"
   ]
  },
  {
   "cell_type": "code",
   "execution_count": 63,
   "id": "b5a4293a",
   "metadata": {},
   "outputs": [
    {
     "data": {
      "text/plain": [
       "array([0], dtype=int64)"
      ]
     },
     "execution_count": 63,
     "metadata": {},
     "output_type": "execute_result"
    }
   ],
   "source": [
    "naive_bayes.predict(novo)"
   ]
  },
  {
   "cell_type": "code",
   "execution_count": 64,
   "id": "f31b0a56",
   "metadata": {},
   "outputs": [
    {
     "data": {
      "text/plain": [
       "array([[1.00000000e+00, 2.03924534e-10]])"
      ]
     },
     "execution_count": 64,
     "metadata": {},
     "output_type": "execute_result"
    }
   ],
   "source": [
    "previsao = naive_bayes.predict_proba(novo)\n",
    "previsao"
   ]
  },
  {
   "cell_type": "code",
   "execution_count": 65,
   "id": "8df2169c",
   "metadata": {},
   "outputs": [
    {
     "data": {
      "text/plain": [
       "0"
      ]
     },
     "execution_count": 65,
     "metadata": {},
     "output_type": "execute_result"
    }
   ],
   "source": [
    "np.argmax(previsao)"
   ]
  },
  {
   "cell_type": "code",
   "execution_count": null,
   "id": "12b77e76",
   "metadata": {},
   "outputs": [],
   "source": []
  }
 ],
 "metadata": {
  "kernelspec": {
   "display_name": "Python 3",
   "language": "python",
   "name": "python3"
  },
  "language_info": {
   "codemirror_mode": {
    "name": "ipython",
    "version": 3
   },
   "file_extension": ".py",
   "mimetype": "text/x-python",
   "name": "python",
   "nbconvert_exporter": "python",
   "pygments_lexer": "ipython3",
   "version": "3.8.8"
  }
 },
 "nbformat": 4,
 "nbformat_minor": 5
}
