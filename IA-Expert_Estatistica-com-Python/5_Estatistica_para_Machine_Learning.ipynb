{
 "cells": [
  {
   "cell_type": "markdown",
   "id": "07b4c418",
   "metadata": {},
   "source": [
    "# Estatística para Machine Learning"
   ]
  },
  {
   "cell_type": "markdown",
   "id": "5fb020a7",
   "metadata": {},
   "source": [
    "## 5. Distribuições Estatísticas"
   ]
  },
  {
   "cell_type": "code",
   "execution_count": 1,
   "id": "fa79ca6e",
   "metadata": {},
   "outputs": [],
   "source": [
    "import numpy as np\n",
    "import seaborn as sns\n",
    "import pandas as pd\n",
    "from scipy import stats\n",
    "from scipy.stats import norm"
   ]
  },
  {
   "cell_type": "markdown",
   "id": "b4fc2223",
   "metadata": {},
   "source": [
    "### Variáveis contínuas"
   ]
  },
  {
   "cell_type": "markdown",
   "id": "5bd6d2f5",
   "metadata": {},
   "source": [
    "#### Distribuição normal - Gaussian distribution (bell)"
   ]
  },
  {
   "cell_type": "code",
   "execution_count": 2,
   "id": "af1f0c1f",
   "metadata": {},
   "outputs": [],
   "source": [
    "dados_normal = norm.rvs(size = 1000, random_state = 1)"
   ]
  },
  {
   "cell_type": "code",
   "execution_count": 3,
   "id": "58e7864f",
   "metadata": {},
   "outputs": [
    {
     "data": {
      "text/plain": [
       "(-3.053764380426305, 3.9586027040379634)"
      ]
     },
     "execution_count": 3,
     "metadata": {},
     "output_type": "execute_result"
    }
   ],
   "source": [
    "min(dados_normal), max(dados_normal)"
   ]
  },
  {
   "cell_type": "code",
   "execution_count": 4,
   "id": "78bfc62d",
   "metadata": {},
   "outputs": [
    {
     "data": {
      "image/png": "[encoded data removed]",
      "text/plain": [
       "<Figure size 432x288 with 1 Axes>"
      ]
     },
     "metadata": {
      "needs_background": "light"
     },
     "output_type": "display_data"
    }
   ],
   "source": [
    "sns.distplot(dados_normal, hist = True, kde = True);"
   ]
  },
  {
   "cell_type": "code",
   "execution_count": 5,
   "id": "c466a767",
   "metadata": {},
   "outputs": [
    {
     "data": {
      "text/plain": [
       "(0.03881247615960185,\n",
       " 0.04129258886921605,\n",
       " ModeResult(mode=array([-3.05376438]), count=array([1])),\n",
       " 0.9623691107920885,\n",
       " 0.9810041339322116)"
      ]
     },
     "execution_count": 5,
     "metadata": {},
     "output_type": "execute_result"
    }
   ],
   "source": [
    "dados_normal.mean(), np.median(dados_normal), stats.mode(dados_normal), np.var(dados_normal), np.std(dados_normal)"
   ]
  },
  {
   "cell_type": "code",
   "execution_count": 6,
   "id": "7e0a2465",
   "metadata": {},
   "outputs": [
    {
     "data": {
      "text/plain": [
       "148"
      ]
     },
     "execution_count": 6,
     "metadata": {},
     "output_type": "execute_result"
    }
   ],
   "source": [
    "np.sum(((dados_normal >= 0.9810041339322116) & (dados_normal <= 0.9810041339322116 + 1)))"
   ]
  },
  {
   "cell_type": "code",
   "execution_count": 7,
   "id": "ad1cd27f",
   "metadata": {},
   "outputs": [
    {
     "data": {
      "text/plain": [
       "353"
      ]
     },
     "execution_count": 7,
     "metadata": {},
     "output_type": "execute_result"
    }
   ],
   "source": [
    "np.sum(((dados_normal <= 0.9810041339322116) & (dados_normal >= 0.9810041339322116 - 1)))"
   ]
  },
  {
   "cell_type": "code",
   "execution_count": 8,
   "id": "f06ae4cf",
   "metadata": {},
   "outputs": [
    {
     "data": {
      "text/plain": [
       "0.501"
      ]
     },
     "execution_count": 8,
     "metadata": {},
     "output_type": "execute_result"
    }
   ],
   "source": [
    "(148 + 353) / 1000"
   ]
  },
  {
   "cell_type": "markdown",
   "id": "06e623a8",
   "metadata": {},
   "source": [
    "### Distribuição normal com dados de alturas"
   ]
  },
  {
   "cell_type": "code",
   "execution_count": 9,
   "id": "63c8985d",
   "metadata": {},
   "outputs": [],
   "source": [
    "dados = np.array([126. , 129.5, 133. , 133. , 136.5, 136.5, 140. , 140. , 140. ,\n",
    "                  140. , 143.5, 143.5, 143.5, 143.5, 143.5, 143.5, 147. , 147. ,\n",
    "                  147. , 147. , 147. , 147. , 147. , 150.5, 150.5, 150.5, 150.5,\n",
    "                  150.5, 150.5, 150.5, 150.5, 154. , 154. , 154. , 154. , 154. ,\n",
    "                  154. , 154. , 154. , 154. , 157.5, 157.5, 157.5, 157.5, 157.5,\n",
    "                  157.5, 157.5, 157.5, 157.5, 157.5, 161. , 161. , 161. , 161. ,\n",
    "                  161. , 161. , 161. , 161. , 161. , 161. , 164.5, 164.5, 164.5,\n",
    "                  164.5, 164.5, 164.5, 164.5, 164.5, 164.5, 168. , 168. , 168. ,\n",
    "                  168. , 168. , 168. , 168. , 168. , 171.5, 171.5, 171.5, 171.5,\n",
    "                  171.5, 171.5, 171.5, 175. , 175. , 175. , 175. , 175. , 175. ,\n",
    "                  178.5, 178.5, 178.5, 178.5, 182. , 182. , 185.5, 185.5, 189., 192.5])"
   ]
  },
  {
   "cell_type": "code",
   "execution_count": 10,
   "id": "0af643ee",
   "metadata": {},
   "outputs": [
    {
     "data": {
      "text/plain": [
       "100"
      ]
     },
     "execution_count": 10,
     "metadata": {},
     "output_type": "execute_result"
    }
   ],
   "source": [
    "len(dados)"
   ]
  },
  {
   "cell_type": "code",
   "execution_count": 11,
   "id": "f978aa29",
   "metadata": {},
   "outputs": [
    {
     "data": {
      "text/plain": [
       "(126.0, 192.5)"
      ]
     },
     "execution_count": 11,
     "metadata": {},
     "output_type": "execute_result"
    }
   ],
   "source": [
    "min(dados), max(dados)"
   ]
  },
  {
   "cell_type": "code",
   "execution_count": 12,
   "id": "aa611098",
   "metadata": {},
   "outputs": [
    {
     "data": {
      "text/plain": [
       "159.25"
      ]
     },
     "execution_count": 12,
     "metadata": {},
     "output_type": "execute_result"
    }
   ],
   "source": [
    "dados.mean()"
   ]
  },
  {
   "cell_type": "code",
   "execution_count": 13,
   "id": "8171c2c3",
   "metadata": {},
   "outputs": [
    {
     "data": {
      "text/plain": [
       "159.25"
      ]
     },
     "execution_count": 13,
     "metadata": {},
     "output_type": "execute_result"
    }
   ],
   "source": [
    "np.median(dados)"
   ]
  },
  {
   "cell_type": "code",
   "execution_count": 14,
   "id": "8573aa33",
   "metadata": {},
   "outputs": [
    {
     "data": {
      "text/plain": [
       "ModeResult(mode=array([157.5]), count=array([10]))"
      ]
     },
     "execution_count": 14,
     "metadata": {},
     "output_type": "execute_result"
    }
   ],
   "source": [
    "stats.mode(dados)"
   ]
  },
  {
   "cell_type": "code",
   "execution_count": 15,
   "id": "ac6a6c69",
   "metadata": {},
   "outputs": [
    {
     "data": {
      "text/plain": [
       "(172.9, 145.6)"
      ]
     },
     "execution_count": 15,
     "metadata": {},
     "output_type": "execute_result"
    }
   ],
   "source": [
    "159.25 + 13.65, 159.25 - 13.65"
   ]
  },
  {
   "cell_type": "code",
   "execution_count": 16,
   "id": "fa1d0ee4",
   "metadata": {},
   "outputs": [
    {
     "data": {
      "text/plain": [
       "(186.3225, 13.65, 8.571428571428571)"
      ]
     },
     "execution_count": 16,
     "metadata": {},
     "output_type": "execute_result"
    }
   ],
   "source": [
    "np.var(dados), np.std(dados), stats.variation(dados) * 100"
   ]
  },
  {
   "cell_type": "code",
   "execution_count": 17,
   "id": "57fe6162",
   "metadata": {},
   "outputs": [
    {
     "ename": "AttributeError",
     "evalue": "module 'seaborn' has no attribute 'displot'",
     "output_type": "error",
     "traceback": [
      "\u001b[1;31m---------------------------------------------------------------------------\u001b[0m",
      "\u001b[1;31mAttributeError\u001b[0m                            Traceback (most recent call last)",
      "\u001b[1;32m<ipython-input-17-ca06b57115e8>\u001b[0m in \u001b[0;36m<module>\u001b[1;34m\u001b[0m\n\u001b[1;32m----> 1\u001b[1;33m \u001b[0msns\u001b[0m\u001b[1;33m.\u001b[0m\u001b[0mdisplot\u001b[0m\u001b[1;33m(\u001b[0m\u001b[0mdados\u001b[0m\u001b[1;33m)\u001b[0m\u001b[1;33m;\u001b[0m\u001b[1;33m\u001b[0m\u001b[1;33m\u001b[0m\u001b[0m\n\u001b[0m",
      "\u001b[1;31mAttributeError\u001b[0m: module 'seaborn' has no attribute 'displot'"
     ]
    }
   ],
   "source": [
    "sns.displot(dados);"
   ]
  },
  {
   "cell_type": "markdown",
   "id": "f8d2d30a",
   "metadata": {},
   "source": [
    "### Enviesamento"
   ]
  },
  {
   "cell_type": "code",
   "execution_count": 18,
   "id": "7ef34238",
   "metadata": {},
   "outputs": [],
   "source": [
    "from scipy.stats import skewnorm"
   ]
  },
  {
   "cell_type": "code",
   "execution_count": 19,
   "id": "f02c83b1",
   "metadata": {},
   "outputs": [],
   "source": [
    "dados_normal = skewnorm.rvs(a = 0, size = 1000)"
   ]
  },
  {
   "cell_type": "code",
   "execution_count": 20,
   "id": "92d916fc",
   "metadata": {},
   "outputs": [
    {
     "data": {
      "image/png": "[encoded data removed]",
      "text/plain": [
       "<Figure size 432x288 with 1 Axes>"
      ]
     },
     "metadata": {
      "needs_background": "light"
     },
     "output_type": "display_data"
    }
   ],
   "source": [
    "sns.distplot(dados_normal);"
   ]
  },
  {
   "cell_type": "code",
   "execution_count": 21,
   "id": "9dfa6657",
   "metadata": {},
   "outputs": [
    {
     "data": {
      "text/plain": [
       "(-0.03892528328710397,\n",
       " -0.08853931319085909,\n",
       " ModeResult(mode=array([-3.4544169]), count=array([1])))"
      ]
     },
     "execution_count": 21,
     "metadata": {},
     "output_type": "execute_result"
    }
   ],
   "source": [
    "dados_normal.mean(), np.median(dados_normal), stats.mode(dados_normal)"
   ]
  },
  {
   "cell_type": "code",
   "execution_count": 22,
   "id": "60d195d3",
   "metadata": {},
   "outputs": [
    {
     "data": {
      "image/png": "[encoded data removed]",
      "text/plain": [
       "<Figure size 432x288 with 1 Axes>"
      ]
     },
     "metadata": {
      "needs_background": "light"
     },
     "output_type": "display_data"
    }
   ],
   "source": [
    "dados_normal_positivo = skewnorm.rvs(a = 10, size = 1000)\n",
    "sns.distplot(dados_normal_positivo);"
   ]
  },
  {
   "cell_type": "code",
   "execution_count": 23,
   "id": "f455cee5",
   "metadata": {},
   "outputs": [
    {
     "data": {
      "text/plain": [
       "(0.7770291944628132,\n",
       " 0.6859357317683239,\n",
       " ModeResult(mode=array([-0.16072874]), count=array([1])))"
      ]
     },
     "execution_count": 23,
     "metadata": {},
     "output_type": "execute_result"
    }
   ],
   "source": [
    "dados_normal_positivo.mean(), np.median(dados_normal_positivo), stats.mode(dados_normal_positivo)"
   ]
  },
  {
   "cell_type": "code",
   "execution_count": 24,
   "id": "e123e6fc",
   "metadata": {},
   "outputs": [
    {
     "data": {
      "image/png": "[encoded data removed]",
      "text/plain": [
       "<Figure size 432x288 with 1 Axes>"
      ]
     },
     "metadata": {
      "needs_background": "light"
     },
     "output_type": "display_data"
    }
   ],
   "source": [
    "dados_normal_negativo = skewnorm.rvs(-10, size = 1000)\n",
    "sns.distplot(dados_normal_negativo);"
   ]
  },
  {
   "cell_type": "code",
   "execution_count": 25,
   "id": "23a9e6f5",
   "metadata": {},
   "outputs": [
    {
     "data": {
      "text/plain": [
       "(-0.7578201227474444,\n",
       " -0.642046621567409,\n",
       " ModeResult(mode=array([-3.00154665]), count=array([1])))"
      ]
     },
     "execution_count": 25,
     "metadata": {},
     "output_type": "execute_result"
    }
   ],
   "source": [
    "dados_normal_negativo.mean(), np.median(dados_normal_negativo), stats.mode(dados_normal_negativo)"
   ]
  },
  {
   "cell_type": "markdown",
   "id": "1a7b35d0",
   "metadata": {},
   "source": [
    "### Distribuição normal padronizada"
   ]
  },
  {
   "cell_type": "code",
   "execution_count": 26,
   "id": "a291b454",
   "metadata": {},
   "outputs": [],
   "source": [
    "dados_normal_padronizada = np.random.standard_normal(size=1000)"
   ]
  },
  {
   "cell_type": "code",
   "execution_count": 27,
   "id": "e1c44b43",
   "metadata": {},
   "outputs": [
    {
     "data": {
      "text/plain": [
       "(-3.0624198280262953, 3.303255729345661)"
      ]
     },
     "execution_count": 27,
     "metadata": {},
     "output_type": "execute_result"
    }
   ],
   "source": [
    "min(dados_normal_padronizada), max(dados_normal_padronizada)"
   ]
  },
  {
   "cell_type": "code",
   "execution_count": 28,
   "id": "d1e4e22b",
   "metadata": {},
   "outputs": [
    {
     "data": {
      "image/png": "[encoded data removed]",
      "text/plain": [
       "<Figure size 432x288 with 1 Axes>"
      ]
     },
     "metadata": {
      "needs_background": "light"
     },
     "output_type": "display_data"
    }
   ],
   "source": [
    "sns.distplot(dados_normal_padronizada);"
   ]
  },
  {
   "cell_type": "code",
   "execution_count": 29,
   "id": "ec3a2afb",
   "metadata": {},
   "outputs": [
    {
     "data": {
      "text/plain": [
       "(0.021934968578474056, 0.9955447434975782)"
      ]
     },
     "execution_count": 29,
     "metadata": {},
     "output_type": "execute_result"
    }
   ],
   "source": [
    "dados_normal_padronizada.mean(), np.std(dados_normal_padronizada)"
   ]
  },
  {
   "cell_type": "code",
   "execution_count": 30,
   "id": "43cdf6df",
   "metadata": {},
   "outputs": [
    {
     "data": {
      "text/plain": [
       "array([126. , 129.5, 133. , 133. , 136.5, 136.5, 140. , 140. , 140. ,\n",
       "       140. , 143.5, 143.5, 143.5, 143.5, 143.5, 143.5, 147. , 147. ,\n",
       "       147. , 147. , 147. , 147. , 147. , 150.5, 150.5, 150.5, 150.5,\n",
       "       150.5, 150.5, 150.5, 150.5, 154. , 154. , 154. , 154. , 154. ,\n",
       "       154. , 154. , 154. , 154. , 157.5, 157.5, 157.5, 157.5, 157.5,\n",
       "       157.5, 157.5, 157.5, 157.5, 157.5, 161. , 161. , 161. , 161. ,\n",
       "       161. , 161. , 161. , 161. , 161. , 161. , 164.5, 164.5, 164.5,\n",
       "       164.5, 164.5, 164.5, 164.5, 164.5, 164.5, 168. , 168. , 168. ,\n",
       "       168. , 168. , 168. , 168. , 168. , 171.5, 171.5, 171.5, 171.5,\n",
       "       171.5, 171.5, 171.5, 175. , 175. , 175. , 175. , 175. , 175. ,\n",
       "       178.5, 178.5, 178.5, 178.5, 182. , 182. , 185.5, 185.5, 189. ,\n",
       "       192.5])"
      ]
     },
     "execution_count": 30,
     "metadata": {},
     "output_type": "execute_result"
    }
   ],
   "source": [
    "dados"
   ]
  },
  {
   "cell_type": "code",
   "execution_count": 31,
   "id": "d8f218c7",
   "metadata": {},
   "outputs": [
    {
     "data": {
      "text/plain": [
       "159.25"
      ]
     },
     "execution_count": 31,
     "metadata": {},
     "output_type": "execute_result"
    }
   ],
   "source": [
    "media = dados.mean()\n",
    "media"
   ]
  },
  {
   "cell_type": "code",
   "execution_count": 32,
   "id": "7d176633",
   "metadata": {},
   "outputs": [
    {
     "data": {
      "text/plain": [
       "13.65"
      ]
     },
     "execution_count": 32,
     "metadata": {},
     "output_type": "execute_result"
    }
   ],
   "source": [
    "desvio_padrao = np.std(dados)\n",
    "desvio_padrao"
   ]
  },
  {
   "cell_type": "code",
   "execution_count": 33,
   "id": "ffb67934",
   "metadata": {},
   "outputs": [
    {
     "data": {
      "text/plain": [
       "array([-2.43589744, -2.17948718, -1.92307692, -1.92307692, -1.66666667,\n",
       "       -1.66666667, -1.41025641, -1.41025641, -1.41025641, -1.41025641,\n",
       "       -1.15384615, -1.15384615, -1.15384615, -1.15384615, -1.15384615,\n",
       "       -1.15384615, -0.8974359 , -0.8974359 , -0.8974359 , -0.8974359 ,\n",
       "       -0.8974359 , -0.8974359 , -0.8974359 , -0.64102564, -0.64102564,\n",
       "       -0.64102564, -0.64102564, -0.64102564, -0.64102564, -0.64102564,\n",
       "       -0.64102564, -0.38461538, -0.38461538, -0.38461538, -0.38461538,\n",
       "       -0.38461538, -0.38461538, -0.38461538, -0.38461538, -0.38461538,\n",
       "       -0.12820513, -0.12820513, -0.12820513, -0.12820513, -0.12820513,\n",
       "       -0.12820513, -0.12820513, -0.12820513, -0.12820513, -0.12820513,\n",
       "        0.12820513,  0.12820513,  0.12820513,  0.12820513,  0.12820513,\n",
       "        0.12820513,  0.12820513,  0.12820513,  0.12820513,  0.12820513,\n",
       "        0.38461538,  0.38461538,  0.38461538,  0.38461538,  0.38461538,\n",
       "        0.38461538,  0.38461538,  0.38461538,  0.38461538,  0.64102564,\n",
       "        0.64102564,  0.64102564,  0.64102564,  0.64102564,  0.64102564,\n",
       "        0.64102564,  0.64102564,  0.8974359 ,  0.8974359 ,  0.8974359 ,\n",
       "        0.8974359 ,  0.8974359 ,  0.8974359 ,  0.8974359 ,  1.15384615,\n",
       "        1.15384615,  1.15384615,  1.15384615,  1.15384615,  1.15384615,\n",
       "        1.41025641,  1.41025641,  1.41025641,  1.41025641,  1.66666667,\n",
       "        1.66666667,  1.92307692,  1.92307692,  2.17948718,  2.43589744])"
      ]
     },
     "execution_count": 33,
     "metadata": {},
     "output_type": "execute_result"
    }
   ],
   "source": [
    "dados_padronizados = (dados - media) / desvio_padrao\n",
    "dados_padronizados"
   ]
  },
  {
   "cell_type": "code",
   "execution_count": 34,
   "id": "4e4c6765",
   "metadata": {},
   "outputs": [
    {
     "data": {
      "text/plain": [
       "(0.0, 0.9999999999999999)"
      ]
     },
     "execution_count": 34,
     "metadata": {},
     "output_type": "execute_result"
    }
   ],
   "source": [
    "dados_padronizados.mean(), np.std(dados_padronizados)"
   ]
  },
  {
   "cell_type": "code",
   "execution_count": 35,
   "id": "b4685996",
   "metadata": {},
   "outputs": [
    {
     "data": {
      "image/png": "[encoded data removed]",
      "text/plain": [
       "<Figure size 432x288 with 1 Axes>"
      ]
     },
     "metadata": {
      "needs_background": "light"
     },
     "output_type": "display_data"
    }
   ],
   "source": [
    "sns.distplot(dados_padronizados);"
   ]
  },
  {
   "cell_type": "markdown",
   "id": "4c400c20",
   "metadata": {},
   "source": [
    "### Teorema central do limite\n",
    "\n",
    "- Quando o tamanho da amostra aumenta, a distribuição amostral da sua média aproxima-se cada vez mais de uma distribuição normal"
   ]
  },
  {
   "cell_type": "code",
   "execution_count": 36,
   "id": "78ea2c61",
   "metadata": {},
   "outputs": [
    {
     "data": {
      "text/plain": [
       "156.904"
      ]
     },
     "execution_count": 36,
     "metadata": {},
     "output_type": "execute_result"
    }
   ],
   "source": [
    "alturas = np.random.randint(126, 192, 500)\n",
    "alturas.mean()"
   ]
  },
  {
   "cell_type": "code",
   "execution_count": 37,
   "id": "3432de55",
   "metadata": {},
   "outputs": [
    {
     "data": {
      "text/plain": [
       "<AxesSubplot:>"
      ]
     },
     "execution_count": 37,
     "metadata": {},
     "output_type": "execute_result"
    },
    {
     "data": {
      "image/png": "[encoded data removed]",
      "text/plain": [
       "<Figure size 432x288 with 1 Axes>"
      ]
     },
     "metadata": {
      "needs_background": "light"
     },
     "output_type": "display_data"
    }
   ],
   "source": [
    "sns.distplot(alturas)"
   ]
  },
  {
   "cell_type": "code",
   "execution_count": 38,
   "id": "f5c3e50c",
   "metadata": {},
   "outputs": [],
   "source": [
    "medias = [np.mean(np.random.randint(126, 192, 500)) for _ in range(1000)]"
   ]
  },
  {
   "cell_type": "code",
   "execution_count": 39,
   "id": "aa1ef657",
   "metadata": {},
   "outputs": [
    {
     "data": {
      "text/plain": [
       "(list, 1000)"
      ]
     },
     "execution_count": 39,
     "metadata": {},
     "output_type": "execute_result"
    }
   ],
   "source": [
    "type(medias), len(medias)"
   ]
  },
  {
   "cell_type": "code",
   "execution_count": 40,
   "id": "c3768300",
   "metadata": {},
   "outputs": [
    {
     "name": "stdout",
     "output_type": "stream",
     "text": [
      "[158.112, 160.124, 157.758, 160.044, 157.506, 159.252, 157.938, 158.902, 159.048, 158.288, 158.946, 160.072, 158.824, 156.824, 159.512, 158.576, 159.352, 158.39, 157.984, 157.32, 157.232, 158.878, 159.412, 158.158, 158.762, 157.998, 159.408, 160.244, 157.974, 158.864, 157.446, 158.576, 159.008, 157.086, 159.946, 158.298, 158.494, 158.534, 159.336, 158.25, 158.118, 157.936, 157.476, 158.544, 158.998, 157.038, 159.518, 158.156, 158.318, 158.356, 158.834, 159.432, 159.074, 158.922, 158.386, 159.304, 160.182, 157.986, 158.524, 158.152, 158.052, 158.216, 158.762, 158.304, 157.972, 160.15, 158.356, 157.084, 159.292, 158.924, 158.742, 158.804, 158.698, 158.972, 158.45, 159.764, 157.712, 158.568, 158.45, 159.618, 158.778, 159.39, 158.784, 160.73, 159.08, 158.92, 158.276, 159.502, 159.448, 159.226, 159.06, 159.356, 160.33, 159.342, 156.816, 158.14, 158.408, 159.57, 158.356, 159.43, 158.734, 159.27, 158.844, 158.034, 157.8, 159.038, 159.446, 158.824, 157.972, 158.516, 157.228, 158.976, 158.256, 159.624, 158.742, 158.694, 156.96, 158.544, 157.47, 157.856, 159.224, 159.168, 157.656, 160.334, 157.76, 159.39, 159.372, 157.694, 159.086, 158.77, 158.428, 158.494, 158.926, 158.94, 159.102, 156.374, 158.456, 157.706, 159.336, 159.186, 158.274, 159.48, 159.34, 159.116, 158.384, 159.016, 158.136, 158.756, 157.638, 157.184, 158.492, 159.354, 156.928, 158.604, 159.792, 157.09, 158.444, 159.372, 158.604, 159.162, 158.314, 158.944, 158.308, 156.768, 158.158, 159.502, 157.186, 160.158, 158.906, 159.36, 157.308, 158.954, 157.864, 158.72, 158.432, 158.546, 159.728, 158.838, 159.578, 158.38, 159.678, 158.606, 156.786, 158.642, 158.88, 157.202, 158.764, 157.62, 159.286, 159.412, 158.292, 159.586, 158.408, 158.676, 158.908, 158.206, 157.172, 158.446, 158.066, 158.964, 158.854, 157.108, 159.478, 157.158, 159.224, 159.796, 157.042, 158.55, 159.472, 158.662, 159.756, 158.756, 157.83, 158.576, 157.742, 157.704, 159.668, 159.914, 158.466, 159.75, 158.664, 157.852, 158.102, 158.494, 157.56, 157.836, 157.724, 158.552, 157.998, 158.044, 156.908, 159.226, 158.616, 159.09, 159.53, 157.484, 157.69, 157.136, 159.28, 157.05, 157.62, 159.592, 158.298, 159.782, 157.714, 158.862, 160.354, 159.522, 157.99, 159.11, 156.918, 157.628, 158.082, 158.534, 158.902, 158.122, 158.176, 160.514, 157.838, 159.472, 159.146, 159.07, 159.602, 155.36, 158.2, 159.096, 156.862, 158.71, 157.94, 157.976, 159.528, 160.96, 159.504, 157.862, 158.594, 159.476, 158.648, 158.042, 159.186, 157.61, 157.794, 158.304, 157.464, 159.13, 158.512, 157.366, 157.592, 158.458, 158.124, 161.39, 157.702, 159.234, 159.598, 158.574, 157.83, 158.55, 158.304, 160.116, 158.498, 157.716, 159.672, 159.914, 158.062, 158.584, 158.702, 158.572, 158.74, 158.418, 158.47, 157.914, 159.606, 160.55, 159.19, 159.522, 158.766, 158.588, 157.308, 158.774, 157.926, 157.956, 158.05, 156.56, 159.958, 158.456, 158.032, 160.584, 159.284, 157.686, 159.91, 159.312, 158.346, 156.664, 158.964, 158.276, 156.796, 158.292, 158.808, 158.612, 159.316, 157.408, 158.45, 159.266, 157.694, 158.822, 159.6, 158.784, 159.942, 158.622, 157.868, 158.2, 157.758, 160.018, 158.184, 160.166, 158.398, 158.948, 157.666, 158.536, 157.37, 158.74, 159.364, 158.982, 158.46, 159.344, 157.554, 158.514, 157.428, 158.866, 159.478, 157.552, 158.294, 159.39, 159.162, 158.502, 159.768, 159.72, 157.94, 158.95, 157.912, 158.52, 160.772, 158.764, 156.33, 158.716, 158.848, 158.062, 158.862, 158.94, 158.444, 158.616, 159.188, 158.69, 161.286, 159.436, 158.494, 158.182, 157.724, 158.63, 159.244, 157.212, 158.724, 157.506, 158.536, 159.804, 158.574, 159.028, 159.064, 157.964, 158.072, 159.434, 157.368, 159.284, 157.968, 158.342, 157.106, 157.412, 160.102, 159.064, 158.76, 158.148, 159.168, 159.006, 157.452, 158.542, 159.578, 158.21, 158.472, 159.472, 159.332, 158.832, 156.458, 158.492, 157.43, 158.796, 158.356, 159.154, 157.808, 158.85, 159.182, 157.548, 158.022, 157.718, 158.44, 158.75, 158.412, 158.632, 159.204, 159.268, 158.632, 159.332, 157.07, 158.46, 158.126, 158.102, 158.996, 157.394, 159.134, 158.038, 158.094, 158.756, 158.168, 158.236, 159.016, 158.126, 158.12, 157.78, 159.218, 157.73, 158.992, 157.768, 158.47, 158.096, 158.37, 159.44, 157.422, 160.412, 157.726, 160.158, 158.79, 158.486, 159.178, 157.418, 159.204, 158.182, 159.344, 157.926, 160.208, 158.326, 157.68, 157.096, 158.278, 158.606, 158.23, 158.584, 158.552, 156.694, 158.95, 158.702, 158.64, 159.126, 159.654, 158.572, 158.724, 158.572, 159.784, 158.184, 159.976, 158.594, 158.344, 159.314, 158.97, 157.976, 158.756, 159.954, 158.86, 158.836, 158.68, 159.658, 158.77, 157.274, 159.108, 158.338, 159.132, 158.748, 156.516, 158.462, 158.89, 157.594, 158.584, 158.07, 158.6, 158.178, 157.684, 157.664, 158.05, 159.896, 159.73, 158.648, 158.074, 159.042, 158.126, 158.074, 159.776, 157.248, 158.862, 158.58, 158.06, 158.748, 158.762, 160.022, 156.976, 157.028, 159.85, 158.188, 158.958, 158.296, 159.34, 157.362, 158.682, 157.464, 158.122, 157.944, 158.73, 158.182, 158.152, 158.738, 157.666, 159.582, 157.992, 158.76, 158.58, 157.796, 158.306, 158.312, 158.156, 159.52, 158.42, 159.472, 159.362, 159.766, 158.27, 158.96, 157.79, 159.542, 158.278, 156.858, 158.86, 158.982, 158.124, 159.724, 158.62, 157.526, 158.556, 160.378, 157.594, 157.196, 158.596, 158.072, 158.638, 157.906, 156.446, 158.164, 156.966, 160.406, 158.66, 159.2, 158.238, 157.874, 158.43, 158.84, 158.72, 156.756, 158.158, 158.1, 159.892, 158.452, 158.384, 159.79, 158.784, 159.158, 158.862, 159.08, 158.516, 159.486, 159.298, 157.884, 158.59, 158.034, 157.91, 157.88, 159.076, 158.508, 157.996, 159.086, 156.98, 158.618, 159.942, 158.596, 156.69, 158.41, 158.286, 158.262, 159.178, 158.894, 157.08, 158.618, 157.564, 159.056, 157.82, 159.072, 160.594, 156.804, 157.554, 159.346, 158.68, 159.128, 157.186, 159.342, 158.706, 159.152, 156.886, 159.286, 159.266, 158.76, 157.79, 157.618, 158.484, 158.524, 159.898, 157.472, 156.84, 158.348, 157.654, 158.636, 159.09, 158.266, 157.412, 158.614, 157.796, 159.388, 157.188, 158.024, 158.674, 157.926, 158.416, 158.614, 158.472, 158.484, 157.438, 159.47, 158.37, 158.626, 158.248, 157.536, 158.462, 159.32, 157.678, 157.926, 158.774, 157.58, 157.754, 157.606, 158.138, 160.698, 158.962, 158.708, 160.088, 158.438, 158.49, 157.462, 160.722, 158.996, 159.472, 158.056, 157.696, 160.342, 157.996, 159.304, 158.502, 159.734, 159.416, 158.088, 159.116, 158.778, 158.066, 160.138, 159.18, 157.42, 157.612, 158.96, 159.632, 159.932, 156.81, 159.36, 158.21, 158.188, 159.16, 159.26, 157.534, 158.896, 158.426, 158.402, 157.152, 157.852, 158.294, 159.956, 159.076, 158.258, 158.53, 157.216, 158.938, 159.45, 159.292, 158.422, 159.874, 159.278, 158.4, 157.692, 158.358, 159.686, 158.136, 158.05, 158.51, 160.1, 157.808, 157.154, 159.608, 159.706, 159.104, 158.578, 160.294, 159.866, 158.348, 158.378, 157.582, 158.044, 157.636, 157.262, 158.192, 157.664, 158.52, 157.902, 158.592, 157.058, 156.152, 159.62, 158.552, 158.106, 157.838, 157.28, 158.606, 158.446, 157.686, 158.968, 158.248, 158.758, 158.314, 160.774, 159.128, 158.868, 158.27, 159.464, 158.522, 157.988, 159.358, 159.588, 158.244, 159.802, 158.814, 158.632, 158.572, 159.276, 159.602, 159.186, 157.47, 158.534, 158.928, 158.384, 156.938, 158.952, 158.554, 159.724, 158.856, 158.194, 158.662, 158.542, 159.404, 157.718, 158.316, 159.606, 159.396, 159.276, 157.484, 158.164, 158.652, 158.272, 157.412, 157.554, 155.918, 159.834, 159.34, 158.594, 158.772, 157.94, 156.332, 157.028, 159.262, 158.178, 156.744, 159.858, 158.07, 158.748, 158.606, 159.768, 159.43, 160.26, 157.986, 157.084, 158.7, 159.738, 160.556, 159.604, 158.954, 157.646, 157.252, 158.44, 159.422, 156.946, 159.9, 158.434, 159.254, 158.796, 159.016, 159.556, 159.508, 157.19, 158.828, 158.888, 157.932, 156.194, 157.878, 156.434, 157.306, 157.816, 158.346, 159.606, 157.426, 157.936, 158.656, 159.79, 158.65, 157.426, 159.522, 157.29, 158.32, 157.64, 158.412, 157.32, 158.884, 159.454, 157.972, 158.862, 159.942, 158.1, 158.154, 157.198, 157.314, 159.702, 159.866, 158.454, 158.946, 158.974, 160.698, 156.938, 159.066, 158.206, 158.49, 158.566, 159.078, 160.094, 159.43, 158.076, 157.776, 157.786, 159.262, 158.616, 156.52, 159.084, 158.072, 158.22, 159.26, 157.256, 158.594, 159.046, 157.306, 159.306, 159.376, 158.406, 158.37, 158.116, 157.826, 158.65, 158.078, 158.23, 158.394, 160.682, 158.41, 157.962, 159.134, 157.302, 159.09, 157.392, 158.846, 159.41, 157.912, 159.048, 157.642, 159.272, 159.116, 158.052, 159.188, 159.608, 157.27, 157.782, 158.326, 157.856, 158.844, 160.102, 157.376, 158.888, 157.886, 159.914, 160.812, 157.612, 158.152, 158.474, 158.41, 158.688, 157.922, 158.894, 157.76, 158.336, 159.854, 159.4, 157.944, 159.006, 157.864, 159.406, 158.728, 158.448, 158.832, 158.982, 157.682, 159.048, 157.096, 158.206, 157.312, 158.816, 157.982, 159.81]\n"
     ]
    }
   ],
   "source": [
    "print(medias)"
   ]
  },
  {
   "cell_type": "code",
   "execution_count": 41,
   "id": "4b421f7d",
   "metadata": {},
   "outputs": [
    {
     "data": {
      "text/plain": [
       "<AxesSubplot:>"
      ]
     },
     "execution_count": 41,
     "metadata": {},
     "output_type": "execute_result"
    },
    {
     "data": {
      "image/png": "[encoded data removed]",
      "text/plain": [
       "<Figure size 432x288 with 1 Axes>"
      ]
     },
     "metadata": {
      "needs_background": "light"
     },
     "output_type": "display_data"
    }
   ],
   "source": [
    "sns.distplot(medias)"
   ]
  },
  {
   "cell_type": "markdown",
   "id": "7f94a9be",
   "metadata": {},
   "source": [
    "### Distribuição gamma\n",
    "\n",
    "- Distribuição geral com valores assimétricos à direita\n",
    "- Análise de tempo de vida de produtos\n",
    "- Inadimplência com valores agregados\n",
    "- Quantidade de chuva acumulada em um reservatório\n",
    "- Tempo de reação de um motorista de acordo com a idade"
   ]
  },
  {
   "cell_type": "code",
   "execution_count": 42,
   "id": "af802d00",
   "metadata": {},
   "outputs": [],
   "source": [
    "from scipy.stats import gamma"
   ]
  },
  {
   "cell_type": "code",
   "execution_count": 43,
   "id": "ad80ef12",
   "metadata": {},
   "outputs": [],
   "source": [
    "dados_gama = gamma.rvs(a = 5, size = 1000)"
   ]
  },
  {
   "cell_type": "code",
   "execution_count": 44,
   "id": "cdf579bd",
   "metadata": {},
   "outputs": [
    {
     "data": {
      "image/png": "[encoded data removed]",
      "text/plain": [
       "<Figure size 432x288 with 1 Axes>"
      ]
     },
     "metadata": {
      "needs_background": "light"
     },
     "output_type": "display_data"
    }
   ],
   "source": [
    "sns.distplot(dados_gama);"
   ]
  },
  {
   "cell_type": "code",
   "execution_count": 45,
   "id": "d9ab624e",
   "metadata": {},
   "outputs": [
    {
     "data": {
      "text/plain": [
       "(0.8861550876754989, 14.851477329006624)"
      ]
     },
     "execution_count": 45,
     "metadata": {},
     "output_type": "execute_result"
    }
   ],
   "source": [
    "min(dados_gama), max(dados_gama)"
   ]
  },
  {
   "cell_type": "markdown",
   "id": "d0298a10",
   "metadata": {},
   "source": [
    "### Distribuição exponencial\n",
    "\n",
    "- É um tipo da distribuição gama\n",
    "- Tempo de vida de certos produtos e materiais\n",
    "- Tempo de vida de óleos isolantes e dielétricos, entre outros"
   ]
  },
  {
   "cell_type": "code",
   "execution_count": 46,
   "id": "ad060e77",
   "metadata": {},
   "outputs": [],
   "source": [
    "from scipy.stats import expon"
   ]
  },
  {
   "cell_type": "code",
   "execution_count": 47,
   "id": "6925d846",
   "metadata": {},
   "outputs": [],
   "source": [
    "dados_exponencial = expon.rvs(size = 1000)"
   ]
  },
  {
   "cell_type": "code",
   "execution_count": 48,
   "id": "b4cfe47f",
   "metadata": {},
   "outputs": [
    {
     "data": {
      "image/png": "[encoded data removed]",
      "text/plain": [
       "<Figure size 432x288 with 1 Axes>"
      ]
     },
     "metadata": {
      "needs_background": "light"
     },
     "output_type": "display_data"
    }
   ],
   "source": [
    "sns.distplot(dados_exponencial);"
   ]
  },
  {
   "cell_type": "code",
   "execution_count": 49,
   "id": "53638d54",
   "metadata": {},
   "outputs": [
    {
     "data": {
      "text/plain": [
       "(0.0003553695476807186, 6.232824906154784)"
      ]
     },
     "execution_count": 49,
     "metadata": {},
     "output_type": "execute_result"
    }
   ],
   "source": [
    "min(dados_exponencial), max(dados_exponencial)"
   ]
  },
  {
   "cell_type": "markdown",
   "id": "853d906c",
   "metadata": {},
   "source": [
    "### Distribuição uniforme\n",
    "\n",
    "- Os números da distribuição possuem a mesma probabilidade\n",
    "- Probabilidade de peças com defeitos em um lote com determinada quantidade de peças\n",
    "- Geração de números aleatórios em linguagens de programação"
   ]
  },
  {
   "cell_type": "code",
   "execution_count": 50,
   "id": "7e530b87",
   "metadata": {},
   "outputs": [],
   "source": [
    "from scipy.stats import uniform"
   ]
  },
  {
   "cell_type": "code",
   "execution_count": 51,
   "id": "73978139",
   "metadata": {},
   "outputs": [],
   "source": [
    "dados_uniforme = uniform.rvs(size=1000)"
   ]
  },
  {
   "cell_type": "code",
   "execution_count": 52,
   "id": "9f940ea4",
   "metadata": {},
   "outputs": [
    {
     "data": {
      "text/plain": [
       "<AxesSubplot:>"
      ]
     },
     "execution_count": 52,
     "metadata": {},
     "output_type": "execute_result"
    },
    {
     "data": {
      "image/png": "[encoded data removed]",
      "text/plain": [
       "<Figure size 432x288 with 1 Axes>"
      ]
     },
     "metadata": {
      "needs_background": "light"
     },
     "output_type": "display_data"
    }
   ],
   "source": [
    "sns.distplot(dados_uniforme)"
   ]
  },
  {
   "cell_type": "code",
   "execution_count": 53,
   "id": "d31a6689",
   "metadata": {},
   "outputs": [
    {
     "data": {
      "text/plain": [
       "(0.0016577573292935188, 0.998586460814967)"
      ]
     },
     "execution_count": 53,
     "metadata": {},
     "output_type": "execute_result"
    }
   ],
   "source": [
    "min(dados_uniforme), max(dados_uniforme)"
   ]
  },
  {
   "cell_type": "code",
   "execution_count": 54,
   "id": "09bce116",
   "metadata": {},
   "outputs": [
    {
     "data": {
      "text/plain": [
       "(array([0.00165776, 0.0019078 , 0.00222024, 0.00384611, 0.00458346,\n",
       "        0.00474536, 0.00526588, 0.00528093, 0.00541069, 0.00690493,\n",
       "        0.00949944, 0.01068824, 0.01069997, 0.01250124, 0.01304384,\n",
       "        0.01304626, 0.01307222, 0.01329969, 0.01463187, 0.01517319,\n",
       "        0.01729162, 0.02011654, 0.0207889 , 0.02083932, 0.02160848,\n",
       "        0.02247611, 0.02341456, 0.02396246, 0.02424672, 0.02467101,\n",
       "        0.02651949, 0.02718147, 0.03005722, 0.03096495, 0.03163262,\n",
       "        0.03210463, 0.03231873, 0.03240956, 0.03241226, 0.03248324,\n",
       "        0.03312208, 0.03379846, 0.03446962, 0.0355617 , 0.03611794,\n",
       "        0.03629047, 0.03675102, 0.03765011, 0.0377938 , 0.0387166 ,\n",
       "        0.03904851, 0.03907687, 0.03972986, 0.04013749, 0.04119662,\n",
       "        0.04149582, 0.04165169, 0.04411587, 0.04466555, 0.0451535 ,\n",
       "        0.04536936, 0.04585899, 0.04617264, 0.04672461, 0.04948616,\n",
       "        0.05009774, 0.05028741, 0.05262308, 0.05488378, 0.0549793 ,\n",
       "        0.05609589, 0.05611914, 0.05669151, 0.0571827 , 0.06029362,\n",
       "        0.06170976, 0.06171578, 0.06395795, 0.06491054, 0.06556068,\n",
       "        0.06578579, 0.06619402, 0.06979133, 0.07143452, 0.07264956,\n",
       "        0.07271125, 0.07352769, 0.07589843, 0.07636935, 0.07672922,\n",
       "        0.07869105, 0.07999994, 0.08084831, 0.08247803, 0.0858702 ,\n",
       "        0.08595668, 0.08606034, 0.0879968 , 0.08834208, 0.08924728,\n",
       "        0.0895694 , 0.0925169 , 0.09434833, 0.09523855, 0.09579619,\n",
       "        0.09774342, 0.10018553, 0.10093035, 0.10251402, 0.10262891,\n",
       "        0.10314251, 0.10475388, 0.10506717, 0.10577345, 0.10766572,\n",
       "        0.10923992, 0.10935258, 0.10997308, 0.11096078, 0.11106513,\n",
       "        0.1112398 , 0.11183512, 0.11263003, 0.11316211, 0.11371922,\n",
       "        0.11419049, 0.11441321, 0.11533754, 0.11545408, 0.11657346,\n",
       "        0.11686882, 0.11772684, 0.11834899, 0.11972727, 0.12252623,\n",
       "        0.12498236, 0.12569541, 0.12759875, 0.12841887, 0.12976328,\n",
       "        0.13049133, 0.13100042, 0.13255401, 0.13342469, 0.13392174,\n",
       "        0.13434451, 0.13480058, 0.13508109, 0.13509868, 0.13675842,\n",
       "        0.13787624, 0.13798359, 0.14014567, 0.14090501, 0.14137887,\n",
       "        0.14190093, 0.14274665, 0.14279641, 0.14473429, 0.14650814,\n",
       "        0.14763617, 0.14940259, 0.1498505 , 0.15136108, 0.1514355 ,\n",
       "        0.15253117, 0.15373314, 0.15437346, 0.15476973, 0.15629396,\n",
       "        0.15667825, 0.15820067, 0.15834725, 0.15875784, 0.15937477,\n",
       "        0.16194299, 0.16263959, 0.16321942, 0.163741  , 0.16384691,\n",
       "        0.16522099, 0.1666173 , 0.16712118, 0.16750092, 0.16825572,\n",
       "        0.16987776, 0.17017114, 0.17022335, 0.17119452, 0.17185768,\n",
       "        0.17222429, 0.17351575, 0.173936  , 0.17407987, 0.17443571,\n",
       "        0.1745006 , 0.17581274, 0.17658169, 0.17729555, 0.18030213,\n",
       "        0.18333992, 0.18577597, 0.1864232 , 0.18762042, 0.18791314,\n",
       "        0.19032869, 0.19057068, 0.19102694, 0.19282548, 0.1931677 ,\n",
       "        0.19448519, 0.1947723 , 0.1962276 , 0.19682081, 0.19957178,\n",
       "        0.20011129, 0.20192273, 0.20226101, 0.20306198, 0.20390726,\n",
       "        0.20424832, 0.20918598, 0.20958567, 0.21038345, 0.21160148,\n",
       "        0.21204044, 0.21293768, 0.21345397, 0.21699231, 0.21733928,\n",
       "        0.21741242, 0.21863716, 0.2230611 , 0.22316967, 0.22425024,\n",
       "        0.22430576, 0.22575871, 0.22694175, 0.22773631, 0.22985401,\n",
       "        0.23127733, 0.23174848, 0.23243453, 0.23363849, 0.23390519,\n",
       "        0.23393647, 0.23573268, 0.2367337 , 0.23680722, 0.23716314,\n",
       "        0.23719375, 0.23948687, 0.24010616, 0.24040453, 0.24064498,\n",
       "        0.24130712, 0.24540216, 0.24580456, 0.24683966, 0.24804518,\n",
       "        0.24812518, 0.24823646, 0.24962642, 0.24980019, 0.24980193,\n",
       "        0.25141269, 0.25398576, 0.25486489, 0.25488164, 0.25572701,\n",
       "        0.2581714 , 0.25911069, 0.2591872 , 0.25986107, 0.26006062,\n",
       "        0.26032341, 0.26278133, 0.26602956, 0.26671413, 0.26769736,\n",
       "        0.26894729, 0.26904128, 0.26974489, 0.27020934, 0.27101475,\n",
       "        0.27221505, 0.27231767, 0.27295731, 0.27598775, 0.27607166,\n",
       "        0.27643693, 0.28090347, 0.28225721, 0.28272478, 0.2831177 ,\n",
       "        0.28485022, 0.28609304, 0.28682197, 0.28953771, 0.28956923,\n",
       "        0.28961994, 0.29126752, 0.29257421, 0.29272936, 0.29328196,\n",
       "        0.29334895, 0.2942346 , 0.29423494, 0.29431105, 0.29481279,\n",
       "        0.29641146, 0.29656238, 0.2975109 , 0.29925095, 0.29935109,\n",
       "        0.29949285, 0.30242819, 0.30245694, 0.3038827 , 0.30414604,\n",
       "        0.30618441, 0.30679683, 0.30695403, 0.30967775, 0.31229555,\n",
       "        0.31233568, 0.31269652, 0.31417173, 0.31709367, 0.31748944,\n",
       "        0.31977874, 0.31984147, 0.32293789, 0.3248292 , 0.32508388,\n",
       "        0.32598354, 0.32651704, 0.32687866, 0.32767503, 0.32807884,\n",
       "        0.32946668, 0.33181396, 0.33209998, 0.33278738, 0.33317411,\n",
       "        0.33381389, 0.33403902, 0.33740958, 0.33745767, 0.33849553,\n",
       "        0.33942434, 0.34025953, 0.34094599, 0.34210962, 0.3428086 ,\n",
       "        0.34323762, 0.34549777, 0.34671581, 0.34719271, 0.34765618,\n",
       "        0.34849401, 0.3498105 , 0.34987443, 0.34993377, 0.3533734 ,\n",
       "        0.35376322, 0.35499144, 0.35547581, 0.35588277, 0.35590083,\n",
       "        0.35695263, 0.35797592, 0.35812615, 0.35830965, 0.35854598,\n",
       "        0.3593797 , 0.36023495, 0.360921  , 0.36165848, 0.36219215,\n",
       "        0.36322418, 0.36354447, 0.36365997, 0.36395959, 0.36445842,\n",
       "        0.36505242, 0.36508472, 0.36509953, 0.36579024, 0.36605712,\n",
       "        0.36934845, 0.37008018, 0.37018057, 0.37130266, 0.37248659,\n",
       "        0.37289025, 0.37921859, 0.37923246, 0.37941112, 0.38098905,\n",
       "        0.3811359 , 0.38186765, 0.38277082, 0.38399253, 0.38671897,\n",
       "        0.38703614, 0.38801761, 0.38858591, 0.38863266, 0.38880483,\n",
       "        0.38897142, 0.3893072 , 0.39002767, 0.39006544, 0.39086033,\n",
       "        0.39206838, 0.39211475, 0.39281914, 0.39298198, 0.39361132,\n",
       "        0.39473274, 0.39481277, 0.3949295 , 0.39568309, 0.39603535,\n",
       "        0.3963783 , 0.39678541, 0.3990158 , 0.40128591, 0.40186399,\n",
       "        0.40239708, 0.40302245, 0.40389617, 0.40649993, 0.40660505,\n",
       "        0.40687445, 0.40848789, 0.41003456, 0.41012353, 0.41018381,\n",
       "        0.41089026, 0.41137025, 0.41311975, 0.41462982, 0.41767717,\n",
       "        0.42170817, 0.42170857, 0.42261653, 0.42333501, 0.42500781,\n",
       "        0.42504554, 0.42561375, 0.42866992, 0.42921894, 0.42968651,\n",
       "        0.42997822, 0.4315034 , 0.43188232, 0.43287623, 0.43310645,\n",
       "        0.43359859, 0.440335  , 0.44134474, 0.44174161, 0.44233134,\n",
       "        0.44256386, 0.44481964, 0.44502219, 0.44573923, 0.44702725,\n",
       "        0.44838932, 0.45151884, 0.45169668, 0.45221487, 0.4528091 ,\n",
       "        0.45391763, 0.45437   , 0.45444984, 0.45474206, 0.45543469,\n",
       "        0.45786591, 0.45864015, 0.46074814, 0.46175385, 0.46215294,\n",
       "        0.46361291, 0.46531605, 0.46615151, 0.46678011, 0.46911182,\n",
       "        0.47042285, 0.47217881, 0.47270781, 0.47377989, 0.47657374,\n",
       "        0.47743637, 0.47782882, 0.47979328, 0.48088344, 0.4810176 ,\n",
       "        0.48134456, 0.48562956, 0.48589393, 0.48645706, 0.48694974,\n",
       "        0.48713387, 0.4893795 , 0.48955484, 0.49208533, 0.4930472 ,\n",
       "        0.49382639, 0.49397267, 0.49472935, 0.49489672, 0.49513203,\n",
       "        0.495377  , 0.49590485, 0.49652311, 0.49657586, 0.49691158,\n",
       "        0.4970985 , 0.49790932, 0.4988706 , 0.49909017, 0.49961012,\n",
       "        0.50147531, 0.50215818, 0.50237808, 0.50265093, 0.50294273,\n",
       "        0.50334419, 0.50528719, 0.50591068, 0.50600253, 0.50717284,\n",
       "        0.50774662, 0.50873063, 0.50941982, 0.50960699, 0.51099158,\n",
       "        0.51117654, 0.51127823, 0.5124579 , 0.51882715, 0.52045739,\n",
       "        0.52047472, 0.52048771, 0.52073902, 0.52322816, 0.52409013,\n",
       "        0.52441002, 0.52483744, 0.52575502, 0.52700407, 0.52872934,\n",
       "        0.52898802, 0.52930947, 0.53016282, 0.53043647, 0.53092785,\n",
       "        0.53099044, 0.53232888, 0.53383443, 0.53624564, 0.53661033,\n",
       "        0.53662779, 0.53719835, 0.53725285, 0.53776002, 0.53881705,\n",
       "        0.53912828, 0.54012876, 0.54137472, 0.5415658 , 0.5424307 ,\n",
       "        0.54250089, 0.54385793, 0.54500474, 0.54619581, 0.54758935,\n",
       "        0.54804429, 0.5487497 , 0.54885993, 0.54891691, 0.54993642,\n",
       "        0.55196307, 0.55224501, 0.55238102, 0.55588809, 0.55640095,\n",
       "        0.55708322, 0.55717698, 0.5573052 , 0.5576784 , 0.55845187,\n",
       "        0.56042018, 0.56047394, 0.56089939, 0.56488   , 0.56588716,\n",
       "        0.56628144, 0.56653399, 0.56665147, 0.56680353, 0.56955504,\n",
       "        0.56987276, 0.57242951, 0.57375174, 0.57572422, 0.57628984,\n",
       "        0.57646819, 0.57704674, 0.57785849, 0.57909613, 0.5807427 ,\n",
       "        0.58187058, 0.58390086, 0.58416993, 0.58627416, 0.59000365,\n",
       "        0.59102071, 0.591137  , 0.59226541, 0.59314344, 0.59328691,\n",
       "        0.59384168, 0.59536362, 0.59587973, 0.5967277 , 0.59866973,\n",
       "        0.59882252, 0.5988539 , 0.59914935, 0.59963957, 0.6009905 ,\n",
       "        0.60369894, 0.60417229, 0.60525956, 0.60599579, 0.607212  ,\n",
       "        0.61042334, 0.61119886, 0.61152615, 0.61301824, 0.61324546,\n",
       "        0.61343045, 0.61358211, 0.6148764 , 0.61492479, 0.61535987,\n",
       "        0.61825941, 0.61857757, 0.62325747, 0.6241345 , 0.62438943,\n",
       "        0.62497395, 0.62561195, 0.62670341, 0.62791017, 0.62890325,\n",
       "        0.62903776, 0.62975891, 0.63195132, 0.63218003, 0.63282256,\n",
       "        0.63373934, 0.63396859, 0.63428577, 0.63434109, 0.6349777 ,\n",
       "        0.63562139, 0.63604917, 0.63794291, 0.63871034, 0.63900578,\n",
       "        0.63941206, 0.64043767, 0.64177275, 0.64801421, 0.65609145,\n",
       "        0.65653439, 0.65666565, 0.65670437, 0.65776065, 0.65790213,\n",
       "        0.6581071 , 0.6600883 , 0.66034665, 0.66055431, 0.6609021 ,\n",
       "        0.66148714, 0.6615122 , 0.66189319, 0.66194583, 0.66224489,\n",
       "        0.66466697, 0.6657069 , 0.66604089, 0.66661224, 0.6669828 ,\n",
       "        0.66926262, 0.67001915, 0.67126922, 0.67143681, 0.6729098 ,\n",
       "        0.67357232, 0.67397915, 0.67491569, 0.67556706, 0.67661926,\n",
       "        0.67777277, 0.67824798, 0.67932117, 0.68100053, 0.68193511,\n",
       "        0.6850412 , 0.68738312, 0.68787424, 0.68867282, 0.68911362,\n",
       "        0.6906741 , 0.69114993, 0.69164682, 0.69210181, 0.69413675,\n",
       "        0.69604966, 0.69639726, 0.69677229, 0.69853956, 0.69870894,\n",
       "        0.69922518, 0.69936539, 0.70045685, 0.70137611, 0.70166825,\n",
       "        0.70274391, 0.70371039, 0.70412379, 0.70522459, 0.7053296 ,\n",
       "        0.7068043 , 0.71127234, 0.71357532, 0.71473992, 0.71610805,\n",
       "        0.71916931, 0.71919282, 0.72094453, 0.72097386, 0.72159849,\n",
       "        0.72348455, 0.72374479, 0.72427816, 0.72471583, 0.72480979,\n",
       "        0.72527764, 0.72748015, 0.72758331, 0.72951463, 0.73613286,\n",
       "        0.73703447, 0.73929176, 0.73989496, 0.741431  , 0.74201048,\n",
       "        0.74266386, 0.74322872, 0.74323953, 0.74361688, 0.74417722,\n",
       "        0.74427732, 0.74477872, 0.74687612, 0.74876946, 0.74947528,\n",
       "        0.74975025, 0.74991756, 0.75255298, 0.7528644 , 0.75485031,\n",
       "        0.75551345, 0.75676057, 0.75703847, 0.75716427, 0.75730715,\n",
       "        0.75967922, 0.76224497, 0.76417325, 0.76479513, 0.76529932,\n",
       "        0.76705332, 0.76929327, 0.76944041, 0.76948583, 0.77078581,\n",
       "        0.77113057, 0.77131241, 0.77209056, 0.77451251, 0.77480601,\n",
       "        0.77561513, 0.7762256 , 0.77727344, 0.78054889, 0.78246147,\n",
       "        0.78438081, 0.78868708, 0.78874925, 0.78895632, 0.78898443,\n",
       "        0.7920503 , 0.79236454, 0.79424453, 0.79585391, 0.79765458,\n",
       "        0.79781907, 0.79931016, 0.79951469, 0.80106504, 0.80224904,\n",
       "        0.80499061, 0.80610866, 0.80681113, 0.80985701, 0.81074303,\n",
       "        0.81088982, 0.81348847, 0.81369793, 0.81446558, 0.8155559 ,\n",
       "        0.81571425, 0.81658062, 0.8183418 , 0.81838464, 0.81938636,\n",
       "        0.81952664, 0.82072754, 0.82145358, 0.82383592, 0.82552661,\n",
       "        0.8284501 , 0.83025147, 0.83204251, 0.83324207, 0.83343578,\n",
       "        0.83604782, 0.83716972, 0.83769573, 0.84151484, 0.84217766,\n",
       "        0.84222504, 0.84266488, 0.84504496, 0.84594287, 0.84741501,\n",
       "        0.84919137, 0.85275685, 0.85604692, 0.85657536, 0.85798753,\n",
       "        0.85944434, 0.85968258, 0.86134495, 0.86444033, 0.86573304,\n",
       "        0.86731071, 0.86858561, 0.8709661 , 0.87179427, 0.87251149,\n",
       "        0.87320757, 0.87341571, 0.87376698, 0.8746975 , 0.87470433,\n",
       "        0.87493095, 0.87607861, 0.87750337, 0.87845444, 0.87846558,\n",
       "        0.87851821, 0.87882017, 0.8790513 , 0.88077365, 0.88096792,\n",
       "        0.88142195, 0.88197898, 0.8822408 , 0.88242294, 0.88401117,\n",
       "        0.88423259, 0.88559035, 0.88560187, 0.88783579, 0.88911825,\n",
       "        0.8892691 , 0.89000183, 0.89346729, 0.89393853, 0.89540469,\n",
       "        0.89660573, 0.89761761, 0.8981964 , 0.89892613, 0.901013  ,\n",
       "        0.90109572, 0.9012193 , 0.90126282, 0.90135827, 0.90339793,\n",
       "        0.90343091, 0.90420572, 0.90518444, 0.90664571, 0.90687406,\n",
       "        0.90765051, 0.90833334, 0.91186318, 0.91230165, 0.91614594,\n",
       "        0.91703532, 0.91769168, 0.91794557, 0.91804922, 0.92147849,\n",
       "        0.92400314, 0.92497513, 0.92694714, 0.92827384, 0.92900097,\n",
       "        0.93256351, 0.93272461, 0.9334238 , 0.93429172, 0.93550469,\n",
       "        0.93631773, 0.93669734, 0.93737401, 0.93781721, 0.93782195,\n",
       "        0.93862731, 0.93893016, 0.93939354, 0.94144978, 0.94216357,\n",
       "        0.94417509, 0.94621351, 0.94682043, 0.94715024, 0.9471923 ,\n",
       "        0.94894615, 0.94922472, 0.95082664, 0.95097757, 0.95122965,\n",
       "        0.95154431, 0.95217555, 0.9522118 , 0.95234154, 0.95506987,\n",
       "        0.95575185, 0.95622828, 0.95653917, 0.95738876, 0.95966044,\n",
       "        0.96139944, 0.963682  , 0.96488668, 0.96810108, 0.96947259,\n",
       "        0.97191013, 0.97211518, 0.97265022, 0.97334586, 0.97337813,\n",
       "        0.9734091 , 0.97347896, 0.97476899, 0.97547518, 0.97610322,\n",
       "        0.97641786, 0.97789118, 0.98306869, 0.98358071, 0.98856028,\n",
       "        0.98933325, 0.9895812 , 0.9900433 , 0.99173006, 0.99423607,\n",
       "        0.99424668, 0.99460469, 0.99513504, 0.99562889, 0.9957074 ,\n",
       "        0.9957152 , 0.99592355, 0.9974029 , 0.99748482, 0.99858646]),\n",
       " array([1, 1, 1, 1, 1, 1, 1, 1, 1, 1, 1, 1, 1, 1, 1, 1, 1, 1, 1, 1, 1, 1,\n",
       "        1, 1, 1, 1, 1, 1, 1, 1, 1, 1, 1, 1, 1, 1, 1, 1, 1, 1, 1, 1, 1, 1,\n",
       "        1, 1, 1, 1, 1, 1, 1, 1, 1, 1, 1, 1, 1, 1, 1, 1, 1, 1, 1, 1, 1, 1,\n",
       "        1, 1, 1, 1, 1, 1, 1, 1, 1, 1, 1, 1, 1, 1, 1, 1, 1, 1, 1, 1, 1, 1,\n",
       "        1, 1, 1, 1, 1, 1, 1, 1, 1, 1, 1, 1, 1, 1, 1, 1, 1, 1, 1, 1, 1, 1,\n",
       "        1, 1, 1, 1, 1, 1, 1, 1, 1, 1, 1, 1, 1, 1, 1, 1, 1, 1, 1, 1, 1, 1,\n",
       "        1, 1, 1, 1, 1, 1, 1, 1, 1, 1, 1, 1, 1, 1, 1, 1, 1, 1, 1, 1, 1, 1,\n",
       "        1, 1, 1, 1, 1, 1, 1, 1, 1, 1, 1, 1, 1, 1, 1, 1, 1, 1, 1, 1, 1, 1,\n",
       "        1, 1, 1, 1, 1, 1, 1, 1, 1, 1, 1, 1, 1, 1, 1, 1, 1, 1, 1, 1, 1, 1,\n",
       "        1, 1, 1, 1, 1, 1, 1, 1, 1, 1, 1, 1, 1, 1, 1, 1, 1, 1, 1, 1, 1, 1,\n",
       "        1, 1, 1, 1, 1, 1, 1, 1, 1, 1, 1, 1, 1, 1, 1, 1, 1, 1, 1, 1, 1, 1,\n",
       "        1, 1, 1, 1, 1, 1, 1, 1, 1, 1, 1, 1, 1, 1, 1, 1, 1, 1, 1, 1, 1, 1,\n",
       "        1, 1, 1, 1, 1, 1, 1, 1, 1, 1, 1, 1, 1, 1, 1, 1, 1, 1, 1, 1, 1, 1,\n",
       "        1, 1, 1, 1, 1, 1, 1, 1, 1, 1, 1, 1, 1, 1, 1, 1, 1, 1, 1, 1, 1, 1,\n",
       "        1, 1, 1, 1, 1, 1, 1, 1, 1, 1, 1, 1, 1, 1, 1, 1, 1, 1, 1, 1, 1, 1,\n",
       "        1, 1, 1, 1, 1, 1, 1, 1, 1, 1, 1, 1, 1, 1, 1, 1, 1, 1, 1, 1, 1, 1,\n",
       "        1, 1, 1, 1, 1, 1, 1, 1, 1, 1, 1, 1, 1, 1, 1, 1, 1, 1, 1, 1, 1, 1,\n",
       "        1, 1, 1, 1, 1, 1, 1, 1, 1, 1, 1, 1, 1, 1, 1, 1, 1, 1, 1, 1, 1, 1,\n",
       "        1, 1, 1, 1, 1, 1, 1, 1, 1, 1, 1, 1, 1, 1, 1, 1, 1, 1, 1, 1, 1, 1,\n",
       "        1, 1, 1, 1, 1, 1, 1, 1, 1, 1, 1, 1, 1, 1, 1, 1, 1, 1, 1, 1, 1, 1,\n",
       "        1, 1, 1, 1, 1, 1, 1, 1, 1, 1, 1, 1, 1, 1, 1, 1, 1, 1, 1, 1, 1, 1,\n",
       "        1, 1, 1, 1, 1, 1, 1, 1, 1, 1, 1, 1, 1, 1, 1, 1, 1, 1, 1, 1, 1, 1,\n",
       "        1, 1, 1, 1, 1, 1, 1, 1, 1, 1, 1, 1, 1, 1, 1, 1, 1, 1, 1, 1, 1, 1,\n",
       "        1, 1, 1, 1, 1, 1, 1, 1, 1, 1, 1, 1, 1, 1, 1, 1, 1, 1, 1, 1, 1, 1,\n",
       "        1, 1, 1, 1, 1, 1, 1, 1, 1, 1, 1, 1, 1, 1, 1, 1, 1, 1, 1, 1, 1, 1,\n",
       "        1, 1, 1, 1, 1, 1, 1, 1, 1, 1, 1, 1, 1, 1, 1, 1, 1, 1, 1, 1, 1, 1,\n",
       "        1, 1, 1, 1, 1, 1, 1, 1, 1, 1, 1, 1, 1, 1, 1, 1, 1, 1, 1, 1, 1, 1,\n",
       "        1, 1, 1, 1, 1, 1, 1, 1, 1, 1, 1, 1, 1, 1, 1, 1, 1, 1, 1, 1, 1, 1,\n",
       "        1, 1, 1, 1, 1, 1, 1, 1, 1, 1, 1, 1, 1, 1, 1, 1, 1, 1, 1, 1, 1, 1,\n",
       "        1, 1, 1, 1, 1, 1, 1, 1, 1, 1, 1, 1, 1, 1, 1, 1, 1, 1, 1, 1, 1, 1,\n",
       "        1, 1, 1, 1, 1, 1, 1, 1, 1, 1, 1, 1, 1, 1, 1, 1, 1, 1, 1, 1, 1, 1,\n",
       "        1, 1, 1, 1, 1, 1, 1, 1, 1, 1, 1, 1, 1, 1, 1, 1, 1, 1, 1, 1, 1, 1,\n",
       "        1, 1, 1, 1, 1, 1, 1, 1, 1, 1, 1, 1, 1, 1, 1, 1, 1, 1, 1, 1, 1, 1,\n",
       "        1, 1, 1, 1, 1, 1, 1, 1, 1, 1, 1, 1, 1, 1, 1, 1, 1, 1, 1, 1, 1, 1,\n",
       "        1, 1, 1, 1, 1, 1, 1, 1, 1, 1, 1, 1, 1, 1, 1, 1, 1, 1, 1, 1, 1, 1,\n",
       "        1, 1, 1, 1, 1, 1, 1, 1, 1, 1, 1, 1, 1, 1, 1, 1, 1, 1, 1, 1, 1, 1,\n",
       "        1, 1, 1, 1, 1, 1, 1, 1, 1, 1, 1, 1, 1, 1, 1, 1, 1, 1, 1, 1, 1, 1,\n",
       "        1, 1, 1, 1, 1, 1, 1, 1, 1, 1, 1, 1, 1, 1, 1, 1, 1, 1, 1, 1, 1, 1,\n",
       "        1, 1, 1, 1, 1, 1, 1, 1, 1, 1, 1, 1, 1, 1, 1, 1, 1, 1, 1, 1, 1, 1,\n",
       "        1, 1, 1, 1, 1, 1, 1, 1, 1, 1, 1, 1, 1, 1, 1, 1, 1, 1, 1, 1, 1, 1,\n",
       "        1, 1, 1, 1, 1, 1, 1, 1, 1, 1, 1, 1, 1, 1, 1, 1, 1, 1, 1, 1, 1, 1,\n",
       "        1, 1, 1, 1, 1, 1, 1, 1, 1, 1, 1, 1, 1, 1, 1, 1, 1, 1, 1, 1, 1, 1,\n",
       "        1, 1, 1, 1, 1, 1, 1, 1, 1, 1, 1, 1, 1, 1, 1, 1, 1, 1, 1, 1, 1, 1,\n",
       "        1, 1, 1, 1, 1, 1, 1, 1, 1, 1, 1, 1, 1, 1, 1, 1, 1, 1, 1, 1, 1, 1,\n",
       "        1, 1, 1, 1, 1, 1, 1, 1, 1, 1, 1, 1, 1, 1, 1, 1, 1, 1, 1, 1, 1, 1,\n",
       "        1, 1, 1, 1, 1, 1, 1, 1, 1, 1], dtype=int64))"
      ]
     },
     "execution_count": 54,
     "metadata": {},
     "output_type": "execute_result"
    }
   ],
   "source": [
    "np.unique(dados_uniforme, return_counts=True)"
   ]
  },
  {
   "cell_type": "code",
   "execution_count": 55,
   "id": "3aa97b33",
   "metadata": {},
   "outputs": [
    {
     "data": {
      "text/plain": [
       "(1997, 5)"
      ]
     },
     "execution_count": 55,
     "metadata": {},
     "output_type": "execute_result"
    }
   ],
   "source": [
    "dataset = pd.read_csv('credit_data.csv')\n",
    "dataset.dropna(inplace=True)\n",
    "dataset.shape"
   ]
  },
  {
   "cell_type": "code",
   "execution_count": 56,
   "id": "0c0423ec",
   "metadata": {},
   "outputs": [
    {
     "data": {
      "text/html": [
       "<div>\n",
       "<style scoped>\n",
       "    .dataframe tbody tr th:only-of-type {\n",
       "        vertical-align: middle;\n",
       "    }\n",
       "\n",
       "    .dataframe tbody tr th {\n",
       "        vertical-align: top;\n",
       "    }\n",
       "\n",
       "    .dataframe thead th {\n",
       "        text-align: right;\n",
       "    }\n",
       "</style>\n",
       "<table border=\"1\" class=\"dataframe\">\n",
       "  <thead>\n",
       "    <tr style=\"text-align: right;\">\n",
       "      <th></th>\n",
       "      <th>i#clientid</th>\n",
       "      <th>income</th>\n",
       "      <th>age</th>\n",
       "      <th>loan</th>\n",
       "      <th>c#default</th>\n",
       "    </tr>\n",
       "  </thead>\n",
       "  <tbody>\n",
       "    <tr>\n",
       "      <th>0</th>\n",
       "      <td>1</td>\n",
       "      <td>66155.925095</td>\n",
       "      <td>59.017015</td>\n",
       "      <td>8106.532131</td>\n",
       "      <td>0</td>\n",
       "    </tr>\n",
       "    <tr>\n",
       "      <th>1</th>\n",
       "      <td>2</td>\n",
       "      <td>34415.153966</td>\n",
       "      <td>48.117153</td>\n",
       "      <td>6564.745018</td>\n",
       "      <td>0</td>\n",
       "    </tr>\n",
       "    <tr>\n",
       "      <th>2</th>\n",
       "      <td>3</td>\n",
       "      <td>57317.170063</td>\n",
       "      <td>63.108049</td>\n",
       "      <td>8020.953296</td>\n",
       "      <td>0</td>\n",
       "    </tr>\n",
       "    <tr>\n",
       "      <th>3</th>\n",
       "      <td>4</td>\n",
       "      <td>42709.534201</td>\n",
       "      <td>45.751972</td>\n",
       "      <td>6103.642260</td>\n",
       "      <td>0</td>\n",
       "    </tr>\n",
       "    <tr>\n",
       "      <th>4</th>\n",
       "      <td>5</td>\n",
       "      <td>66952.688845</td>\n",
       "      <td>18.584336</td>\n",
       "      <td>8770.099235</td>\n",
       "      <td>1</td>\n",
       "    </tr>\n",
       "  </tbody>\n",
       "</table>\n",
       "</div>"
      ],
      "text/plain": [
       "   i#clientid        income        age         loan  c#default\n",
       "0           1  66155.925095  59.017015  8106.532131          0\n",
       "1           2  34415.153966  48.117153  6564.745018          0\n",
       "2           3  57317.170063  63.108049  8020.953296          0\n",
       "3           4  42709.534201  45.751972  6103.642260          0\n",
       "4           5  66952.688845  18.584336  8770.099235          1"
      ]
     },
     "execution_count": 56,
     "metadata": {},
     "output_type": "execute_result"
    }
   ],
   "source": [
    "dataset.head()"
   ]
  },
  {
   "cell_type": "code",
   "execution_count": 57,
   "id": "d70a3731",
   "metadata": {},
   "outputs": [
    {
     "data": {
      "text/plain": [
       "array([[6.61559251e+04, 5.90170151e+01, 8.10653213e+03],\n",
       "       [3.44151540e+04, 4.81171531e+01, 6.56474502e+03],\n",
       "       [5.73171701e+04, 6.31080495e+01, 8.02095330e+03],\n",
       "       ...,\n",
       "       [4.43114493e+04, 2.80171669e+01, 5.52278669e+03],\n",
       "       [4.37560566e+04, 6.39717958e+01, 1.62272260e+03],\n",
       "       [6.94365796e+04, 5.61526170e+01, 7.37883360e+03]])"
      ]
     },
     "execution_count": 57,
     "metadata": {},
     "output_type": "execute_result"
    }
   ],
   "source": [
    "X = dataset.iloc[:, 1:4].values\n",
    "X"
   ]
  },
  {
   "cell_type": "code",
   "execution_count": 58,
   "id": "4d7564d9",
   "metadata": {},
   "outputs": [
    {
     "data": {
      "text/plain": [
       "array([0, 0, 0, ..., 1, 0, 0], dtype=int64)"
      ]
     },
     "execution_count": 58,
     "metadata": {},
     "output_type": "execute_result"
    }
   ],
   "source": [
    "y = dataset.iloc[:, 4].values\n",
    "y"
   ]
  },
  {
   "cell_type": "code",
   "execution_count": 59,
   "id": "3e5752fe",
   "metadata": {},
   "outputs": [],
   "source": [
    "from sklearn.naive_bayes import GaussianNB\n",
    "from sklearn.metrics import accuracy_score\n",
    "from sklearn.model_selection import train_test_split"
   ]
  },
  {
   "cell_type": "code",
   "execution_count": 60,
   "id": "ee2c91de",
   "metadata": {},
   "outputs": [],
   "source": [
    "resultados_naive_bayes = []\n",
    "for i in range(30):\n",
    "  X_treinamento, X_teste, y_treinamento, y_teste = train_test_split(X, y, test_size = 0.2, \n",
    "                                                                    stratify = y, random_state = i)\n",
    "  naive_bayes = GaussianNB()\n",
    "  naive_bayes.fit(X_treinamento, y_treinamento)\n",
    "  resultados_naive_bayes.append(accuracy_score(y_teste, naive_bayes.predict(X_teste)))"
   ]
  },
  {
   "cell_type": "code",
   "execution_count": 61,
   "id": "82deea13",
   "metadata": {},
   "outputs": [
    {
     "name": "stdout",
     "output_type": "stream",
     "text": [
      "[0.925, 0.925, 0.9325, 0.925, 0.92, 0.905, 0.9175, 0.9175, 0.9125, 0.9325, 0.9225, 0.9125, 0.935, 0.9175, 0.925, 0.9175, 0.9275, 0.92, 0.9325, 0.92, 0.93, 0.905, 0.9175, 0.9325, 0.9425, 0.9375, 0.94, 0.92, 0.935, 0.925]\n"
     ]
    }
   ],
   "source": [
    "print(resultados_naive_bayes)"
   ]
  },
  {
   "cell_type": "code",
   "execution_count": 62,
   "id": "350cf260",
   "metadata": {},
   "outputs": [
    {
     "data": {
      "image/png": "[encoded data removed]",
      "text/plain": [
       "<Figure size 432x288 with 1 Axes>"
      ]
     },
     "metadata": {
      "needs_background": "light"
     },
     "output_type": "display_data"
    }
   ],
   "source": [
    "sns.distplot(resultados_naive_bayes, bins = 10);"
   ]
  },
  {
   "cell_type": "markdown",
   "id": "37e72cf8",
   "metadata": {},
   "source": [
    "### Variáveis discretas"
   ]
  },
  {
   "cell_type": "markdown",
   "id": "c3169890",
   "metadata": {},
   "source": [
    "### Distribuição de Bernoulli\n",
    "\n",
    "- Tipo específico da distribuição binomial\n",
    "- Possui somente duas respostas: sucesso ou fracasso"
   ]
  },
  {
   "cell_type": "code",
   "execution_count": 63,
   "id": "8013c6ba",
   "metadata": {},
   "outputs": [],
   "source": [
    "from scipy.stats import bernoulli"
   ]
  },
  {
   "cell_type": "code",
   "execution_count": 64,
   "id": "d787a6df",
   "metadata": {},
   "outputs": [],
   "source": [
    "dados_bernoulli = bernoulli.rvs(size=1000, p=0.3)"
   ]
  },
  {
   "cell_type": "code",
   "execution_count": 65,
   "id": "c4decbcf",
   "metadata": {},
   "outputs": [
    {
     "data": {
      "text/plain": [
       "array([0, 0, 1, 0, 0, 0, 1, 0, 0, 0, 0, 0, 0, 0, 0, 0, 0, 1, 0, 0, 0, 0,\n",
       "       0, 1, 0, 0, 0, 0, 0, 0, 1, 1, 0, 0, 1, 0, 0, 0, 1, 0, 0, 0, 1, 0,\n",
       "       0, 1, 1, 0, 0, 1, 1, 0, 0, 0, 1, 0, 0, 0, 0, 0, 0, 1, 0, 0, 0, 0,\n",
       "       1, 0, 0, 1, 0, 0, 1, 1, 0, 1, 1, 1, 1, 1, 0, 0, 1, 0, 0, 0, 0, 1,\n",
       "       1, 0, 0, 0, 0, 0, 0, 1, 1, 0, 0, 1, 1, 0, 1, 0, 0, 0, 0, 0, 0, 0,\n",
       "       0, 1, 0, 0, 0, 1, 0, 0, 0, 0, 0, 0, 0, 0, 0, 0, 0, 1, 1, 1, 0, 0,\n",
       "       0, 1, 1, 1, 0, 1, 1, 0, 0, 0, 0, 0, 1, 1, 0, 0, 1, 0, 1, 1, 1, 1,\n",
       "       1, 0, 0, 1, 0, 0, 0, 0, 0, 0, 0, 0, 0, 1, 1, 0, 0, 0, 0, 0, 0, 1,\n",
       "       0, 0, 0, 1, 0, 0, 0, 0, 0, 0, 1, 0, 0, 0, 0, 0, 1, 1, 0, 0, 0, 1,\n",
       "       1, 0, 1, 1, 0, 1, 0, 0, 0, 1, 1, 1, 1, 0, 1, 0, 0, 1, 1, 0, 1, 1,\n",
       "       1, 1, 0, 0, 0, 1, 0, 0, 0, 1, 0, 1, 1, 1, 0, 0, 0, 0, 0, 1, 0, 1,\n",
       "       0, 1, 0, 0, 1, 0, 1, 0, 0, 1, 0, 0, 0, 0, 1, 1, 1, 0, 0, 0, 0, 0,\n",
       "       0, 1, 1, 1, 1, 1, 0, 1, 1, 0, 1, 0, 1, 0, 1, 0, 0, 1, 0, 0, 0, 0,\n",
       "       1, 1, 0, 0, 1, 0, 0, 0, 1, 0, 0, 0, 0, 1, 0, 0, 0, 0, 0, 0, 0, 0,\n",
       "       0, 0, 0, 1, 0, 1, 0, 0, 0, 0, 0, 1, 0, 1, 0, 0, 0, 0, 1, 1, 1, 0,\n",
       "       1, 0, 1, 0, 1, 0, 0, 0, 0, 0, 0, 0, 1, 0, 1, 0, 0, 1, 1, 0, 0, 1,\n",
       "       0, 1, 0, 0, 1, 0, 1, 1, 1, 0, 1, 1, 0, 0, 1, 0, 0, 0, 1, 1, 0, 0,\n",
       "       0, 1, 0, 0, 1, 0, 0, 0, 1, 0, 0, 1, 1, 1, 0, 0, 1, 1, 1, 0, 0, 0,\n",
       "       0, 0, 0, 0, 1, 0, 0, 0, 0, 0, 0, 1, 0, 0, 0, 0, 0, 1, 0, 0, 1, 0,\n",
       "       0, 0, 1, 0, 0, 0, 0, 1, 0, 1, 0, 0, 1, 0, 1, 0, 0, 0, 1, 0, 0, 0,\n",
       "       0, 1, 0, 1, 0, 0, 0, 0, 0, 0, 1, 0, 0, 1, 0, 0, 0, 0, 1, 0, 0, 1,\n",
       "       0, 0, 0, 0, 0, 0, 0, 1, 1, 0, 0, 0, 0, 0, 1, 0, 1, 0, 0, 1, 0, 1,\n",
       "       0, 0, 1, 0, 0, 0, 0, 0, 1, 1, 1, 0, 0, 0, 0, 0, 1, 0, 0, 1, 1, 1,\n",
       "       0, 1, 1, 0, 1, 0, 0, 0, 1, 0, 1, 0, 0, 0, 1, 0, 1, 0, 0, 0, 0, 0,\n",
       "       0, 0, 1, 0, 0, 1, 0, 0, 1, 0, 0, 0, 1, 0, 0, 1, 0, 1, 1, 1, 0, 1,\n",
       "       0, 0, 0, 0, 0, 0, 0, 0, 0, 0, 1, 0, 0, 1, 0, 0, 0, 0, 1, 0, 1, 0,\n",
       "       1, 0, 1, 0, 0, 0, 0, 0, 1, 1, 1, 0, 0, 0, 0, 0, 0, 0, 0, 0, 0, 0,\n",
       "       0, 0, 0, 0, 0, 0, 0, 1, 0, 1, 0, 0, 0, 0, 1, 0, 0, 0, 0, 0, 0, 1,\n",
       "       0, 0, 0, 1, 0, 1, 0, 0, 1, 0, 0, 1, 0, 0, 1, 0, 1, 1, 1, 1, 0, 0,\n",
       "       0, 0, 1, 1, 0, 0, 1, 1, 0, 0, 1, 0, 0, 0, 0, 1, 0, 1, 0, 1, 0, 1,\n",
       "       1, 0, 0, 0, 0, 0, 0, 1, 0, 0, 0, 0, 0, 0, 0, 0, 1, 0, 1, 0, 0, 1,\n",
       "       0, 1, 0, 1, 0, 1, 0, 0, 0, 0, 0, 0, 1, 1, 0, 0, 1, 0, 1, 0, 1, 0,\n",
       "       0, 0, 0, 0, 0, 0, 0, 0, 0, 1, 0, 0, 0, 1, 0, 1, 0, 1, 0, 0, 0, 1,\n",
       "       0, 1, 0, 1, 0, 1, 1, 1, 0, 0, 0, 0, 0, 0, 0, 1, 0, 0, 0, 0, 0, 0,\n",
       "       1, 1, 1, 0, 0, 0, 1, 0, 1, 0, 1, 1, 0, 1, 1, 1, 0, 0, 1, 1, 1, 0,\n",
       "       0, 1, 1, 1, 0, 0, 0, 0, 0, 1, 0, 1, 1, 0, 0, 0, 0, 0, 0, 1, 0, 0,\n",
       "       0, 0, 0, 0, 1, 0, 0, 0, 0, 1, 0, 0, 1, 1, 1, 0, 0, 0, 0, 0, 0, 0,\n",
       "       1, 1, 0, 0, 0, 0, 0, 1, 0, 1, 0, 0, 1, 0, 0, 1, 0, 1, 1, 0, 0, 0,\n",
       "       0, 0, 0, 1, 1, 1, 0, 0, 1, 0, 0, 1, 0, 0, 1, 0, 1, 0, 0, 0, 0, 0,\n",
       "       0, 1, 0, 0, 0, 0, 0, 0, 0, 0, 0, 0, 1, 0, 1, 1, 0, 1, 0, 0, 0, 1,\n",
       "       0, 1, 0, 1, 0, 1, 0, 0, 0, 0, 1, 1, 0, 0, 1, 0, 1, 1, 0, 0, 1, 0,\n",
       "       0, 0, 0, 0, 0, 0, 0, 0, 0, 0, 0, 1, 0, 0, 1, 0, 0, 0, 0, 0, 1, 1,\n",
       "       0, 0, 0, 0, 1, 1, 0, 1, 0, 0, 1, 1, 0, 0, 0, 0, 1, 0, 0, 0, 0, 0,\n",
       "       0, 1, 1, 0, 0, 0, 0, 1, 0, 0, 0, 0, 0, 1, 0, 0, 1, 0, 0, 0, 0, 1,\n",
       "       0, 0, 0, 1, 0, 0, 0, 0, 1, 0, 0, 0, 0, 0, 0, 0, 0, 1, 0, 0, 0, 0,\n",
       "       0, 0, 0, 0, 0, 0, 0, 0, 1, 1])"
      ]
     },
     "execution_count": 65,
     "metadata": {},
     "output_type": "execute_result"
    }
   ],
   "source": [
    "dados_bernoulli"
   ]
  },
  {
   "cell_type": "code",
   "execution_count": 66,
   "id": "f61716fe",
   "metadata": {},
   "outputs": [
    {
     "data": {
      "text/plain": [
       "(array([0, 1]), array([685, 315], dtype=int64))"
      ]
     },
     "execution_count": 66,
     "metadata": {},
     "output_type": "execute_result"
    }
   ],
   "source": [
    "np.unique(dados_bernoulli, return_counts=True)"
   ]
  },
  {
   "cell_type": "code",
   "execution_count": 67,
   "id": "80ff292c",
   "metadata": {},
   "outputs": [
    {
     "data": {
      "image/png": "[encoded data removed]",
      "text/plain": [
       "<Figure size 432x288 with 1 Axes>"
      ]
     },
     "metadata": {
      "needs_background": "light"
     },
     "output_type": "display_data"
    }
   ],
   "source": [
    "sns.distplot(dados_bernoulli, kde=False);"
   ]
  },
  {
   "cell_type": "markdown",
   "id": "2f691d81",
   "metadata": {},
   "source": [
    "### Distribuição binomial\n",
    "\n",
    "- Somente duas possibilidades (sucesso ou falha)\n",
    "- Probabilidade de sucesso ou falha"
   ]
  },
  {
   "cell_type": "code",
   "execution_count": 68,
   "id": "8fa6b7f4",
   "metadata": {},
   "outputs": [],
   "source": [
    "from scipy.stats import binom"
   ]
  },
  {
   "cell_type": "code",
   "execution_count": 69,
   "id": "59c6c72e",
   "metadata": {},
   "outputs": [],
   "source": [
    "dados_binomial = binom.rvs(size = 1000, n = 10, p = 0.8)"
   ]
  },
  {
   "cell_type": "code",
   "execution_count": 70,
   "id": "a262e402",
   "metadata": {},
   "outputs": [
    {
     "data": {
      "text/plain": [
       "(array([ 3,  4,  5,  6,  7,  8,  9, 10]),\n",
       " array([  1,   4,  27, 109, 197, 295, 257, 110], dtype=int64))"
      ]
     },
     "execution_count": 70,
     "metadata": {},
     "output_type": "execute_result"
    }
   ],
   "source": [
    "np.unique(dados_binomial, return_counts=True)"
   ]
  },
  {
   "cell_type": "code",
   "execution_count": 71,
   "id": "0d2cbfac",
   "metadata": {},
   "outputs": [
    {
     "name": "stdout",
     "output_type": "stream",
     "text": [
      "[ 7  7 10  6  7  6  9  8  8  8  8  8  9  9  8  8  6  7  8  7  8  7  9  5\n",
      "  9  7  7  9  9  5  8  8  9  8  8  9  7  8  7  8  6  9  8  7  5  9  6 10\n",
      "  9  9  6  9  8  8  7  8 10  9  7  7  8  7  5 10 10  7  8  9 10  5  7  7\n",
      "  7  8  6  8 10  9  7  6  9  8  8  8  8 10  6  6  7  9  7  6  9 10  6  8\n",
      "  8  6 10  8  9  9  8  7  8  8  8  6  7  6  9  8 10  7  9  7  9  7  7  8\n",
      "  9  8  8  7  6  9  6 10  8  7  7  9  7  9  8  8  8  8  7  8  9  8  7  9\n",
      "  5  7  7  6  9  9  9  7  7  6 10 10  9 10  9  7  8  8  9  9  9  8  5  7\n",
      "  7  9  8  8  8  8  9  8  9  9  8 10  6  8  9  8  9  8  7  7 10 10  9  6\n",
      "  6  8  7  5 10  6  8  8  7  8  9  5  6  6  6  9  9  6  9 10  9  8  7  7\n",
      "  6  7  9  6  7  8  7  7  6  6  9  7  8  9  7  9  8  6  8  8  7  8  6  9\n",
      "  7  7  9  8  6  8 10  9  6  6  9  9  8 10  8  7  8 10  8  6  9  7  9  9\n",
      " 10  6  8  6  8  8  9  9  8  8  8  8  7  8  5  7  7  8  9  9  8  9  8  8\n",
      " 10  7  8  7 10 10  4  9  8  9  7  9  6  8  8  9  8  7  7  7 10  9  9  8\n",
      "  9  8  9  7  7  8 10 10  9  8  7  9  9  9  9  9  7  8  8  8  9  8  9  8\n",
      "  8  7  8  9  8  7  8  7  7  9 10  7  7  7  7  9  9  7  8 10  9  5  9  8\n",
      "  9  8  9  9  8  8  9 10  9  9  7  9 10 10  9  8  6 10  6  8 10  9  8  9\n",
      "  6  9  8  9  9  9  7  9  9  7  8 10  5  7  9  9  7  8  7 10  8  7  8  9\n",
      "  8  8  8  8 10  7  9  7  7  8  3  6  8  8  9 10  8  9  9  8  9  8  6  7\n",
      "  9  7  6  8  9 10  6  6  8  9  7  7  8  8  8  7  7  7  6  7  9  8  7  9\n",
      "  8  7  9  8 10  5  9  9  9  7  9  6  8  8  9  8  5  8  7  9  7  7  9  9\n",
      "  8  7  8 10  7  7  9  9  8  9  9  8  9 10  9 10  8  8  6  9  6  6  9  7\n",
      "  8  6  8  7  7 10  8  9  4  8  8  6  9  6 10  8 10 10  9  6  9  7  5  7\n",
      "  9 10  8  6  9  7 10  8  7  8  9  9  9  8  7  9  7  9  7  8  8  8  7  9\n",
      "  6  6  8  8  8  8  9  8  9  7  8 10 10  9  9  8  5  8  9  7  9  7  8  7\n",
      "  8  6  7  7 10  8  9  9  7  9 10  9  7  8 10  8  8  8  9  6 10  5  8  9\n",
      "  8  9  8  9  6  8  9  8  6  9  6  8  7  8  6 10  8  8  6  8  9  5  7  7\n",
      "  9 10  8  8  6  7  6  7  8  9  9  9  9  6  8  8  7  9  7 10  8  7  9  8\n",
      "  7  9  8  9  8  8  8  6  7  9 10  8 10  8  6  9  9  8  8  8  9  9  8  8\n",
      "  9 10 10  8  7  6  6  7  7  8  4  8  7  7  7  8  6  7  7  5 10  7  9 10\n",
      "  8 10  9  8  7  8  6 10  9  8  8 10  9  8 10  9  6  9  9  8 10  9  6  5\n",
      "  8  8  8  8  8  6 10  8  9  8  5  7  8  8  9  7  7 10  8  8  8  9  9  8\n",
      "  7  5  9  9  9  8  8  6  9  8  9  6  9  7  9  8  8  8 10  8  9 10  6  5\n",
      "  7  7  8 10  8 10  7  6  9  7  6  9 10  7  7  7 10  9  8  8  8  7  7  9\n",
      "  8  7  7  8  6 10  8  8  8  8  9  8  9  7  9 10 10  8  8  7  7 10  9  8\n",
      " 10  8  8  9 10  9 10  7 10  8  8  7  7  8  6  7 10  6  8  8 10  8  6  8\n",
      "  7  9  9  8  7  7  8  6  9  9  9  8  7  6  9  9  8  8  7  7  7  7  9  9\n",
      "  7  7  6  9 10 10  8  5  9  9  7  6  9  8  6  8  9  5  8  8  6  9  7  7\n",
      "  9  9 10  9  8  9  8  9 10  8  6 10 10  5  7  8  8  8  6  8 10 10  6  9\n",
      " 10  9  8  7  6  6 10  6  7  8  9  6  8  9  8  6  9  8  9  9  9  7  9  7\n",
      "  6  9  9  8  9  6  6  6  7 10 10  9 10  8  8 10  9  5  9  9  8  8  8  7\n",
      "  7 10  4 10  7  9  8  9  8  9  9  8  7  6  8  7  7  9  8  7  9  6  8  7\n",
      " 10  8  8  7  9  8 10  9  8  9  8 10  6  9  9 10]\n"
     ]
    }
   ],
   "source": [
    "print(dados_binomial)"
   ]
  },
  {
   "cell_type": "code",
   "execution_count": 72,
   "id": "23ec54b4",
   "metadata": {},
   "outputs": [
    {
     "data": {
      "image/png": "[encoded data removed]",
      "text/plain": [
       "<Figure size 432x288 with 1 Axes>"
      ]
     },
     "metadata": {
      "needs_background": "light"
     },
     "output_type": "display_data"
    }
   ],
   "source": [
    "sns.distplot(dados_binomial, kde=False);"
   ]
  },
  {
   "cell_type": "markdown",
   "id": "95a1d7ef",
   "metadata": {},
   "source": [
    "### Distribuição de Poisson\n",
    "\n",
    "- Número de vezes que um evento aconteceu em um intervalo de tempo\n",
    "- Exemplo: número de usuários que visitaram um website em um intervalo\n",
    "- Quantidade de vezes que um evento aconteceu nesse intervalo (número de ligações em um call center)"
   ]
  },
  {
   "cell_type": "code",
   "execution_count": 73,
   "id": "67e19de5",
   "metadata": {},
   "outputs": [],
   "source": [
    "from scipy.stats import poisson"
   ]
  },
  {
   "cell_type": "code",
   "execution_count": 74,
   "id": "84d617b5",
   "metadata": {},
   "outputs": [],
   "source": [
    "dados_poisson = poisson.rvs(size=1000, mu=1)"
   ]
  },
  {
   "cell_type": "code",
   "execution_count": 75,
   "id": "1e607af5",
   "metadata": {},
   "outputs": [
    {
     "data": {
      "text/plain": [
       "(0, 5)"
      ]
     },
     "execution_count": 75,
     "metadata": {},
     "output_type": "execute_result"
    }
   ],
   "source": [
    "min(dados_poisson), max(dados_poisson)"
   ]
  },
  {
   "cell_type": "code",
   "execution_count": 76,
   "id": "607b1001",
   "metadata": {},
   "outputs": [
    {
     "data": {
      "text/plain": [
       "(array([0, 1, 2, 3, 4, 5]), array([344, 371, 199,  61,  23,   2], dtype=int64))"
      ]
     },
     "execution_count": 76,
     "metadata": {},
     "output_type": "execute_result"
    }
   ],
   "source": [
    "np.unique(dados_poisson, return_counts=True)"
   ]
  },
  {
   "cell_type": "code",
   "execution_count": 77,
   "id": "67c29ad9",
   "metadata": {},
   "outputs": [
    {
     "data": {
      "image/png": "[encoded data removed]",
      "text/plain": [
       "<Figure size 432x288 with 1 Axes>"
      ]
     },
     "metadata": {
      "needs_background": "light"
     },
     "output_type": "display_data"
    }
   ],
   "source": [
    "sns.distplot(dados_poisson, kde=False);"
   ]
  },
  {
   "cell_type": "markdown",
   "id": "14bfade4",
   "metadata": {},
   "source": [
    "### Exercício"
   ]
  },
  {
   "cell_type": "code",
   "execution_count": 78,
   "id": "80ec39b9",
   "metadata": {},
   "outputs": [
    {
     "data": {
      "text/html": [
       "<div>\n",
       "<style scoped>\n",
       "    .dataframe tbody tr th:only-of-type {\n",
       "        vertical-align: middle;\n",
       "    }\n",
       "\n",
       "    .dataframe tbody tr th {\n",
       "        vertical-align: top;\n",
       "    }\n",
       "\n",
       "    .dataframe thead th {\n",
       "        text-align: right;\n",
       "    }\n",
       "</style>\n",
       "<table border=\"1\" class=\"dataframe\">\n",
       "  <thead>\n",
       "    <tr style=\"text-align: right;\">\n",
       "      <th></th>\n",
       "      <th>age</th>\n",
       "      <th>workclass</th>\n",
       "      <th>final-weight</th>\n",
       "      <th>education</th>\n",
       "      <th>education-num</th>\n",
       "      <th>marital-status</th>\n",
       "      <th>occupation</th>\n",
       "      <th>relationship</th>\n",
       "      <th>race</th>\n",
       "      <th>sex</th>\n",
       "      <th>capital-gain</th>\n",
       "      <th>capital-loos</th>\n",
       "      <th>hour-per-week</th>\n",
       "      <th>native-country</th>\n",
       "      <th>income</th>\n",
       "    </tr>\n",
       "  </thead>\n",
       "  <tbody>\n",
       "    <tr>\n",
       "      <th>0</th>\n",
       "      <td>39</td>\n",
       "      <td>State-gov</td>\n",
       "      <td>77516</td>\n",
       "      <td>Bachelors</td>\n",
       "      <td>13</td>\n",
       "      <td>Never-married</td>\n",
       "      <td>Adm-clerical</td>\n",
       "      <td>Not-in-family</td>\n",
       "      <td>White</td>\n",
       "      <td>Male</td>\n",
       "      <td>2174</td>\n",
       "      <td>0</td>\n",
       "      <td>40</td>\n",
       "      <td>United-States</td>\n",
       "      <td>&lt;=50K</td>\n",
       "    </tr>\n",
       "    <tr>\n",
       "      <th>1</th>\n",
       "      <td>50</td>\n",
       "      <td>Self-emp-not-inc</td>\n",
       "      <td>83311</td>\n",
       "      <td>Bachelors</td>\n",
       "      <td>13</td>\n",
       "      <td>Married-civ-spouse</td>\n",
       "      <td>Exec-managerial</td>\n",
       "      <td>Husband</td>\n",
       "      <td>White</td>\n",
       "      <td>Male</td>\n",
       "      <td>0</td>\n",
       "      <td>0</td>\n",
       "      <td>13</td>\n",
       "      <td>United-States</td>\n",
       "      <td>&lt;=50K</td>\n",
       "    </tr>\n",
       "    <tr>\n",
       "      <th>2</th>\n",
       "      <td>38</td>\n",
       "      <td>Private</td>\n",
       "      <td>215646</td>\n",
       "      <td>HS-grad</td>\n",
       "      <td>9</td>\n",
       "      <td>Divorced</td>\n",
       "      <td>Handlers-cleaners</td>\n",
       "      <td>Not-in-family</td>\n",
       "      <td>White</td>\n",
       "      <td>Male</td>\n",
       "      <td>0</td>\n",
       "      <td>0</td>\n",
       "      <td>40</td>\n",
       "      <td>United-States</td>\n",
       "      <td>&lt;=50K</td>\n",
       "    </tr>\n",
       "    <tr>\n",
       "      <th>3</th>\n",
       "      <td>53</td>\n",
       "      <td>Private</td>\n",
       "      <td>234721</td>\n",
       "      <td>11th</td>\n",
       "      <td>7</td>\n",
       "      <td>Married-civ-spouse</td>\n",
       "      <td>Handlers-cleaners</td>\n",
       "      <td>Husband</td>\n",
       "      <td>Black</td>\n",
       "      <td>Male</td>\n",
       "      <td>0</td>\n",
       "      <td>0</td>\n",
       "      <td>40</td>\n",
       "      <td>United-States</td>\n",
       "      <td>&lt;=50K</td>\n",
       "    </tr>\n",
       "    <tr>\n",
       "      <th>4</th>\n",
       "      <td>28</td>\n",
       "      <td>Private</td>\n",
       "      <td>338409</td>\n",
       "      <td>Bachelors</td>\n",
       "      <td>13</td>\n",
       "      <td>Married-civ-spouse</td>\n",
       "      <td>Prof-specialty</td>\n",
       "      <td>Wife</td>\n",
       "      <td>Black</td>\n",
       "      <td>Female</td>\n",
       "      <td>0</td>\n",
       "      <td>0</td>\n",
       "      <td>40</td>\n",
       "      <td>Cuba</td>\n",
       "      <td>&lt;=50K</td>\n",
       "    </tr>\n",
       "  </tbody>\n",
       "</table>\n",
       "</div>"
      ],
      "text/plain": [
       "   age          workclass  final-weight   education  education-num  \\\n",
       "0   39          State-gov         77516   Bachelors             13   \n",
       "1   50   Self-emp-not-inc         83311   Bachelors             13   \n",
       "2   38            Private        215646     HS-grad              9   \n",
       "3   53            Private        234721        11th              7   \n",
       "4   28            Private        338409   Bachelors             13   \n",
       "\n",
       "        marital-status          occupation    relationship    race      sex  \\\n",
       "0        Never-married        Adm-clerical   Not-in-family   White     Male   \n",
       "1   Married-civ-spouse     Exec-managerial         Husband   White     Male   \n",
       "2             Divorced   Handlers-cleaners   Not-in-family   White     Male   \n",
       "3   Married-civ-spouse   Handlers-cleaners         Husband   Black     Male   \n",
       "4   Married-civ-spouse      Prof-specialty            Wife   Black   Female   \n",
       "\n",
       "   capital-gain  capital-loos  hour-per-week  native-country  income  \n",
       "0          2174             0             40   United-States   <=50K  \n",
       "1             0             0             13   United-States   <=50K  \n",
       "2             0             0             40   United-States   <=50K  \n",
       "3             0             0             40   United-States   <=50K  \n",
       "4             0             0             40            Cuba   <=50K  "
      ]
     },
     "execution_count": 78,
     "metadata": {},
     "output_type": "execute_result"
    }
   ],
   "source": [
    "dataset = pd.read_csv('census.csv')\n",
    "dataset.head()"
   ]
  },
  {
   "cell_type": "code",
   "execution_count": 79,
   "id": "d4c72b45",
   "metadata": {},
   "outputs": [
    {
     "data": {
      "text/plain": [
       "age                int64\n",
       "workclass         object\n",
       "final-weight       int64\n",
       "education         object\n",
       "education-num      int64\n",
       "marital-status    object\n",
       "occupation        object\n",
       "relationship      object\n",
       "race              object\n",
       "sex               object\n",
       "capital-gain       int64\n",
       "capital-loos       int64\n",
       "hour-per-week      int64\n",
       "native-country    object\n",
       "income            object\n",
       "dtype: object"
      ]
     },
     "execution_count": 79,
     "metadata": {},
     "output_type": "execute_result"
    }
   ],
   "source": [
    "dataset.dtypes"
   ]
  },
  {
   "cell_type": "code",
   "execution_count": 80,
   "id": "040b7656",
   "metadata": {},
   "outputs": [
    {
     "data": {
      "image/png": "[encoded data removed]",
      "text/plain": [
       "<Figure size 432x288 with 1 Axes>"
      ]
     },
     "metadata": {
      "needs_background": "light"
     },
     "output_type": "display_data"
    }
   ],
   "source": [
    "sns.distplot(dataset['age']);"
   ]
  },
  {
   "cell_type": "code",
   "execution_count": 81,
   "id": "e98dd2c4",
   "metadata": {},
   "outputs": [
    {
     "data": {
      "image/png": "[encoded data removed]",
      "text/plain": [
       "<Figure size 432x288 with 1 Axes>"
      ]
     },
     "metadata": {
      "needs_background": "light"
     },
     "output_type": "display_data"
    }
   ],
   "source": [
    "sns.distplot(dataset['final-weight']);"
   ]
  },
  {
   "cell_type": "code",
   "execution_count": 82,
   "id": "834f1161",
   "metadata": {},
   "outputs": [
    {
     "data": {
      "image/png": "[encoded data removed]",
      "text/plain": [
       "<Figure size 432x288 with 1 Axes>"
      ]
     },
     "metadata": {
      "needs_background": "light"
     },
     "output_type": "display_data"
    }
   ],
   "source": [
    "sns.distplot(dataset['education-num'], kde=False);"
   ]
  },
  {
   "cell_type": "code",
   "execution_count": 83,
   "id": "c39184a6",
   "metadata": {},
   "outputs": [
    {
     "data": {
      "image/png": "[encoded data removed]",
      "text/plain": [
       "<Figure size 432x288 with 1 Axes>"
      ]
     },
     "metadata": {
      "needs_background": "light"
     },
     "output_type": "display_data"
    }
   ],
   "source": [
    "sns.distplot(dataset['capital-gain'], kde=False);"
   ]
  },
  {
   "cell_type": "code",
   "execution_count": 84,
   "id": "a2498a4c",
   "metadata": {},
   "outputs": [
    {
     "data": {
      "image/png": "[encoded data removed]",
      "text/plain": [
       "<Figure size 432x288 with 1 Axes>"
      ]
     },
     "metadata": {
      "needs_background": "light"
     },
     "output_type": "display_data"
    }
   ],
   "source": [
    "sns.distplot(dataset['capital-loos']);"
   ]
  },
  {
   "cell_type": "code",
   "execution_count": 85,
   "id": "d357ebd6",
   "metadata": {},
   "outputs": [
    {
     "data": {
      "image/png": "[encoded data removed]",
      "text/plain": [
       "<Figure size 432x288 with 1 Axes>"
      ]
     },
     "metadata": {
      "needs_background": "light"
     },
     "output_type": "display_data"
    }
   ],
   "source": [
    "sns.countplot(dataset['marital-status']);"
   ]
  },
  {
   "cell_type": "code",
   "execution_count": 86,
   "id": "7d3707f2",
   "metadata": {},
   "outputs": [
    {
     "data": {
      "image/png": "[encoded data removed]",
      "text/plain": [
       "<Figure size 432x288 with 1 Axes>"
      ]
     },
     "metadata": {
      "needs_background": "light"
     },
     "output_type": "display_data"
    }
   ],
   "source": [
    "sns.countplot(dataset['sex']);"
   ]
  },
  {
   "cell_type": "code",
   "execution_count": 87,
   "id": "c5751e54",
   "metadata": {},
   "outputs": [
    {
     "data": {
      "image/png": "[encoded data removed]",
      "text/plain": [
       "<Figure size 432x288 with 1 Axes>"
      ]
     },
     "metadata": {
      "needs_background": "light"
     },
     "output_type": "display_data"
    }
   ],
   "source": [
    "sns.countplot(dataset['income']);"
   ]
  },
  {
   "cell_type": "code",
   "execution_count": 88,
   "id": "0fce5f40",
   "metadata": {},
   "outputs": [
    {
     "data": {
      "text/html": [
       "<div>\n",
       "<style scoped>\n",
       "    .dataframe tbody tr th:only-of-type {\n",
       "        vertical-align: middle;\n",
       "    }\n",
       "\n",
       "    .dataframe tbody tr th {\n",
       "        vertical-align: top;\n",
       "    }\n",
       "\n",
       "    .dataframe thead th {\n",
       "        text-align: right;\n",
       "    }\n",
       "</style>\n",
       "<table border=\"1\" class=\"dataframe\">\n",
       "  <thead>\n",
       "    <tr style=\"text-align: right;\">\n",
       "      <th></th>\n",
       "      <th>i#clientid</th>\n",
       "      <th>income</th>\n",
       "      <th>age</th>\n",
       "      <th>loan</th>\n",
       "      <th>c#default</th>\n",
       "    </tr>\n",
       "  </thead>\n",
       "  <tbody>\n",
       "    <tr>\n",
       "      <th>0</th>\n",
       "      <td>1</td>\n",
       "      <td>66155.925095</td>\n",
       "      <td>59.017015</td>\n",
       "      <td>8106.532131</td>\n",
       "      <td>0</td>\n",
       "    </tr>\n",
       "    <tr>\n",
       "      <th>1</th>\n",
       "      <td>2</td>\n",
       "      <td>34415.153966</td>\n",
       "      <td>48.117153</td>\n",
       "      <td>6564.745018</td>\n",
       "      <td>0</td>\n",
       "    </tr>\n",
       "    <tr>\n",
       "      <th>2</th>\n",
       "      <td>3</td>\n",
       "      <td>57317.170063</td>\n",
       "      <td>63.108049</td>\n",
       "      <td>8020.953296</td>\n",
       "      <td>0</td>\n",
       "    </tr>\n",
       "    <tr>\n",
       "      <th>3</th>\n",
       "      <td>4</td>\n",
       "      <td>42709.534201</td>\n",
       "      <td>45.751972</td>\n",
       "      <td>6103.642260</td>\n",
       "      <td>0</td>\n",
       "    </tr>\n",
       "    <tr>\n",
       "      <th>4</th>\n",
       "      <td>5</td>\n",
       "      <td>66952.688845</td>\n",
       "      <td>18.584336</td>\n",
       "      <td>8770.099235</td>\n",
       "      <td>1</td>\n",
       "    </tr>\n",
       "  </tbody>\n",
       "</table>\n",
       "</div>"
      ],
      "text/plain": [
       "   i#clientid        income        age         loan  c#default\n",
       "0           1  66155.925095  59.017015  8106.532131          0\n",
       "1           2  34415.153966  48.117153  6564.745018          0\n",
       "2           3  57317.170063  63.108049  8020.953296          0\n",
       "3           4  42709.534201  45.751972  6103.642260          0\n",
       "4           5  66952.688845  18.584336  8770.099235          1"
      ]
     },
     "execution_count": 88,
     "metadata": {},
     "output_type": "execute_result"
    }
   ],
   "source": [
    "dataset = pd.read_csv('credit_data.csv')\n",
    "dataset.head()"
   ]
  },
  {
   "cell_type": "code",
   "execution_count": 89,
   "id": "589f6568",
   "metadata": {},
   "outputs": [
    {
     "data": {
      "image/png": "[encoded data removed]",
      "text/plain": [
       "<Figure size 432x288 with 1 Axes>"
      ]
     },
     "metadata": {
      "needs_background": "light"
     },
     "output_type": "display_data"
    }
   ],
   "source": [
    "sns.distplot(dataset['income']);"
   ]
  },
  {
   "cell_type": "code",
   "execution_count": 90,
   "id": "cf03595f",
   "metadata": {},
   "outputs": [
    {
     "data": {
      "image/png": "[encoded data removed]",
      "text/plain": [
       "<Figure size 432x288 with 1 Axes>"
      ]
     },
     "metadata": {
      "needs_background": "light"
     },
     "output_type": "display_data"
    }
   ],
   "source": [
    "sns.distplot(dataset['age']);"
   ]
  },
  {
   "cell_type": "code",
   "execution_count": 91,
   "id": "f907c318",
   "metadata": {},
   "outputs": [
    {
     "data": {
      "image/png": "[encoded data removed]",
      "text/plain": [
       "<Figure size 432x288 with 1 Axes>"
      ]
     },
     "metadata": {
      "needs_background": "light"
     },
     "output_type": "display_data"
    }
   ],
   "source": [
    "sns.distplot(dataset['loan']);"
   ]
  },
  {
   "cell_type": "code",
   "execution_count": 92,
   "id": "9117b2db",
   "metadata": {},
   "outputs": [
    {
     "data": {
      "image/png": "[encoded data removed]",
      "text/plain": [
       "<Figure size 432x288 with 1 Axes>"
      ]
     },
     "metadata": {
      "needs_background": "light"
     },
     "output_type": "display_data"
    }
   ],
   "source": [
    "sns.distplot(dataset['c#default'], kde = False);"
   ]
  },
  {
   "cell_type": "code",
   "execution_count": null,
   "id": "0d10341f",
   "metadata": {},
   "outputs": [],
   "source": []
  },
  {
   "cell_type": "code",
   "execution_count": null,
   "id": "6d42dede",
   "metadata": {},
   "outputs": [],
   "source": []
  },
  {
   "cell_type": "code",
   "execution_count": null,
   "id": "099acd50",
   "metadata": {},
   "outputs": [],
   "source": []
  }
 ],
 "metadata": {
  "kernelspec": {
   "display_name": "Python 3",
   "language": "python",
   "name": "python3"
  },
  "language_info": {
   "codemirror_mode": {
    "name": "ipython",
    "version": 3
   },
   "file_extension": ".py",
   "mimetype": "text/x-python",
   "name": "python",
   "nbconvert_exporter": "python",
   "pygments_lexer": "ipython3",
   "version": "3.8.8"
  }
 },
 "nbformat": 4,
 "nbformat_minor": 5
}
