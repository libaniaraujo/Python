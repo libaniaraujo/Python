{
 "cells": [
  {
   "cell_type": "markdown",
   "id": "6cb4bf09",
   "metadata": {},
   "source": [
    "# 0 - DICAS INICIAIS"
   ]
  },
  {
   "cell_type": "markdown",
   "id": "840be221",
   "metadata": {},
   "source": [
    "- Indendação faz parte da sintaxe em Python: para isso usar Tab ou espaço. \n",
    "  - Dica: não misture os dois, esolha um ou outro.\n",
    "\n",
    "\n",
    "- Comentários em Python:\n",
    "  - Começam com o carater # ou 3 aspas duplas \"\"\"...\"\"\"\n",
    "    - Comentário em uma única linha: #\n",
    "    - Comentário em mais de uma linha: aspas duplas\n",
    "\n",
    "\n",
    "- Dicas: \n",
    "  - Clareza é importante. Mantenha seu código limpo e organizado.\n",
    "  - Código esparso é melhor que código denso.\n",
    "  - Sempre documente seu código.\n",
    "  - Siga os padrões não para criar complexidade, mas para manter a regra.\n",
    "  - Os erros não são sinlenciosos, a menos que propositalmente.\n",
    "  - Simples é melhor que complexo e complexo é melhor que complicado.\n",
    "  - Não se sinta obrigado a usar classes sem uma boa razão."
   ]
  },
  {
   "cell_type": "markdown",
   "id": "ddea8072",
   "metadata": {},
   "source": [
    "### FIM"
   ]
  }
 ],
 "metadata": {
  "kernelspec": {
   "display_name": "Python 3",
   "language": "python",
   "name": "python3"
  },
  "language_info": {
   "codemirror_mode": {
    "name": "ipython",
    "version": 3
   },
   "file_extension": ".py",
   "mimetype": "text/x-python",
   "name": "python",
   "nbconvert_exporter": "python",
   "pygments_lexer": "ipython3",
   "version": "3.8.8"
  }
 },
 "nbformat": 4,
 "nbformat_minor": 5
}
