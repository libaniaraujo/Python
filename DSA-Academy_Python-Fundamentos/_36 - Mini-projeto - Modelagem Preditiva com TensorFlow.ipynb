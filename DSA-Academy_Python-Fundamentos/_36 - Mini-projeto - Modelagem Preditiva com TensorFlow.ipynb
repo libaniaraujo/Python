{
 "cells": [
  {
   "cell_type": "markdown",
   "id": "f56921d7",
   "metadata": {},
   "source": [
    "# MINI-PROJETO - MODELAGEM PREDITIVA COM TENSORFLOW"
   ]
  },
  {
   "cell_type": "markdown",
   "id": "75f2c034",
   "metadata": {},
   "source": [
    "Neste Mini-Projeto vamos apresentar um guia básico de modelagem preditiva usando Linguagem Python e TensorFlow, o principal framework para construção de modelos de Machine Learning e Deep Learning e para construir aplicações comerciais de Inteligência Artificial."
   ]
  },
  {
   "cell_type": "markdown",
   "id": "144d9057",
   "metadata": {},
   "source": [
    "## Instalando e Carregando Pacotes"
   ]
  },
  {
   "cell_type": "code",
   "execution_count": null,
   "id": "900dbb46",
   "metadata": {},
   "outputs": [],
   "source": [
    "# Versão da Linguagem Python\n",
    "from platform import python_version\n",
    "print('Versão da Linguagem Python Usada Neste Jupyter Notebook:', python_version())"
   ]
  },
  {
   "cell_type": "code",
   "execution_count": null,
   "id": "a32bcbd0",
   "metadata": {},
   "outputs": [],
   "source": [
    "# Instala o TensorFlow\n",
    "!pip install tensorflow"
   ]
  },
  {
   "cell_type": "code",
   "execution_count": null,
   "id": "dc2bcf1f",
   "metadata": {},
   "outputs": [],
   "source": [
    "# Instala o Pydot\n",
    "!pip install -q pydot"
   ]
  },
  {
   "cell_type": "code",
   "execution_count": null,
   "id": "df548761",
   "metadata": {},
   "outputs": [],
   "source": [
    "# Imports\n",
    "import numpy as np\n",
    "import pandas as pd\n",
    "import matplotlib.pyplot as plt\n",
    "import seaborn as sns"
   ]
  },
  {
   "cell_type": "code",
   "execution_count": null,
   "id": "aa0a7629",
   "metadata": {},
   "outputs": [],
   "source": [
    "import tensorflow as tf"
   ]
  },
  {
   "cell_type": "code",
   "execution_count": null,
   "id": "18009867",
   "metadata": {},
   "outputs": [],
   "source": [
    "# Imports\n",
    "import tensorflow as tf\n",
    "from tensorflow import keras\n",
    "from tensorflow.keras import layers"
   ]
  },
  {
   "cell_type": "code",
   "execution_count": null,
   "id": "d38d8b9c",
   "metadata": {},
   "outputs": [],
   "source": [
    "print(tf.__version__)"
   ]
  },
  {
   "cell_type": "markdown",
   "id": "16f8fe28",
   "metadata": {},
   "source": [
    "## Carregando os Dados"
   ]
  },
  {
   "cell_type": "markdown",
   "id": "d00a334c",
   "metadata": {},
   "source": [
    "Boston House Prices Dataset\n",
    "https://www.cs.toronto.edu/~delve/data/boston/bostonDetail.html\n",
    "\n",
    "Características:\n",
    "- Número de Observções: 506\n",
    "- Os primeiros 13 recursos são recursos preditivos numéricos / categóricos.\n",
    "- O último (atributo 14): o valor mediano é a variável de destino."
   ]
  },
  {
   "cell_type": "code",
   "execution_count": null,
   "id": "ebe9ba1e",
   "metadata": {},
   "outputs": [],
   "source": [
    "# Download dos dados\n",
    "import ssl\n",
    "ssl._create_default_https_context = ssl._create_unverified_context\n",
    "dataset_path = keras.utils.get_file(\"housing.data\", \"https://archive.ics.uci.edu/ml/machine-learning-databases/housing/housing.data\")"
   ]
  },
  {
   "cell_type": "code",
   "execution_count": null,
   "id": "7b8fc79a",
   "metadata": {},
   "outputs": [],
   "source": [
    "# Nomes das colunas\n",
    "nomes_colunas = ['CRIM',\n",
    "                 'ZN',\n",
    "                 'INDUS',\n",
    "                 'CHAS',\n",
    "                 'NOX',\n",
    "                 'RM', \n",
    "                 'AGE', \n",
    "                 'DIS',\n",
    "                 'RAD',\n",
    "                 'TAX',\n",
    "                 'PTRATION', \n",
    "                 'B', \n",
    "                 'LSTAT', \n",
    "                 'MEDV']"
   ]
  },
  {
   "cell_type": "code",
   "execution_count": null,
   "id": "7d18fb3e",
   "metadata": {},
   "outputs": [],
   "source": [
    "# Carrega os dados\n",
    "dataset = pd.read_csv(dataset_path, \n",
    "                      names = nomes_colunas,\n",
    "                      na_values = \"?\", \n",
    "                      comment = '\\t',\n",
    "                      sep = \" \", \n",
    "                      skipinitialspace = True)"
   ]
  },
  {
   "cell_type": "code",
   "execution_count": null,
   "id": "affb116c",
   "metadata": {},
   "outputs": [],
   "source": [
    "# Shape\n",
    "dataset.shape"
   ]
  },
  {
   "cell_type": "code",
   "execution_count": null,
   "id": "49c8b656",
   "metadata": {},
   "outputs": [],
   "source": [
    "# Visualiza os dados\n",
    "dataset.head()"
   ]
  },
  {
   "cell_type": "markdown",
   "id": "f5f42741",
   "metadata": {},
   "source": [
    "Vamos dividir os dados em treino e teste com proporção 80/20."
   ]
  },
  {
   "cell_type": "code",
   "execution_count": null,
   "id": "6f15bf47",
   "metadata": {},
   "outputs": [],
   "source": [
    "# Split dos dados\n",
    "dados_treino = dataset.sample(frac = 0.8, random_state = 0)\n",
    "dados_teste = dataset.drop(dados_treino.index)"
   ]
  },
  {
   "cell_type": "markdown",
   "id": "762f782b",
   "metadata": {},
   "source": [
    "## Modelagem Preditiva - Regressão Linear Simples"
   ]
  },
  {
   "cell_type": "markdown",
   "id": "9705e458",
   "metadata": {},
   "source": [
    "Na regressão linear simples desejamos modelar a relação entre a variável dependente (y) e uma variável independente (x).\n",
    "\n",
    "- Variável independente: 'RM'\n",
    "- Variável dependente: 'MEDV'\n",
    "\n",
    "\n",
    "Queremos prever o valor da mediana das casas ocupadas por proprietários com base no número de quartos."
   ]
  },
  {
   "cell_type": "code",
   "execution_count": null,
   "id": "d042cd50",
   "metadata": {},
   "outputs": [],
   "source": [
    "# Representação visual dos dados de treino\n",
    "fig, ax = plt.subplots()\n",
    "x = dados_treino['RM']\n",
    "y = dados_treino['MEDV']\n",
    "ax.scatter(x, y, edgecolors = (0, 0, 0))\n",
    "ax.set_xlabel('RM')\n",
    "ax.set_ylabel('MEDV')\n",
    "plt.show()"
   ]
  },
  {
   "cell_type": "markdown",
   "id": "b096b051",
   "metadata": {},
   "source": [
    "Vamos separar x e y."
   ]
  },
  {
   "cell_type": "code",
   "execution_count": null,
   "id": "ae7cd98e",
   "metadata": {},
   "outputs": [],
   "source": [
    "# Divisão\n",
    "x_treino = dados_treino['RM']\n",
    "y_treino = dados_treino['MEDV']\n",
    "x_teste = dados_teste['RM']\n",
    "y_teste = dados_teste['MEDV']"
   ]
  },
  {
   "cell_type": "markdown",
   "id": "d129a54f",
   "metadata": {},
   "source": [
    "## Criação do Modelo"
   ]
  },
  {
   "cell_type": "code",
   "execution_count": null,
   "id": "2b81241b",
   "metadata": {},
   "outputs": [],
   "source": [
    "# Função para construir o modelo\n",
    "def modelo_linear():\n",
    "    \n",
    "    # Cria o modelo\n",
    "    model = keras.Sequential([layers.Dense(1, use_bias = True, input_shape = (1,), name = 'layer')])\n",
    "\n",
    "    # Otimizador\n",
    "    optimizer = tf.keras.optimizers.Adam(learning_rate = 0.01, \n",
    "                                         beta_1 = 0.9, \n",
    "                                         beta_2 = 0.99, \n",
    "                                         epsilon = 1e-05, \n",
    "                                         amsgrad = False, \n",
    "                                         name = 'Adam')\n",
    "    \n",
    "    # Compila o modelo\n",
    "    model.compile(loss = 'mse', \n",
    "                  optimizer = optimizer, \n",
    "                  metrics = ['mae','mse'])\n",
    "\n",
    "    return model"
   ]
  },
  {
   "cell_type": "markdown",
   "id": "5e12e446",
   "metadata": {},
   "source": [
    "MAE = Mean Absolute Error\n",
    "\n",
    "MSE = Mean Squared Error"
   ]
  },
  {
   "cell_type": "code",
   "execution_count": null,
   "id": "819df2a2",
   "metadata": {},
   "outputs": [],
   "source": [
    "# Cria o modelo \n",
    "modelo = modelo_linear()"
   ]
  },
  {
   "cell_type": "code",
   "execution_count": null,
   "id": "977a57ea",
   "metadata": {},
   "outputs": [],
   "source": [
    "# Plot do modelo\n",
    "tf.keras.utils.plot_model(modelo, \n",
    "                          to_file = 'imagens/modelo.png', \n",
    "                          show_shapes = True, \n",
    "                          show_layer_names = True,\n",
    "                          rankdir = 'TB', \n",
    "                          expand_nested = False, \n",
    "                          dpi = 100)"
   ]
  },
  {
   "cell_type": "markdown",
   "id": "0ec771e0",
   "metadata": {},
   "source": [
    "## Treinamento do Modelo"
   ]
  },
  {
   "cell_type": "code",
   "execution_count": null,
   "id": "ba9700da",
   "metadata": {},
   "outputs": [],
   "source": [
    "# Hiperparâmetros\n",
    "n_epochs = 4000\n",
    "batch_size = 256\n",
    "n_idle_epochs = 100\n",
    "n_epochs_log = 200\n",
    "n_samples_save = n_epochs_log * x_treino.shape[0]\n",
    "print('Checkpoint salvo a cada {} amostras'.format(n_samples_save))"
   ]
  },
  {
   "cell_type": "code",
   "execution_count": null,
   "id": "73c0d7d8",
   "metadata": {},
   "outputs": [],
   "source": [
    "# Callback\n",
    "earlyStopping = tf.keras.callbacks.EarlyStopping(monitor = 'val_loss', \n",
    "                                                 patience = n_idle_epochs, \n",
    "                                                 min_delta = 0.001)"
   ]
  },
  {
   "cell_type": "code",
   "execution_count": null,
   "id": "933709c7",
   "metadata": {},
   "outputs": [],
   "source": [
    "# Lista para as previsões\n",
    "predictions_list = []"
   ]
  },
  {
   "cell_type": "code",
   "execution_count": null,
   "id": "96667d47",
   "metadata": {},
   "outputs": [],
   "source": [
    "# Caminho ppara salvar o checkpoint\n",
    "checkpoint_path = \"dados/\""
   ]
  },
  {
   "cell_type": "code",
   "execution_count": null,
   "id": "956eef0f",
   "metadata": {},
   "outputs": [],
   "source": [
    "# Create a callback that saves the model's weights every n_samples_save\n",
    "checkpointCallback = tf.keras.callbacks.ModelCheckpoint(filepath = \"dados/\", \n",
    "                                                        verbose = 1, \n",
    "                                                        save_weights_only = True,\n",
    "                                                        save_freq = n_samples_save)"
   ]
  },
  {
   "cell_type": "code",
   "execution_count": null,
   "id": "66a48748",
   "metadata": {},
   "outputs": [],
   "source": [
    "# Salva a primeira versão do modelo\n",
    "modelo.save_weights(checkpoint_path.format(epoch = 0))"
   ]
  },
  {
   "cell_type": "code",
   "execution_count": null,
   "id": "e1658354",
   "metadata": {},
   "outputs": [],
   "source": [
    "# Treinamento\n",
    "history = modelo.fit(x_treino, \n",
    "                     y_treino, \n",
    "                     batch_size = batch_size,\n",
    "                     epochs = n_epochs, \n",
    "                     validation_split = 0.1, \n",
    "                     verbose = 1, \n",
    "                     callbacks = [earlyStopping, checkpointCallback])"
   ]
  },
  {
   "cell_type": "code",
   "execution_count": null,
   "id": "d5eb7e84",
   "metadata": {},
   "outputs": [],
   "source": [
    "# Métricas do histórico de treinamento\n",
    "print('keys:', history.history.keys())"
   ]
  },
  {
   "cell_type": "code",
   "execution_count": null,
   "id": "87c12a74",
   "metadata": {},
   "outputs": [],
   "source": [
    "# Retornando os valores desejados para o plot\n",
    "mse = np.asarray(history.history['mse'])\n",
    "val_mse = np.asarray(history.history['val_mse'])"
   ]
  },
  {
   "cell_type": "code",
   "execution_count": null,
   "id": "9fb97ef4",
   "metadata": {},
   "outputs": [],
   "source": [
    "# Prepara os valores para o dataframe\n",
    "num_values = (len(mse))\n",
    "values = np.zeros((num_values, 2), dtype = float)\n",
    "values[:,0] = mse\n",
    "values[:,1] = val_mse"
   ]
  },
  {
   "cell_type": "code",
   "execution_count": null,
   "id": "06850215",
   "metadata": {},
   "outputs": [],
   "source": [
    "# Cria o dataframe\n",
    "steps = pd.RangeIndex(start = 0, stop = num_values)\n",
    "df = pd.DataFrame(values, steps, columns = [\"MSE em Treino\", \"MSE em Validação\"])"
   ]
  },
  {
   "cell_type": "code",
   "execution_count": null,
   "id": "17cb8254",
   "metadata": {},
   "outputs": [],
   "source": [
    "df.head()"
   ]
  },
  {
   "cell_type": "code",
   "execution_count": null,
   "id": "33df93cf",
   "metadata": {},
   "outputs": [],
   "source": [
    "# Plot\n",
    "sns.set(style = \"whitegrid\")\n",
    "sns.lineplot(data = df, palette = \"tab10\", linewidth  = 2.5)"
   ]
  },
  {
   "cell_type": "code",
   "execution_count": null,
   "id": "522ee6ea",
   "metadata": {},
   "outputs": [],
   "source": [
    "# Previsões com o modelo treinado\n",
    "previsoes = modelo.predict(x_teste).flatten()"
   ]
  },
  {
   "cell_type": "code",
   "execution_count": null,
   "id": "389a0398",
   "metadata": {},
   "outputs": [],
   "source": [
    "# Imprime as previsões\n",
    "previsoes"
   ]
  },
  {
   "cell_type": "markdown",
   "id": "f4d928d7",
   "metadata": {},
   "source": [
    "### FIM"
   ]
  }
 ],
 "metadata": {
  "kernelspec": {
   "display_name": "Python 3",
   "language": "python",
   "name": "python3"
  },
  "language_info": {
   "codemirror_mode": {
    "name": "ipython",
    "version": 3
   },
   "file_extension": ".py",
   "mimetype": "text/x-python",
   "name": "python",
   "nbconvert_exporter": "python",
   "pygments_lexer": "ipython3",
   "version": "3.8.8"
  }
 },
 "nbformat": 4,
 "nbformat_minor": 5
}
