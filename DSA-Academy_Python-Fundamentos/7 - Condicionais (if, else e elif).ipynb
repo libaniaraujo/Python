{
 "cells": [
  {
   "cell_type": "markdown",
   "id": "bf78fa44",
   "metadata": {},
   "source": [
    "# 7 - CONDICIONAIS (IF / ELSE / ELIF)"
   ]
  },
  {
   "cell_type": "markdown",
   "id": "70739f00",
   "metadata": {},
   "source": [
    "#### - O condicional IF nos permite dizer ao computador para executar ações com base em um determinado conjunto de resultados."
   ]
  },
  {
   "cell_type": "markdown",
   "id": "d4671931",
   "metadata": {},
   "source": [
    "<img src = \"builtin8.PNG\">"
   ]
  },
  {
   "cell_type": "markdown",
   "id": "c1e9818f",
   "metadata": {},
   "source": [
    "#### - O ELIF substitui a necessidade de criar várias estruturas de if..else aninhadas."
   ]
  },
  {
   "cell_type": "markdown",
   "id": "de2cb578",
   "metadata": {},
   "source": [
    "<img src = \"builtin9.PNG\">"
   ]
  },
  {
   "cell_type": "markdown",
   "id": "d93623dc",
   "metadata": {},
   "source": [
    "#### - É importante ter uma boa compreensão de como funciona o recuo em Python para manter a estrutura em ordem no seu código."
   ]
  },
  {
   "cell_type": "markdown",
   "id": "c155f5d1",
   "metadata": {},
   "source": [
    "### 7.1. Condicional IF"
   ]
  },
  {
   "cell_type": "code",
   "execution_count": 3,
   "id": "fc3bec2c",
   "metadata": {},
   "outputs": [
    {
     "name": "stdout",
     "output_type": "stream",
     "text": [
      "Python funciona!\n"
     ]
    }
   ],
   "source": [
    "# Condicional IF\n",
    "if 5 > 2:\n",
    "    print(\"Python funciona!\")"
   ]
  },
  {
   "cell_type": "code",
   "execution_count": 5,
   "id": "d458d996",
   "metadata": {},
   "outputs": [
    {
     "name": "stdout",
     "output_type": "stream",
     "text": [
      "Python funciona!\n"
     ]
    }
   ],
   "source": [
    "# IF...ELSE\n",
    "if 5 > 2:\n",
    "    print(\"Python funciona!\")\n",
    "else:\n",
    "    print(\"Algo está errado!\")"
   ]
  },
  {
   "cell_type": "code",
   "execution_count": 6,
   "id": "050b6c81",
   "metadata": {},
   "outputs": [
    {
     "data": {
      "text/plain": [
       "True"
      ]
     },
     "execution_count": 6,
     "metadata": {},
     "output_type": "execute_result"
    }
   ],
   "source": [
    "6 > 3"
   ]
  },
  {
   "cell_type": "code",
   "execution_count": 7,
   "id": "34b3da52",
   "metadata": {},
   "outputs": [
    {
     "data": {
      "text/plain": [
       "False"
      ]
     },
     "execution_count": 7,
     "metadata": {},
     "output_type": "execute_result"
    }
   ],
   "source": [
    "3 > 7"
   ]
  },
  {
   "cell_type": "code",
   "execution_count": 8,
   "id": "cdbf18ca",
   "metadata": {},
   "outputs": [
    {
     "data": {
      "text/plain": [
       "True"
      ]
     },
     "execution_count": 8,
     "metadata": {},
     "output_type": "execute_result"
    }
   ],
   "source": [
    "4 < 8"
   ]
  },
  {
   "cell_type": "code",
   "execution_count": 9,
   "id": "a8fe41aa",
   "metadata": {},
   "outputs": [
    {
     "data": {
      "text/plain": [
       "True"
      ]
     },
     "execution_count": 9,
     "metadata": {},
     "output_type": "execute_result"
    }
   ],
   "source": [
    "4 >= 4"
   ]
  },
  {
   "cell_type": "code",
   "execution_count": 10,
   "id": "0e25b1bc",
   "metadata": {},
   "outputs": [
    {
     "name": "stdout",
     "output_type": "stream",
     "text": [
      "Testando Python!\n"
     ]
    }
   ],
   "source": [
    "if 5 == 5:\n",
    "    print(\"Testando Python!\")"
   ]
  },
  {
   "cell_type": "code",
   "execution_count": 11,
   "id": "a85965a9",
   "metadata": {},
   "outputs": [
    {
     "name": "stdout",
     "output_type": "stream",
     "text": [
      "Parece que Python funciona!\n"
     ]
    }
   ],
   "source": [
    "if True:\n",
    "    print(\"Parece que Python funciona!\")"
   ]
  },
  {
   "cell_type": "code",
   "execution_count": 12,
   "id": "1c48964d",
   "metadata": {},
   "outputs": [
    {
     "ename": "SyntaxError",
     "evalue": "invalid syntax (<ipython-input-12-440c1dd62c42>, line 2)",
     "output_type": "error",
     "traceback": [
      "\u001b[1;36m  File \u001b[1;32m\"<ipython-input-12-440c1dd62c42>\"\u001b[1;36m, line \u001b[1;32m2\u001b[0m\n\u001b[1;33m    if 4 > 3\u001b[0m\n\u001b[1;37m            ^\u001b[0m\n\u001b[1;31mSyntaxError\u001b[0m\u001b[1;31m:\u001b[0m invalid syntax\n"
     ]
    }
   ],
   "source": [
    "# Atenção com a sintaxe\n",
    "if 4 > 3\n",
    "    print(\"Tudo funciona!\")"
   ]
  },
  {
   "cell_type": "code",
   "execution_count": 15,
   "id": "9a3adc8f",
   "metadata": {},
   "outputs": [
    {
     "ename": "IndentationError",
     "evalue": "expected an indented block (<ipython-input-15-f919ae27c9f2>, line 3)",
     "output_type": "error",
     "traceback": [
      "\u001b[1;36m  File \u001b[1;32m\"<ipython-input-15-f919ae27c9f2>\"\u001b[1;36m, line \u001b[1;32m3\u001b[0m\n\u001b[1;33m    print(\"Tudo funciona!\")\u001b[0m\n\u001b[1;37m    ^\u001b[0m\n\u001b[1;31mIndentationError\u001b[0m\u001b[1;31m:\u001b[0m expected an indented block\n"
     ]
    }
   ],
   "source": [
    "# Atenção com a sintaxe\n",
    "if 4 > 3:\n",
    "print(\"Tudo funciona!\")"
   ]
  },
  {
   "cell_type": "markdown",
   "id": "d9491440",
   "metadata": {},
   "source": [
    "### 7.2. Condicional aninhado"
   ]
  },
  {
   "cell_type": "code",
   "execution_count": 16,
   "id": "f228d4ff",
   "metadata": {},
   "outputs": [
    {
     "name": "stdout",
     "output_type": "stream",
     "text": [
      "Você pode dirigir!\n"
     ]
    }
   ],
   "source": [
    "idade = 18\n",
    "if idade > 17:\n",
    "    print(\"Você pode dirigir!\")"
   ]
  },
  {
   "cell_type": "code",
   "execution_count": 17,
   "id": "0c4bbf9b",
   "metadata": {},
   "outputs": [
    {
     "name": "stdout",
     "output_type": "stream",
     "text": [
      "Ok, Bob! Você pode entrar!\n"
     ]
    }
   ],
   "source": [
    "Nome = \"Bob\"\n",
    "if idade > 17:\n",
    "    if Nome == \"Bob\":\n",
    "        print(\"Ok, Bob! Você pode entrar!\")\n",
    "    else:\n",
    "        print(\"Desculpe, mas você não pode entrar!\")"
   ]
  },
  {
   "cell_type": "code",
   "execution_count": 18,
   "id": "49b1256f",
   "metadata": {},
   "outputs": [
    {
     "name": "stdout",
     "output_type": "stream",
     "text": [
      "Ok, Bob! Você pode entrar!\n"
     ]
    }
   ],
   "source": [
    "idade = 13\n",
    "Nome = \"Bob\"\n",
    "if idade >= 13 and Nome == \"Bob\":\n",
    "    print(\"Ok, Bob! Você pode entrar!\")"
   ]
  },
  {
   "cell_type": "code",
   "execution_count": 19,
   "id": "cd00478b",
   "metadata": {},
   "outputs": [
    {
     "name": "stdout",
     "output_type": "stream",
     "text": [
      "Ok, Bob! Você pode entrar!\n"
     ]
    }
   ],
   "source": [
    "idade = 12\n",
    "Nome = \"Bob\"\n",
    "if (idade >= 13) or (Nome == \"Bob\"):\n",
    "    print(\"Ok, Bob! Você pode entrar!\")"
   ]
  },
  {
   "cell_type": "markdown",
   "id": "80efa1d6",
   "metadata": {},
   "source": [
    "### 7.3. ELIF"
   ]
  },
  {
   "cell_type": "code",
   "execution_count": 20,
   "id": "0611ca7b",
   "metadata": {},
   "outputs": [
    {
     "name": "stdout",
     "output_type": "stream",
     "text": [
      "Hoje vai chover!\n"
     ]
    }
   ],
   "source": [
    "dia = \"Terça\"\n",
    "if dia == \"Segunda\":\n",
    "    print(\"Hoje fará sol!\")\n",
    "else:\n",
    "    print(\"Hoje vai chover!\")"
   ]
  },
  {
   "cell_type": "code",
   "execution_count": 21,
   "id": "d390c1a7",
   "metadata": {},
   "outputs": [
    {
     "name": "stdout",
     "output_type": "stream",
     "text": [
      "Hoje vai chover!\n"
     ]
    }
   ],
   "source": [
    "if dia == \"Segunda\":\n",
    "    print(\"Hoje fará sol!\")\n",
    "elif dia == \"Terça\":\n",
    "    print(\"Hoje vai chover!\")\n",
    "else:\n",
    "    print(\"Sem previsão do tempo para o dia selecionado\")"
   ]
  },
  {
   "cell_type": "markdown",
   "id": "4788ac48",
   "metadata": {},
   "source": [
    "### 7.4. Operadores lógicos"
   ]
  },
  {
   "cell_type": "code",
   "execution_count": 23,
   "id": "154e48d2",
   "metadata": {},
   "outputs": [
    {
     "name": "stdout",
     "output_type": "stream",
     "text": [
      "Você pode dirigir!\n"
     ]
    }
   ],
   "source": [
    "idade = 18\n",
    "Nome = \"Bob\"\n",
    "if idade > 17:\n",
    "    print(\"Você pode dirigir!\")"
   ]
  },
  {
   "cell_type": "code",
   "execution_count": 25,
   "id": "0cdda831",
   "metadata": {},
   "outputs": [
    {
     "name": "stdout",
     "output_type": "stream",
     "text": [
      "Autorizado!\n"
     ]
    }
   ],
   "source": [
    "idade = 18\n",
    "if idade > 17 and Nome == \"Bob\":\n",
    "    print(\"Autorizado!\")"
   ]
  },
  {
   "cell_type": "code",
   "execution_count": 27,
   "id": "3f4a6733",
   "metadata": {},
   "outputs": [
    {
     "name": "stdout",
     "output_type": "stream",
     "text": [
      "Digite o nome da disciplina: Geografia\n",
      "Digite a nota final: 60\n",
      "Lamento, acho que você precisa estudar mais!\n"
     ]
    }
   ],
   "source": [
    "# Usando mais de uma condição na claúsula IF\n",
    "\n",
    "disciplina = input(\"Digite o nome da disciplina: \")\n",
    "nota_final = input(\"Digite a nota final (entre 0 e 100): \")\n",
    "\n",
    "if disciplina == \"Geografia\" and nota_final >= '70':\n",
    "    print(\"Você foi aprovado!\")\n",
    "else:\n",
    "    print(\"Lamento, acho que você precisa estudar mais!\")"
   ]
  },
  {
   "cell_type": "code",
   "execution_count": 30,
   "id": "6dfca4a5",
   "metadata": {},
   "outputs": [
    {
     "name": "stdout",
     "output_type": "stream",
     "text": [
      "Digite o nome da disciplina: Geografia\n",
      "Digite a nota final (entre 0 e 100): 50\n",
      "Digite o semestre (1 a 4): 4\n",
      "Você foi aprovado em Geografia com média final '50'!\n"
     ]
    }
   ],
   "source": [
    "# Usando mais de uma condição na claúsula IF e introduzindo Placeholders\n",
    "\n",
    "disciplina = input(\"Digite o nome da disciplina: \")\n",
    "nota_final = input(\"Digite a nota final (entre 0 e 100): \")\n",
    "semestre = input(\"Digite o semestre (1 a 4): \")\n",
    "\n",
    "if disciplina == \"Geografia\" and nota_final >= '50' and int(semestre) != 1:\n",
    "    print(\"Você foi aprovado em %s com média final %r!\" %(disciplina, nota_final))\n",
    "else:\n",
    "    print(\"Lamento, acho que você precisa estudar mais!\")"
   ]
  },
  {
   "cell_type": "markdown",
   "id": "16951d55",
   "metadata": {},
   "source": [
    "#### Fique atento aos espaços entre a margem e cada um dos seus comandos."
   ]
  },
  {
   "cell_type": "markdown",
   "id": "7b29b7ef",
   "metadata": {},
   "source": [
    "### FIM"
   ]
  }
 ],
 "metadata": {
  "kernelspec": {
   "display_name": "Python 3",
   "language": "python",
   "name": "python3"
  },
  "language_info": {
   "codemirror_mode": {
    "name": "ipython",
    "version": 3
   },
   "file_extension": ".py",
   "mimetype": "text/x-python",
   "name": "python",
   "nbconvert_exporter": "python",
   "pygments_lexer": "ipython3",
   "version": "3.8.8"
  }
 },
 "nbformat": 4,
 "nbformat_minor": 5
}
