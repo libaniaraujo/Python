{
 "cells": [
  {
   "cell_type": "markdown",
   "id": "4485613b",
   "metadata": {},
   "source": [
    "# TENSOR FLOW"
   ]
  },
  {
   "cell_type": "markdown",
   "id": "1ae5f62b",
   "metadata": {},
   "source": [
    "TensorFlow é uma biblioteca de código aberto para aprendizado de máquina aplicável a uma ampla variedade de tarefas. É um sistema para criação e treinamento de redes neurais para detectar e decifrar padrões e correlações, análogo (mas não igual) à forma como humanos aprendem e raciocinam. Ele é usado tanto para a pesquisa quanto produção no Google, e está aos poucos substituindo seu antecessor de código proprietário, DistBelief.\n",
    "\n",
    "O Tensorflow é uma das bibliotecas mais amplamente utilizadas para implementar o aprendizado de máquina e outros algoritmos que envolvem grandes operações matemáticas. O Tensorflow foi desenvolvido pelo Google e é uma das bibliotecas de aprendizado de máquina mais populares no GitHub. O Google usa o Tensorflow para aprendizado de máquina em quase todos os aplicativos. Se você já usou o Google Photos ou o Google Voice Search, então já utlizou uma aplicação criada com a ajuda do TensorFlow. Vamos compreender os detalhes por trás do TensorFlow. \n",
    "\n",
    "(Site oficial: https://www.tensorflow.org/)"
   ]
  },
  {
   "cell_type": "markdown",
   "id": "7abf4c45",
   "metadata": {},
   "source": [
    "#### O que são tensores?\n",
    "\n",
    "Matematicamente, um tensor é um vetor N-dimensional, significando que um tensor pode ser usado para representar conjuntos de dados N-dimensionais.\n",
    "\n",
    "#### TensorFlow x Numpy\n",
    "\n",
    "TensorFlow e NumPy são bastante semelhantes (ambos são bibliotecas de matriz N-d). NumPy é o pacote fundamental para computação científica com Python. Ele contém um poderoso objeto array N-dimensional, funções sofisticadas (broadcasting) e etc. Acredito que os usuários Python não podem viver sem o NumPy. O NumPy tem suporte a matriz N-d, mas não oferece métodos para criar funções de tensor e automaticamente computar derivadas, além de não ter suporte a GPU, e esta é uma das principais razões para a existência do TensorFlow. Abaixo uma comparação entre NumPy e TensorFlow, e você vai perceber que muitas palavras-chave são semelhantes.\n",
    "\n",
    "#### Grafo Computacional\n",
    "\n",
    "Grafos computacionais são uma boa maneira de pensar em expressões matemáticas. O conceito de grafo foi introduzido por Leonhard Euler em 1736 para tentar resolver o problema das Pontes de Konigsberg. Grafos são modelos matemáticos para resolver problemas práticos do dia a dia, com várias aplicações no mundo real tais como: circuitos elétricos, redes de distribuição, relações de parentesco entre pessoas, análise de redes sociais, logística, redes de estradas, redes de computadores e muito mais. Grafos são muito usados para modelar problemas em computação.\n",
    "\n",
    "Um Grafo é um modelo matemático que representa relações entre objetos. Um grafo G = (V, E) consiste de um conjunto de vértices V (também chamados de nós), ligados por um conjunto de bordas ou arestas E."
   ]
  },
  {
   "cell_type": "code",
   "execution_count": null,
   "id": "42b3ec0a",
   "metadata": {},
   "outputs": [],
   "source": [
    "!pip install tensorflow"
   ]
  },
  {
   "cell_type": "code",
   "execution_count": null,
   "id": "fca717a6",
   "metadata": {},
   "outputs": [],
   "source": [
    "import tensorflow as tf"
   ]
  },
  {
   "cell_type": "code",
   "execution_count": null,
   "id": "364de179",
   "metadata": {},
   "outputs": [],
   "source": [
    "tf.__version__"
   ]
  },
  {
   "cell_type": "code",
   "execution_count": null,
   "id": "1dddb552",
   "metadata": {},
   "outputs": [],
   "source": [
    "# Cria um tensor\n",
    "# Esse tensor é adicionado como um nó ao grafo.\n",
    "hello = tf.constant('Hello, TensorFlow!')"
   ]
  },
  {
   "cell_type": "code",
   "execution_count": null,
   "id": "9ff78017",
   "metadata": {},
   "outputs": [],
   "source": [
    "print(hello)"
   ]
  },
  {
   "cell_type": "markdown",
   "id": "f6c38fcd",
   "metadata": {},
   "source": [
    "## Operações Matemáticas com Tensores"
   ]
  },
  {
   "cell_type": "markdown",
   "id": "f58144e8",
   "metadata": {},
   "source": [
    "### Soma"
   ]
  },
  {
   "cell_type": "code",
   "execution_count": null,
   "id": "5eab3794",
   "metadata": {},
   "outputs": [],
   "source": [
    "const_a = tf.constant(5)\n",
    "const_b = tf.constant(9)"
   ]
  },
  {
   "cell_type": "code",
   "execution_count": null,
   "id": "26c90d61",
   "metadata": {},
   "outputs": [],
   "source": [
    "print(const_a)"
   ]
  },
  {
   "cell_type": "code",
   "execution_count": null,
   "id": "9a71f49c",
   "metadata": {},
   "outputs": [],
   "source": [
    "# Soma\n",
    "total = const_a + const_b"
   ]
  },
  {
   "cell_type": "code",
   "execution_count": null,
   "id": "b950a7a6",
   "metadata": {},
   "outputs": [],
   "source": [
    "total"
   ]
  },
  {
   "cell_type": "code",
   "execution_count": null,
   "id": "66df4898",
   "metadata": {},
   "outputs": [],
   "source": [
    "# Criando os nodes no grafo computacional\n",
    "node1 = tf.constant(5, dtype = tf.int32)\n",
    "node2 = tf.constant(9, dtype = tf.int32)\n",
    "node3 = tf.add(node1, node2)\n",
    " \n",
    "# Executa o grafo\n",
    "print(\"\\nA soma do node1 com o node2 é:\", node3)"
   ]
  },
  {
   "cell_type": "markdown",
   "id": "8f35abd5",
   "metadata": {},
   "source": [
    "### Subtração"
   ]
  },
  {
   "cell_type": "code",
   "execution_count": null,
   "id": "a4bf2b7f",
   "metadata": {},
   "outputs": [],
   "source": [
    "# Tensores randômicos\n",
    "rand_a = tf.random.normal([3], 2.0)\n",
    "rand_b = tf.random.uniform([3], 1.0, 4.0)"
   ]
  },
  {
   "cell_type": "code",
   "execution_count": null,
   "id": "dc721c10",
   "metadata": {},
   "outputs": [],
   "source": [
    "print(rand_a)"
   ]
  },
  {
   "cell_type": "code",
   "execution_count": null,
   "id": "3f4a9d3a",
   "metadata": {},
   "outputs": [],
   "source": [
    "print(rand_b)"
   ]
  },
  {
   "cell_type": "code",
   "execution_count": null,
   "id": "5b8e6535",
   "metadata": {},
   "outputs": [],
   "source": [
    "# Subtração\n",
    "diff = tf.subtract(rand_a, rand_b)"
   ]
  },
  {
   "cell_type": "code",
   "execution_count": null,
   "id": "a98c7f9e",
   "metadata": {},
   "outputs": [],
   "source": [
    "type(diff)"
   ]
  },
  {
   "cell_type": "code",
   "execution_count": null,
   "id": "ad702358",
   "metadata": {},
   "outputs": [],
   "source": [
    "print('\\nSubtração entre os 2 tensores é: ', diff)"
   ]
  },
  {
   "cell_type": "markdown",
   "id": "f69c1a24",
   "metadata": {},
   "source": [
    "### Divisão"
   ]
  },
  {
   "cell_type": "code",
   "execution_count": null,
   "id": "12a9a1ca",
   "metadata": {},
   "outputs": [],
   "source": [
    "# Tensores\n",
    "node1 = tf.constant(21, dtype = tf.int32)\n",
    "node2 = tf.constant(7, dtype = tf.int32)"
   ]
  },
  {
   "cell_type": "code",
   "execution_count": null,
   "id": "33b2aff2",
   "metadata": {},
   "outputs": [],
   "source": [
    "# Divisão\n",
    "div = tf.math.truediv(node1, node2)"
   ]
  },
  {
   "cell_type": "code",
   "execution_count": null,
   "id": "070f5704",
   "metadata": {},
   "outputs": [],
   "source": [
    "print('\\nDivisão Entre os Tensores: \\n', div)"
   ]
  },
  {
   "cell_type": "markdown",
   "id": "a0e30ec6",
   "metadata": {},
   "source": [
    "### Multiplicação"
   ]
  },
  {
   "cell_type": "code",
   "execution_count": null,
   "id": "8d23ae68",
   "metadata": {},
   "outputs": [],
   "source": [
    "# Criando tensores\n",
    "tensor_a = tf.constant([[4., 2.]])\n",
    "tensor_b = tf.constant([[3.],[7.]])"
   ]
  },
  {
   "cell_type": "code",
   "execution_count": null,
   "id": "922088db",
   "metadata": {},
   "outputs": [],
   "source": [
    "print(tensor_a)"
   ]
  },
  {
   "cell_type": "code",
   "execution_count": null,
   "id": "aaf74b2a",
   "metadata": {},
   "outputs": [],
   "source": [
    "print(tensor_b)"
   ]
  },
  {
   "cell_type": "code",
   "execution_count": null,
   "id": "f77c4828",
   "metadata": {},
   "outputs": [],
   "source": [
    "# Multiplicação\n",
    "# tf.math.multiply(X, Y) executa multiplicação element-wise \n",
    "# https://www.tensorflow.org/api_docs/python/tf/math/multiply\n",
    "prod = tf.math.multiply(tensor_a, tensor_b)"
   ]
  },
  {
   "cell_type": "code",
   "execution_count": null,
   "id": "ec933c03",
   "metadata": {},
   "outputs": [],
   "source": [
    "print('\\nProduto Element-wise Entre os Tensores: \\n', prod)"
   ]
  },
  {
   "cell_type": "code",
   "execution_count": null,
   "id": "16529e75",
   "metadata": {},
   "outputs": [],
   "source": [
    "# Outro exemplo de Multiplicação de Matrizes\n",
    "mat_a = tf.constant([[2, 3], [9, 2], [4, 5]])\n",
    "mat_b = tf.constant([[6, 4, 5], [3, 7, 2]])"
   ]
  },
  {
   "cell_type": "code",
   "execution_count": null,
   "id": "a02298c4",
   "metadata": {},
   "outputs": [],
   "source": [
    "print(mat_a)"
   ]
  },
  {
   "cell_type": "code",
   "execution_count": null,
   "id": "96cc98f3",
   "metadata": {},
   "outputs": [],
   "source": [
    "print(mat_b)"
   ]
  },
  {
   "cell_type": "code",
   "execution_count": null,
   "id": "73925b7f",
   "metadata": {},
   "outputs": [],
   "source": [
    "# Multiplicação\n",
    "# tf.linalg.matmul(X, Y) executa multiplicação entre matrizes \n",
    "# https://www.tensorflow.org/api_docs/python/tf/linalg/matmul\n",
    "mat_prod = tf.linalg.matmul(mat_a, mat_b)"
   ]
  },
  {
   "cell_type": "code",
   "execution_count": null,
   "id": "29513fa1",
   "metadata": {},
   "outputs": [],
   "source": [
    "print('\\nProduto Element-wise Entre os Tensores (Matrizes): \\n', mat_prod)"
   ]
  },
  {
   "cell_type": "markdown",
   "id": "19238536",
   "metadata": {},
   "source": [
    "## Usando Variáveis"
   ]
  },
  {
   "cell_type": "markdown",
   "id": "ffffd366",
   "metadata": {},
   "source": [
    "O TensorFlow também possui nodes variáveis que podem conter dados variáveis. Elas são usados principalmente para manter e atualizar parâmetros de um modelo de treinamento.\n",
    "\n",
    "Variáveis são buffers na memória contendo tensores. Elas devem ser inicializados e podem ser salvas durante e após o treinamento. Você pode restaurar os valores salvos posteriormente para exercitar ou analisar o modelo.\n",
    "\n",
    "Uma diferença importante a notar entre uma constante e uma variável é:\n",
    "\n",
    "O valor de uma constante é armazenado no grafo e seu valor é replicado onde o grafo é carregado. Uma variável é armazenada separadamente e pode estar em um servidor de parâmetros."
   ]
  },
  {
   "cell_type": "code",
   "execution_count": null,
   "id": "bfaa94ad",
   "metadata": {},
   "outputs": [],
   "source": [
    "# Criado o mesmo tensor com tf.Variable() e tf.constant()\n",
    "changeable_tensor = tf.Variable([10, 7])\n",
    "unchangeable_tensor = tf.constant([10, 7])\n",
    "changeable_tensor, unchangeable_tensor"
   ]
  },
  {
   "cell_type": "code",
   "execution_count": null,
   "id": "0d836666",
   "metadata": {},
   "outputs": [],
   "source": [
    "# Isso vai gerar erro - requer o método assign()\n",
    "changeable_tensor[0] = 7\n",
    "changeable_tensor"
   ]
  },
  {
   "cell_type": "code",
   "execution_count": null,
   "id": "44aa6131",
   "metadata": {},
   "outputs": [],
   "source": [
    "# Isso vai funcionar\n",
    "changeable_tensor[0].assign(7)\n",
    "changeable_tensor"
   ]
  },
  {
   "cell_type": "code",
   "execution_count": null,
   "id": "4a253eb2",
   "metadata": {},
   "outputs": [],
   "source": [
    "# Isso vai gerar erro (não podemos alterar tensores criados com tf.constant())\n",
    "unchangeable_tensor[0].assign(7)\n",
    "unchangleable_tensor"
   ]
  },
  {
   "cell_type": "markdown",
   "id": "ee356711",
   "metadata": {},
   "source": [
    "Qual você deve usar? tf.constant () ou tf.Variable ()?\n",
    "\n",
    "Dependerá do que o seu problema requer. No entanto, na maioria das vezes, o TensorFlow escolhe automaticamente para você (ao carregar dados ou modelar dados)."
   ]
  },
  {
   "cell_type": "markdown",
   "id": "59b91e72",
   "metadata": {},
   "source": [
    "## Outras Formas de Criar Tensores"
   ]
  },
  {
   "cell_type": "code",
   "execution_count": null,
   "id": "9d8d0e80",
   "metadata": {},
   "outputs": [],
   "source": [
    "# Tensor preenchido com 1\n",
    "tf.ones(shape=(3, 2))"
   ]
  },
  {
   "cell_type": "code",
   "execution_count": null,
   "id": "76c49df2",
   "metadata": {},
   "outputs": [],
   "source": [
    "# Tensor preenchido com 0\n",
    "tf.zeros(shape=(3, 2))"
   ]
  },
  {
   "cell_type": "code",
   "execution_count": null,
   "id": "e727303f",
   "metadata": {},
   "outputs": [],
   "source": [
    "# Cria um tensor rank 4 (4 dimensões)\n",
    "rank_4_tensor = tf.zeros([2, 3, 4, 5])\n",
    "rank_4_tensor"
   ]
  },
  {
   "cell_type": "code",
   "execution_count": null,
   "id": "c7d57d96",
   "metadata": {},
   "outputs": [],
   "source": [
    "# Imprime atributos do tensor\n",
    "print(\"Tipo de dado de cada elemento:\", rank_4_tensor.dtype)\n",
    "print(\"Número de dimensões (rank):\", rank_4_tensor.ndim)\n",
    "print(\"Shape do tensor:\", rank_4_tensor.shape)\n",
    "print(\"Elementos no eixo 0 do tensor:\", rank_4_tensor.shape[0])\n",
    "print(\"Elementos no último eixo do tensor:\", rank_4_tensor.shape[-1])\n",
    "print(\"Número total de elementos (2*3*4*5):\", tf.size(rank_4_tensor).numpy())"
   ]
  },
  {
   "cell_type": "code",
   "execution_count": null,
   "id": "47739c28",
   "metadata": {},
   "outputs": [],
   "source": [
    "# Obtém os 2 primeiros itens de cada dimensão\n",
    "rank_4_tensor[:2, :2, :2, :2]"
   ]
  },
  {
   "cell_type": "code",
   "execution_count": null,
   "id": "236a7819",
   "metadata": {},
   "outputs": [],
   "source": [
    "# Obtém a dimensão de cada índice, exceto o final\n",
    "rank_4_tensor[:1, :1, :1, :]"
   ]
  },
  {
   "cell_type": "code",
   "execution_count": null,
   "id": "017e0478",
   "metadata": {},
   "outputs": [],
   "source": [
    "# Cria um tensor e rank 2 (2 dimensões)\n",
    "rank_2_tensor = tf.constant([[10, 7],\n",
    "                             [3, 4]])"
   ]
  },
  {
   "cell_type": "code",
   "execution_count": null,
   "id": "a23c547f",
   "metadata": {},
   "outputs": [],
   "source": [
    "# Obtém o último item de cada linha\n",
    "rank_2_tensor[:, -1]"
   ]
  },
  {
   "cell_type": "markdown",
   "id": "06c57dc8",
   "metadata": {},
   "source": [
    "## FIM"
   ]
  }
 ],
 "metadata": {
  "kernelspec": {
   "display_name": "Python 3",
   "language": "python",
   "name": "python3"
  },
  "language_info": {
   "codemirror_mode": {
    "name": "ipython",
    "version": 3
   },
   "file_extension": ".py",
   "mimetype": "text/x-python",
   "name": "python",
   "nbconvert_exporter": "python",
   "pygments_lexer": "ipython3",
   "version": "3.8.8"
  }
 },
 "nbformat": 4,
 "nbformat_minor": 5
}
